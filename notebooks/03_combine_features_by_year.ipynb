{
 "cells": [
  {
   "cell_type": "markdown",
   "id": "bd532c54-8bce-4dc3-bf96-cbc1e2df1340",
   "metadata": {},
   "source": [
    "# Combine Feature Files by Year\n",
    "\n",
    "## Purpose\n",
    "This notebook combines individual feature CSV files for each year (2012–2019) into consolidated datasets. It merges feature files horizontally for each year and stacks the yearly datasets vertically into a single file for all years.\n",
    "\n",
    "## Output\n",
    "- Combined feature files for each year saved in `data/processed/combined_by_year`.\n",
    "- A single dataset for all years saved in `data/processed/all_features_2012_to_2019.csv`.\n",
    "\n",
    "## Notes\n",
    "- The merging is based on common columns: `County`, `State`, `State_FIPS`, and `County_FIPS`.\n",
    "- Duplicate columns are removed, and an **outer join** is used to ensure consistency across features."
   ]
  },
  {
   "cell_type": "code",
   "execution_count": 2,
   "id": "111c9494-23d5-4833-9cf7-9d8504e4ff2c",
   "metadata": {},
   "outputs": [],
   "source": [
    "import pandas as pd\n",
    "from pathlib import Path\n",
    "import os"
   ]
  },
  {
   "cell_type": "code",
   "execution_count": 4,
   "id": "e54be051-d6a2-423c-b31c-330d9e9919fd",
   "metadata": {},
   "outputs": [],
   "source": [
    "# Directory containing the CSV files\n",
    "directory = Path(\"../data/processed/final_dataset/all_features_2012_to_2019\")\n",
    "output_directory = Path(\"../data/processed/combined_by_year\") \n",
    "\n",
    "output_directory.mkdir(parents=True, exist_ok=True)  # Ensure the output directory exists"
   ]
  },
  {
   "cell_type": "code",
   "execution_count": 6,
   "id": "fe8636c4-f661-403c-9ed4-01f6b53e40cd",
   "metadata": {},
   "outputs": [],
   "source": [
    "# Function to combine all features for a single year horizontally\n",
    "def combine_features_for_year(year):\n",
    "    \"\"\"\n",
    "    Combines all feature files for a single year by merging them horizontally \n",
    "    while retaining the mean_life_expectancy column.\n",
    "    \"\"\"\n",
    "    # Get all files for the given year\n",
    "    files = directory.glob(f\"*{year}.csv\")\n",
    "    dataframes = [pd.read_csv(file) for file in files]  # Read all files for the year\n",
    "    \n",
    "    # Merge all files horizontally on common keys\n",
    "    combined_year_df = dataframes[0]\n",
    "    for df in dataframes[1:]:\n",
    "        combined_year_df = pd.merge(combined_year_df, df, \n",
    "                                    on=[\"County\", \"State\", \"State_FIPS\", \"County_FIPS\", \"mean_life_expectancy\"], \n",
    "                                    how=\"outer\")\n",
    "    \n",
    "    # Add the Year column for identification\n",
    "    combined_year_df[\"Year\"] = year\n",
    "    \n",
    "    # Save the combined file for the year\n",
    "    combined_year_filepath = output_directory / f\"combined_features_{year}.csv\"\n",
    "    combined_year_df.to_csv(combined_year_filepath, index=False)\n",
    "    print(f\"Saved combined features for {year} at {combined_year_filepath}\")\n",
    "    \n",
    "    return combined_year_df"
   ]
  },
  {
   "cell_type": "code",
   "execution_count": 8,
   "id": "5d65c979-5f9d-44f1-959a-29d7282ea230",
   "metadata": {},
   "outputs": [],
   "source": [
    "# Function to combine all years into a single DataFrame vertically\n",
    "def combine_all_years(start_year, end_year):\n",
    "    \"\"\"\n",
    "    Combines all years by merging each year's horizontally combined features vertically.\n",
    "    \"\"\"\n",
    "    all_years_dataframes = []\n",
    "    \n",
    "    for year in range(start_year, end_year + 1):\n",
    "        # Combine features for the year and save the file\n",
    "        yearly_df = combine_features_for_year(year)\n",
    "        all_years_dataframes.append(yearly_df)\n",
    "    \n",
    "    # Combine all years vertically\n",
    "    combined_all_years_df = pd.concat(all_years_dataframes, axis=0, ignore_index=True)\n",
    "    \n",
    "    # Save the final combined file\n",
    "    combined_all_years_filepath = output_directory / \"combined_all_years.csv\"\n",
    "    combined_all_years_df.to_csv(combined_all_years_filepath, index=False)\n",
    "    print(f\"Saved combined file for all years at {combined_all_years_filepath}\")\n",
    "    \n",
    "    return combined_all_years_df"
   ]
  },
  {
   "cell_type": "code",
   "execution_count": 10,
   "id": "6a2a6ee3-2f71-4460-b9dc-f2a453d4779a",
   "metadata": {},
   "outputs": [
    {
     "name": "stdout",
     "output_type": "stream",
     "text": [
      "Saved combined features for 2012 at ../data/processed/combined_by_year/combined_features_2012.csv\n",
      "Saved combined features for 2013 at ../data/processed/combined_by_year/combined_features_2013.csv\n",
      "Saved combined features for 2014 at ../data/processed/combined_by_year/combined_features_2014.csv\n",
      "Saved combined features for 2015 at ../data/processed/combined_by_year/combined_features_2015.csv\n",
      "Saved combined features for 2016 at ../data/processed/combined_by_year/combined_features_2016.csv\n",
      "Saved combined features for 2017 at ../data/processed/combined_by_year/combined_features_2017.csv\n",
      "Saved combined features for 2018 at ../data/processed/combined_by_year/combined_features_2018.csv\n",
      "Saved combined features for 2019 at ../data/processed/combined_by_year/combined_features_2019.csv\n",
      "Saved combined file for all years at ../data/processed/combined_by_year/combined_all_years.csv\n",
      "<class 'pandas.core.frame.DataFrame'>\n",
      "RangeIndex: 24888 entries, 0 to 24887\n",
      "Data columns (total 28 columns):\n",
      " #   Column                          Non-Null Count  Dtype  \n",
      "---  ------                          --------------  -----  \n",
      " 0   County                          24888 non-null  object \n",
      " 1   State                           24888 non-null  object \n",
      " 2   mean_life_expectancy            24888 non-null  float64\n",
      " 3   State_FIPS                      24888 non-null  int64  \n",
      " 4   County_FIPS                     24888 non-null  int64  \n",
      " 5   disability_rate                 24872 non-null  float64\n",
      " 6   white_population                24872 non-null  float64\n",
      " 7   total_population                24872 non-null  float64\n",
      " 8   age_60_and_over                 24872 non-null  float64\n",
      " 9   poverty_rate                    24871 non-null  float64\n",
      " 10  housing_cost_burden             24871 non-null  float64\n",
      " 11  bachelors_and_above_percentage  24872 non-null  float64\n",
      " 12  median_gross_rent               24871 non-null  float64\n",
      " 13  age_15_to_44_percentage         24872 non-null  float64\n",
      " 14  gini_index                      24871 non-null  float64\n",
      " 15  native_american_population      24872 non-null  float64\n",
      " 16  less_than_9th_grade_percentage  24872 non-null  float64\n",
      " 17  health_insurance_rate           24872 non-null  float64\n",
      " 18  unemployment_rate               24871 non-null  float64\n",
      " 19  median_household_income         24871 non-null  float64\n",
      " 20  asian_population                24872 non-null  float64\n",
      " 21  per_capita_income               24871 non-null  float64\n",
      " 22  total_population_race           24872 non-null  float64\n",
      " 23  high_school_only_percentage     24872 non-null  float64\n",
      " 24  median_home_value               24872 non-null  float64\n",
      " 25  black_population                24872 non-null  float64\n",
      " 26  age_18_and_under_percentage     24872 non-null  float64\n",
      " 27  Year                            24888 non-null  int64  \n",
      "dtypes: float64(23), int64(3), object(2)\n",
      "memory usage: 5.3+ MB\n",
      "None\n"
     ]
    }
   ],
   "source": [
    "# Example: Combine all files from 2012 to 2019\n",
    "final_combined_df = combine_all_years(2012, 2019)\n",
    "\n",
    "# Verify the final combined DataFrame\n",
    "print(final_combined_df.info())"
   ]
  },
  {
   "cell_type": "code",
   "execution_count": null,
   "id": "640c84e7-abfa-4cd8-ae9b-963b9f02e522",
   "metadata": {},
   "outputs": [],
   "source": []
  }
 ],
 "metadata": {
  "kernelspec": {
   "display_name": "Python (main_env)",
   "language": "python",
   "name": "main_env"
  },
  "language_info": {
   "codemirror_mode": {
    "name": "ipython",
    "version": 3
   },
   "file_extension": ".py",
   "mimetype": "text/x-python",
   "name": "python",
   "nbconvert_exporter": "python",
   "pygments_lexer": "ipython3",
   "version": "3.9.18"
  }
 },
 "nbformat": 4,
 "nbformat_minor": 5
}
