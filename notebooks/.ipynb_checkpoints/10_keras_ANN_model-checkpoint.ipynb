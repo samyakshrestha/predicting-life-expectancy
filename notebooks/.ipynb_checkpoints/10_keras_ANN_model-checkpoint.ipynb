{
 "cells": [
  {
   "cell_type": "markdown",
   "id": "d64c36b6-fef3-4c8f-a677-85e428222735",
   "metadata": {},
   "source": [
    "# Importing the Necessary Libraries:"
   ]
  },
  {
   "cell_type": "code",
   "execution_count": 201,
   "id": "c2e78bd9-127b-48a4-b644-6285a6def699",
   "metadata": {},
   "outputs": [],
   "source": [
    "import pandas as pd\n",
    "import numpy as np\n",
    "from sklearn.metrics import mean_squared_error, mean_absolute_error, r2_score\n",
    "import matplotlib.pyplot as plt\n",
    "import seaborn as sns\n",
    "from scipy.stats import pearsonr\n",
    "import statsmodels.api as sm\n",
    "from sklearn.inspection import permutation_importance\n",
    "\n",
    "from sklearn.model_selection import train_test_split\n",
    "from sklearn.preprocessing import StandardScaler\n",
    "from tensorflow.keras.models import Sequential\n",
    "from tensorflow.keras.layers import Dense, Dropout, BatchNormalization\n",
    "from tensorflow.keras.optimizers.legacy import Adam\n",
    "from tensorflow.keras.callbacks import EarlyStopping, ReduceLROnPlateau\n",
    "from tensorflow.keras.regularizers import l2\n",
    "\n",
    "%matplotlib inline"
   ]
  },
  {
   "cell_type": "code",
   "execution_count": 203,
   "id": "d96d57be-aeb9-4b42-8d16-327ddda72cec",
   "metadata": {},
   "outputs": [
    {
     "data": {
      "text/html": [
       "<div>\n",
       "<style scoped>\n",
       "    .dataframe tbody tr th:only-of-type {\n",
       "        vertical-align: middle;\n",
       "    }\n",
       "\n",
       "    .dataframe tbody tr th {\n",
       "        vertical-align: top;\n",
       "    }\n",
       "\n",
       "    .dataframe thead th {\n",
       "        text-align: right;\n",
       "    }\n",
       "</style>\n",
       "<table border=\"1\" class=\"dataframe\">\n",
       "  <thead>\n",
       "    <tr style=\"text-align: right;\">\n",
       "      <th></th>\n",
       "      <th>County</th>\n",
       "      <th>State</th>\n",
       "      <th>mean_life_expectancy</th>\n",
       "      <th>disability_rate</th>\n",
       "      <th>total_population</th>\n",
       "      <th>age_60_and_over</th>\n",
       "      <th>poverty_rate</th>\n",
       "      <th>housing_cost_burden</th>\n",
       "      <th>bachelors_and_above_percentage</th>\n",
       "      <th>median_gross_rent</th>\n",
       "      <th>...</th>\n",
       "      <th>median_household_income</th>\n",
       "      <th>per_capita_income</th>\n",
       "      <th>high_school_only_percentage</th>\n",
       "      <th>median_home_value</th>\n",
       "      <th>age_18_and_under_percentage</th>\n",
       "      <th>Year</th>\n",
       "      <th>white_percentage</th>\n",
       "      <th>black_percentage</th>\n",
       "      <th>native_american_percentage</th>\n",
       "      <th>asian_percentage</th>\n",
       "    </tr>\n",
       "  </thead>\n",
       "  <tbody>\n",
       "    <tr>\n",
       "      <th>0</th>\n",
       "      <td>Abbeville County</td>\n",
       "      <td>South Carolina</td>\n",
       "      <td>76.554614</td>\n",
       "      <td>19.7</td>\n",
       "      <td>25387.0</td>\n",
       "      <td>14.7</td>\n",
       "      <td>20.8</td>\n",
       "      <td>221.0</td>\n",
       "      <td>11.7</td>\n",
       "      <td>593.0</td>\n",
       "      <td>...</td>\n",
       "      <td>35067.0</td>\n",
       "      <td>17876.0</td>\n",
       "      <td>34.8</td>\n",
       "      <td>90300.0</td>\n",
       "      <td>10.2</td>\n",
       "      <td>2012</td>\n",
       "      <td>69.953126</td>\n",
       "      <td>28.140387</td>\n",
       "      <td>0.070902</td>\n",
       "      <td>0.059085</td>\n",
       "    </tr>\n",
       "    <tr>\n",
       "      <th>1</th>\n",
       "      <td>Acadia Parish</td>\n",
       "      <td>Louisiana</td>\n",
       "      <td>74.133702</td>\n",
       "      <td>17.9</td>\n",
       "      <td>61611.0</td>\n",
       "      <td>10.9</td>\n",
       "      <td>19.1</td>\n",
       "      <td>339.0</td>\n",
       "      <td>9.3</td>\n",
       "      <td>541.0</td>\n",
       "      <td>...</td>\n",
       "      <td>38686.0</td>\n",
       "      <td>19369.0</td>\n",
       "      <td>42.2</td>\n",
       "      <td>88900.0</td>\n",
       "      <td>9.9</td>\n",
       "      <td>2012</td>\n",
       "      <td>78.789502</td>\n",
       "      <td>18.152603</td>\n",
       "      <td>0.220740</td>\n",
       "      <td>0.274302</td>\n",
       "    </tr>\n",
       "    <tr>\n",
       "      <th>2</th>\n",
       "      <td>Accomack County</td>\n",
       "      <td>Virginia</td>\n",
       "      <td>75.798941</td>\n",
       "      <td>11.8</td>\n",
       "      <td>33454.0</td>\n",
       "      <td>17.5</td>\n",
       "      <td>20.2</td>\n",
       "      <td>199.0</td>\n",
       "      <td>17.3</td>\n",
       "      <td>741.0</td>\n",
       "      <td>...</td>\n",
       "      <td>40780.0</td>\n",
       "      <td>22909.0</td>\n",
       "      <td>39.3</td>\n",
       "      <td>153800.0</td>\n",
       "      <td>8.0</td>\n",
       "      <td>2012</td>\n",
       "      <td>67.513601</td>\n",
       "      <td>28.755904</td>\n",
       "      <td>0.334788</td>\n",
       "      <td>0.122556</td>\n",
       "    </tr>\n",
       "    <tr>\n",
       "      <th>3</th>\n",
       "      <td>Ada County</td>\n",
       "      <td>Idaho</td>\n",
       "      <td>80.699209</td>\n",
       "      <td>9.6</td>\n",
       "      <td>394961.0</td>\n",
       "      <td>9.3</td>\n",
       "      <td>12.2</td>\n",
       "      <td>4338.0</td>\n",
       "      <td>37.8</td>\n",
       "      <td>821.0</td>\n",
       "      <td>...</td>\n",
       "      <td>55499.0</td>\n",
       "      <td>27522.0</td>\n",
       "      <td>20.8</td>\n",
       "      <td>193300.0</td>\n",
       "      <td>9.2</td>\n",
       "      <td>2012</td>\n",
       "      <td>91.925532</td>\n",
       "      <td>1.027190</td>\n",
       "      <td>0.536002</td>\n",
       "      <td>2.593674</td>\n",
       "    </tr>\n",
       "    <tr>\n",
       "      <th>4</th>\n",
       "      <td>Adair County</td>\n",
       "      <td>Iowa</td>\n",
       "      <td>78.760544</td>\n",
       "      <td>13.7</td>\n",
       "      <td>7628.0</td>\n",
       "      <td>18.6</td>\n",
       "      <td>9.9</td>\n",
       "      <td>43.0</td>\n",
       "      <td>11.5</td>\n",
       "      <td>511.0</td>\n",
       "      <td>...</td>\n",
       "      <td>47872.0</td>\n",
       "      <td>25147.0</td>\n",
       "      <td>45.5</td>\n",
       "      <td>96700.0</td>\n",
       "      <td>7.1</td>\n",
       "      <td>2012</td>\n",
       "      <td>97.758259</td>\n",
       "      <td>0.144206</td>\n",
       "      <td>0.157315</td>\n",
       "      <td>0.603041</td>\n",
       "    </tr>\n",
       "  </tbody>\n",
       "</table>\n",
       "<p>5 rows × 25 columns</p>\n",
       "</div>"
      ],
      "text/plain": [
       "             County           State  mean_life_expectancy  disability_rate  \\\n",
       "0  Abbeville County  South Carolina             76.554614             19.7   \n",
       "1     Acadia Parish       Louisiana             74.133702             17.9   \n",
       "2   Accomack County        Virginia             75.798941             11.8   \n",
       "3        Ada County           Idaho             80.699209              9.6   \n",
       "4      Adair County            Iowa             78.760544             13.7   \n",
       "\n",
       "   total_population  age_60_and_over  poverty_rate  housing_cost_burden  \\\n",
       "0           25387.0             14.7          20.8                221.0   \n",
       "1           61611.0             10.9          19.1                339.0   \n",
       "2           33454.0             17.5          20.2                199.0   \n",
       "3          394961.0              9.3          12.2               4338.0   \n",
       "4            7628.0             18.6           9.9                 43.0   \n",
       "\n",
       "   bachelors_and_above_percentage  median_gross_rent  ...  \\\n",
       "0                            11.7              593.0  ...   \n",
       "1                             9.3              541.0  ...   \n",
       "2                            17.3              741.0  ...   \n",
       "3                            37.8              821.0  ...   \n",
       "4                            11.5              511.0  ...   \n",
       "\n",
       "   median_household_income  per_capita_income  high_school_only_percentage  \\\n",
       "0                  35067.0            17876.0                         34.8   \n",
       "1                  38686.0            19369.0                         42.2   \n",
       "2                  40780.0            22909.0                         39.3   \n",
       "3                  55499.0            27522.0                         20.8   \n",
       "4                  47872.0            25147.0                         45.5   \n",
       "\n",
       "   median_home_value  age_18_and_under_percentage  Year  white_percentage  \\\n",
       "0            90300.0                         10.2  2012         69.953126   \n",
       "1            88900.0                          9.9  2012         78.789502   \n",
       "2           153800.0                          8.0  2012         67.513601   \n",
       "3           193300.0                          9.2  2012         91.925532   \n",
       "4            96700.0                          7.1  2012         97.758259   \n",
       "\n",
       "   black_percentage  native_american_percentage  asian_percentage  \n",
       "0         28.140387                    0.070902          0.059085  \n",
       "1         18.152603                    0.220740          0.274302  \n",
       "2         28.755904                    0.334788          0.122556  \n",
       "3          1.027190                    0.536002          2.593674  \n",
       "4          0.144206                    0.157315          0.603041  \n",
       "\n",
       "[5 rows x 25 columns]"
      ]
     },
     "execution_count": 203,
     "metadata": {},
     "output_type": "execute_result"
    }
   ],
   "source": [
    "df = pd.read_csv('../data/cleaned/combined_all_years_cleaned_final.csv')\n",
    "df.head()"
   ]
  },
  {
   "cell_type": "code",
   "execution_count": 205,
   "id": "bd066b3e-a7ea-4762-944c-980d8b8848e0",
   "metadata": {},
   "outputs": [
    {
     "name": "stdout",
     "output_type": "stream",
     "text": [
      "<class 'pandas.core.frame.DataFrame'>\n",
      "RangeIndex: 24858 entries, 0 to 24857\n",
      "Data columns (total 25 columns):\n",
      " #   Column                          Non-Null Count  Dtype  \n",
      "---  ------                          --------------  -----  \n",
      " 0   County                          24858 non-null  object \n",
      " 1   State                           24858 non-null  object \n",
      " 2   mean_life_expectancy            24858 non-null  float64\n",
      " 3   disability_rate                 24858 non-null  float64\n",
      " 4   total_population                24858 non-null  float64\n",
      " 5   age_60_and_over                 24858 non-null  float64\n",
      " 6   poverty_rate                    24858 non-null  float64\n",
      " 7   housing_cost_burden             24858 non-null  float64\n",
      " 8   bachelors_and_above_percentage  24858 non-null  float64\n",
      " 9   median_gross_rent               24858 non-null  float64\n",
      " 10  age_15_to_44_percentage         24858 non-null  float64\n",
      " 11  gini_index                      24858 non-null  float64\n",
      " 12  less_than_9th_grade_percentage  24858 non-null  float64\n",
      " 13  health_insurance_rate           24858 non-null  float64\n",
      " 14  unemployment_rate               24858 non-null  float64\n",
      " 15  median_household_income         24858 non-null  float64\n",
      " 16  per_capita_income               24858 non-null  float64\n",
      " 17  high_school_only_percentage     24858 non-null  float64\n",
      " 18  median_home_value               24858 non-null  float64\n",
      " 19  age_18_and_under_percentage     24858 non-null  float64\n",
      " 20  Year                            24858 non-null  int64  \n",
      " 21  white_percentage                24858 non-null  float64\n",
      " 22  black_percentage                24858 non-null  float64\n",
      " 23  native_american_percentage      24858 non-null  float64\n",
      " 24  asian_percentage                24858 non-null  float64\n",
      "dtypes: float64(22), int64(1), object(2)\n",
      "memory usage: 4.7+ MB\n"
     ]
    }
   ],
   "source": [
    "df.info()"
   ]
  },
  {
   "cell_type": "code",
   "execution_count": 207,
   "id": "ed4eb156-b1e5-4e15-b638-bbeaefe03169",
   "metadata": {},
   "outputs": [
    {
     "data": {
      "text/html": [
       "<div>\n",
       "<style scoped>\n",
       "    .dataframe tbody tr th:only-of-type {\n",
       "        vertical-align: middle;\n",
       "    }\n",
       "\n",
       "    .dataframe tbody tr th {\n",
       "        vertical-align: top;\n",
       "    }\n",
       "\n",
       "    .dataframe thead th {\n",
       "        text-align: right;\n",
       "    }\n",
       "</style>\n",
       "<table border=\"1\" class=\"dataframe\">\n",
       "  <thead>\n",
       "    <tr style=\"text-align: right;\">\n",
       "      <th></th>\n",
       "      <th>count</th>\n",
       "      <th>mean</th>\n",
       "      <th>std</th>\n",
       "      <th>min</th>\n",
       "      <th>25%</th>\n",
       "      <th>50%</th>\n",
       "      <th>75%</th>\n",
       "      <th>max</th>\n",
       "    </tr>\n",
       "  </thead>\n",
       "  <tbody>\n",
       "    <tr>\n",
       "      <th>mean_life_expectancy</th>\n",
       "      <td>24858.0</td>\n",
       "      <td>77.365326</td>\n",
       "      <td>2.560676</td>\n",
       "      <td>66.047153</td>\n",
       "      <td>75.614112</td>\n",
       "      <td>77.491757</td>\n",
       "      <td>79.068485</td>\n",
       "      <td>9.225386e+01</td>\n",
       "    </tr>\n",
       "    <tr>\n",
       "      <th>disability_rate</th>\n",
       "      <td>24858.0</td>\n",
       "      <td>15.703242</td>\n",
       "      <td>4.407639</td>\n",
       "      <td>3.700000</td>\n",
       "      <td>12.600000</td>\n",
       "      <td>15.300000</td>\n",
       "      <td>18.400000</td>\n",
       "      <td>3.690000e+01</td>\n",
       "    </tr>\n",
       "    <tr>\n",
       "      <th>total_population</th>\n",
       "      <td>24858.0</td>\n",
       "      <td>101895.308231</td>\n",
       "      <td>324975.256363</td>\n",
       "      <td>607.000000</td>\n",
       "      <td>11392.250000</td>\n",
       "      <td>26136.500000</td>\n",
       "      <td>68324.250000</td>\n",
       "      <td>1.010572e+07</td>\n",
       "    </tr>\n",
       "    <tr>\n",
       "      <th>age_60_and_over</th>\n",
       "      <td>24858.0</td>\n",
       "      <td>18.872476</td>\n",
       "      <td>6.893613</td>\n",
       "      <td>2.000000</td>\n",
       "      <td>13.600000</td>\n",
       "      <td>17.400000</td>\n",
       "      <td>23.700000</td>\n",
       "      <td>6.540000e+01</td>\n",
       "    </tr>\n",
       "    <tr>\n",
       "      <th>poverty_rate</th>\n",
       "      <td>24858.0</td>\n",
       "      <td>16.226442</td>\n",
       "      <td>6.488762</td>\n",
       "      <td>2.300000</td>\n",
       "      <td>11.600000</td>\n",
       "      <td>15.400000</td>\n",
       "      <td>19.700000</td>\n",
       "      <td>5.550000e+01</td>\n",
       "    </tr>\n",
       "    <tr>\n",
       "      <th>housing_cost_burden</th>\n",
       "      <td>24858.0</td>\n",
       "      <td>1136.591319</td>\n",
       "      <td>4659.092710</td>\n",
       "      <td>0.000000</td>\n",
       "      <td>69.000000</td>\n",
       "      <td>196.000000</td>\n",
       "      <td>610.000000</td>\n",
       "      <td>1.631040e+05</td>\n",
       "    </tr>\n",
       "    <tr>\n",
       "      <th>bachelors_and_above_percentage</th>\n",
       "      <td>24858.0</td>\n",
       "      <td>20.421945</td>\n",
       "      <td>9.404331</td>\n",
       "      <td>2.800000</td>\n",
       "      <td>13.900000</td>\n",
       "      <td>18.200000</td>\n",
       "      <td>24.500000</td>\n",
       "      <td>8.020000e+01</td>\n",
       "    </tr>\n",
       "    <tr>\n",
       "      <th>median_gross_rent</th>\n",
       "      <td>24858.0</td>\n",
       "      <td>716.431330</td>\n",
       "      <td>203.878841</td>\n",
       "      <td>99.000000</td>\n",
       "      <td>587.000000</td>\n",
       "      <td>667.000000</td>\n",
       "      <td>791.000000</td>\n",
       "      <td>2.316000e+03</td>\n",
       "    </tr>\n",
       "    <tr>\n",
       "      <th>age_15_to_44_percentage</th>\n",
       "      <td>24858.0</td>\n",
       "      <td>63.070822</td>\n",
       "      <td>21.253285</td>\n",
       "      <td>16.100000</td>\n",
       "      <td>37.700000</td>\n",
       "      <td>76.800000</td>\n",
       "      <td>79.900000</td>\n",
       "      <td>9.850000e+01</td>\n",
       "    </tr>\n",
       "    <tr>\n",
       "      <th>gini_index</th>\n",
       "      <td>24858.0</td>\n",
       "      <td>0.442139</td>\n",
       "      <td>0.035156</td>\n",
       "      <td>0.302300</td>\n",
       "      <td>0.418100</td>\n",
       "      <td>0.439800</td>\n",
       "      <td>0.463800</td>\n",
       "      <td>7.070000e-01</td>\n",
       "    </tr>\n",
       "    <tr>\n",
       "      <th>less_than_9th_grade_percentage</th>\n",
       "      <td>24858.0</td>\n",
       "      <td>5.771180</td>\n",
       "      <td>3.974378</td>\n",
       "      <td>0.000000</td>\n",
       "      <td>3.100000</td>\n",
       "      <td>4.700000</td>\n",
       "      <td>7.300000</td>\n",
       "      <td>3.960000e+01</td>\n",
       "    </tr>\n",
       "    <tr>\n",
       "      <th>health_insurance_rate</th>\n",
       "      <td>24858.0</td>\n",
       "      <td>61.014265</td>\n",
       "      <td>36.135931</td>\n",
       "      <td>2.500000</td>\n",
       "      <td>16.800000</td>\n",
       "      <td>84.700000</td>\n",
       "      <td>90.800000</td>\n",
       "      <td>9.860000e+01</td>\n",
       "    </tr>\n",
       "    <tr>\n",
       "      <th>unemployment_rate</th>\n",
       "      <td>24858.0</td>\n",
       "      <td>7.352816</td>\n",
       "      <td>3.585767</td>\n",
       "      <td>0.000000</td>\n",
       "      <td>4.900000</td>\n",
       "      <td>6.900000</td>\n",
       "      <td>9.300000</td>\n",
       "      <td>2.990000e+01</td>\n",
       "    </tr>\n",
       "    <tr>\n",
       "      <th>median_household_income</th>\n",
       "      <td>24858.0</td>\n",
       "      <td>48453.157937</td>\n",
       "      <td>13020.962684</td>\n",
       "      <td>18972.000000</td>\n",
       "      <td>39947.750000</td>\n",
       "      <td>46552.500000</td>\n",
       "      <td>54248.500000</td>\n",
       "      <td>1.422990e+05</td>\n",
       "    </tr>\n",
       "    <tr>\n",
       "      <th>per_capita_income</th>\n",
       "      <td>24858.0</td>\n",
       "      <td>25161.743785</td>\n",
       "      <td>6210.782632</td>\n",
       "      <td>8200.000000</td>\n",
       "      <td>21026.250000</td>\n",
       "      <td>24294.500000</td>\n",
       "      <td>28122.000000</td>\n",
       "      <td>7.659200e+04</td>\n",
       "    </tr>\n",
       "    <tr>\n",
       "      <th>high_school_only_percentage</th>\n",
       "      <td>24858.0</td>\n",
       "      <td>35.123739</td>\n",
       "      <td>7.408203</td>\n",
       "      <td>5.400000</td>\n",
       "      <td>30.400000</td>\n",
       "      <td>35.500000</td>\n",
       "      <td>40.300000</td>\n",
       "      <td>6.060000e+01</td>\n",
       "    </tr>\n",
       "    <tr>\n",
       "      <th>median_home_value</th>\n",
       "      <td>24858.0</td>\n",
       "      <td>138599.223590</td>\n",
       "      <td>83524.750617</td>\n",
       "      <td>19400.000000</td>\n",
       "      <td>88000.000000</td>\n",
       "      <td>115800.000000</td>\n",
       "      <td>160700.000000</td>\n",
       "      <td>1.097800e+06</td>\n",
       "    </tr>\n",
       "    <tr>\n",
       "      <th>age_18_and_under_percentage</th>\n",
       "      <td>24858.0</td>\n",
       "      <td>14.320927</td>\n",
       "      <td>7.214341</td>\n",
       "      <td>0.000000</td>\n",
       "      <td>8.300000</td>\n",
       "      <td>10.600000</td>\n",
       "      <td>21.400000</td>\n",
       "      <td>7.300000e+01</td>\n",
       "    </tr>\n",
       "    <tr>\n",
       "      <th>Year</th>\n",
       "      <td>24858.0</td>\n",
       "      <td>2015.498753</td>\n",
       "      <td>2.291527</td>\n",
       "      <td>2012.000000</td>\n",
       "      <td>2013.000000</td>\n",
       "      <td>2015.000000</td>\n",
       "      <td>2017.000000</td>\n",
       "      <td>2.019000e+03</td>\n",
       "    </tr>\n",
       "    <tr>\n",
       "      <th>white_percentage</th>\n",
       "      <td>24858.0</td>\n",
       "      <td>83.381396</td>\n",
       "      <td>16.668344</td>\n",
       "      <td>3.110111</td>\n",
       "      <td>76.885511</td>\n",
       "      <td>89.879518</td>\n",
       "      <td>95.371394</td>\n",
       "      <td>1.000000e+02</td>\n",
       "    </tr>\n",
       "    <tr>\n",
       "      <th>black_percentage</th>\n",
       "      <td>24858.0</td>\n",
       "      <td>9.096423</td>\n",
       "      <td>14.545917</td>\n",
       "      <td>0.000000</td>\n",
       "      <td>0.627495</td>\n",
       "      <td>2.265406</td>\n",
       "      <td>10.404926</td>\n",
       "      <td>8.741228e+01</td>\n",
       "    </tr>\n",
       "    <tr>\n",
       "      <th>native_american_percentage</th>\n",
       "      <td>24858.0</td>\n",
       "      <td>1.892145</td>\n",
       "      <td>7.413599</td>\n",
       "      <td>0.000000</td>\n",
       "      <td>0.159731</td>\n",
       "      <td>0.339482</td>\n",
       "      <td>0.805217</td>\n",
       "      <td>9.567346e+01</td>\n",
       "    </tr>\n",
       "    <tr>\n",
       "      <th>asian_percentage</th>\n",
       "      <td>24858.0</td>\n",
       "      <td>1.288062</td>\n",
       "      <td>2.689316</td>\n",
       "      <td>0.000000</td>\n",
       "      <td>0.255455</td>\n",
       "      <td>0.565004</td>\n",
       "      <td>1.226899</td>\n",
       "      <td>4.407940e+01</td>\n",
       "    </tr>\n",
       "  </tbody>\n",
       "</table>\n",
       "</div>"
      ],
      "text/plain": [
       "                                  count           mean            std  \\\n",
       "mean_life_expectancy            24858.0      77.365326       2.560676   \n",
       "disability_rate                 24858.0      15.703242       4.407639   \n",
       "total_population                24858.0  101895.308231  324975.256363   \n",
       "age_60_and_over                 24858.0      18.872476       6.893613   \n",
       "poverty_rate                    24858.0      16.226442       6.488762   \n",
       "housing_cost_burden             24858.0    1136.591319    4659.092710   \n",
       "bachelors_and_above_percentage  24858.0      20.421945       9.404331   \n",
       "median_gross_rent               24858.0     716.431330     203.878841   \n",
       "age_15_to_44_percentage         24858.0      63.070822      21.253285   \n",
       "gini_index                      24858.0       0.442139       0.035156   \n",
       "less_than_9th_grade_percentage  24858.0       5.771180       3.974378   \n",
       "health_insurance_rate           24858.0      61.014265      36.135931   \n",
       "unemployment_rate               24858.0       7.352816       3.585767   \n",
       "median_household_income         24858.0   48453.157937   13020.962684   \n",
       "per_capita_income               24858.0   25161.743785    6210.782632   \n",
       "high_school_only_percentage     24858.0      35.123739       7.408203   \n",
       "median_home_value               24858.0  138599.223590   83524.750617   \n",
       "age_18_and_under_percentage     24858.0      14.320927       7.214341   \n",
       "Year                            24858.0    2015.498753       2.291527   \n",
       "white_percentage                24858.0      83.381396      16.668344   \n",
       "black_percentage                24858.0       9.096423      14.545917   \n",
       "native_american_percentage      24858.0       1.892145       7.413599   \n",
       "asian_percentage                24858.0       1.288062       2.689316   \n",
       "\n",
       "                                         min           25%            50%  \\\n",
       "mean_life_expectancy               66.047153     75.614112      77.491757   \n",
       "disability_rate                     3.700000     12.600000      15.300000   \n",
       "total_population                  607.000000  11392.250000   26136.500000   \n",
       "age_60_and_over                     2.000000     13.600000      17.400000   \n",
       "poverty_rate                        2.300000     11.600000      15.400000   \n",
       "housing_cost_burden                 0.000000     69.000000     196.000000   \n",
       "bachelors_and_above_percentage      2.800000     13.900000      18.200000   \n",
       "median_gross_rent                  99.000000    587.000000     667.000000   \n",
       "age_15_to_44_percentage            16.100000     37.700000      76.800000   \n",
       "gini_index                          0.302300      0.418100       0.439800   \n",
       "less_than_9th_grade_percentage      0.000000      3.100000       4.700000   \n",
       "health_insurance_rate               2.500000     16.800000      84.700000   \n",
       "unemployment_rate                   0.000000      4.900000       6.900000   \n",
       "median_household_income         18972.000000  39947.750000   46552.500000   \n",
       "per_capita_income                8200.000000  21026.250000   24294.500000   \n",
       "high_school_only_percentage         5.400000     30.400000      35.500000   \n",
       "median_home_value               19400.000000  88000.000000  115800.000000   \n",
       "age_18_and_under_percentage         0.000000      8.300000      10.600000   \n",
       "Year                             2012.000000   2013.000000    2015.000000   \n",
       "white_percentage                    3.110111     76.885511      89.879518   \n",
       "black_percentage                    0.000000      0.627495       2.265406   \n",
       "native_american_percentage          0.000000      0.159731       0.339482   \n",
       "asian_percentage                    0.000000      0.255455       0.565004   \n",
       "\n",
       "                                          75%           max  \n",
       "mean_life_expectancy                79.068485  9.225386e+01  \n",
       "disability_rate                     18.400000  3.690000e+01  \n",
       "total_population                 68324.250000  1.010572e+07  \n",
       "age_60_and_over                     23.700000  6.540000e+01  \n",
       "poverty_rate                        19.700000  5.550000e+01  \n",
       "housing_cost_burden                610.000000  1.631040e+05  \n",
       "bachelors_and_above_percentage      24.500000  8.020000e+01  \n",
       "median_gross_rent                  791.000000  2.316000e+03  \n",
       "age_15_to_44_percentage             79.900000  9.850000e+01  \n",
       "gini_index                           0.463800  7.070000e-01  \n",
       "less_than_9th_grade_percentage       7.300000  3.960000e+01  \n",
       "health_insurance_rate               90.800000  9.860000e+01  \n",
       "unemployment_rate                    9.300000  2.990000e+01  \n",
       "median_household_income          54248.500000  1.422990e+05  \n",
       "per_capita_income                28122.000000  7.659200e+04  \n",
       "high_school_only_percentage         40.300000  6.060000e+01  \n",
       "median_home_value               160700.000000  1.097800e+06  \n",
       "age_18_and_under_percentage         21.400000  7.300000e+01  \n",
       "Year                              2017.000000  2.019000e+03  \n",
       "white_percentage                    95.371394  1.000000e+02  \n",
       "black_percentage                    10.404926  8.741228e+01  \n",
       "native_american_percentage           0.805217  9.567346e+01  \n",
       "asian_percentage                     1.226899  4.407940e+01  "
      ]
     },
     "execution_count": 207,
     "metadata": {},
     "output_type": "execute_result"
    }
   ],
   "source": [
    "df.describe().transpose()"
   ]
  },
  {
   "cell_type": "code",
   "execution_count": 209,
   "id": "3586b905-c563-4550-9985-da983484d79c",
   "metadata": {},
   "outputs": [
    {
     "data": {
      "text/plain": [
       "Index(['County', 'State', 'mean_life_expectancy', 'disability_rate',\n",
       "       'total_population', 'age_60_and_over', 'poverty_rate',\n",
       "       'housing_cost_burden', 'bachelors_and_above_percentage',\n",
       "       'median_gross_rent', 'age_15_to_44_percentage', 'gini_index',\n",
       "       'less_than_9th_grade_percentage', 'health_insurance_rate',\n",
       "       'unemployment_rate', 'median_household_income', 'per_capita_income',\n",
       "       'high_school_only_percentage', 'median_home_value',\n",
       "       'age_18_and_under_percentage', 'Year', 'white_percentage',\n",
       "       'black_percentage', 'native_american_percentage', 'asian_percentage'],\n",
       "      dtype='object')"
      ]
     },
     "execution_count": 209,
     "metadata": {},
     "output_type": "execute_result"
    }
   ],
   "source": [
    "df.columns"
   ]
  },
  {
   "cell_type": "markdown",
   "id": "33de64d3-ddad-4c9d-9fe2-8992fa03b96d",
   "metadata": {},
   "source": [
    "# Splitting Data Into Features (X) and Target (y):"
   ]
  },
  {
   "cell_type": "code",
   "execution_count": 212,
   "id": "579b7676-fb1b-4d30-9026-0d5e4453a731",
   "metadata": {},
   "outputs": [],
   "source": [
    "X = df.drop(columns=['County', 'State', 'Year', 'mean_life_expectancy']) #Features \n",
    "y = df['mean_life_expectancy'] #Target"
   ]
  },
  {
   "cell_type": "code",
   "execution_count": 214,
   "id": "58701a17-d555-4309-b644-2a1ae82ed648",
   "metadata": {},
   "outputs": [],
   "source": [
    "X_train, X_test, y_train, y_test = train_test_split(X, y, test_size=0.2, random_state=42)"
   ]
  },
  {
   "cell_type": "code",
   "execution_count": 216,
   "id": "ba50574b-8078-4270-91ca-64b31f1cbf97",
   "metadata": {},
   "outputs": [
    {
     "name": "stdout",
     "output_type": "stream",
     "text": [
      "Training data shape: (19886, 21)\n",
      "Testing data shape: (4972, 21)\n"
     ]
    }
   ],
   "source": [
    "print(f\"Training data shape: {X_train.shape}\")\n",
    "print(f\"Testing data shape: {X_test.shape}\")"
   ]
  },
  {
   "cell_type": "markdown",
   "id": "66781448-601e-4fac-a017-ec671e63abe1",
   "metadata": {},
   "source": [
    "# Scaling the Data Using StandardScaler"
   ]
  },
  {
   "cell_type": "code",
   "execution_count": 219,
   "id": "4c67e5d4-6bc0-47d6-810f-a41f6e70c69c",
   "metadata": {},
   "outputs": [],
   "source": [
    "scaler = StandardScaler()\n",
    "X_train_scaled = scaler.fit_transform(X_train)\n",
    "X_test_scaled = scaler.transform(X_test)"
   ]
  },
  {
   "cell_type": "code",
   "execution_count": 221,
   "id": "dd477007-041c-4c6d-857e-7a3b029e0f1f",
   "metadata": {},
   "outputs": [],
   "source": [
    "# Convert targets to numpy arrays\n",
    "y_train = np.array(y_train)\n",
    "y_test = np.array(y_test)"
   ]
  },
  {
   "cell_type": "markdown",
   "id": "86ad3aa5-715f-4d58-a728-2640f1d74b6c",
   "metadata": {},
   "source": [
    "# Initializing and Training the Model:"
   ]
  },
  {
   "cell_type": "code",
   "execution_count": 282,
   "id": "369ee873-9db5-471c-b072-2d668df8b718",
   "metadata": {},
   "outputs": [],
   "source": [
    "def create_model():\n",
    "    model = Sequential()\n",
    "\n",
    "    # Input layer\n",
    "    model.add(Dense(256, activation='relu', input_dim=X_train_scaled.shape[1], kernel_regularizer=l2(0.001)))\n",
    "    model.add(BatchNormalization())\n",
    "    model.add(Dropout(0.3))\n",
    "    \n",
    "    # Hidden layers with Dropout and L2 regularization\n",
    "    model.add(Dense(128, activation='relu', kernel_regularizer=l2(0.001)))\n",
    "    model.add(BatchNormalization())\n",
    "    model.add(Dropout(0.2))\n",
    "\n",
    "    model.add(Dense(32, activation='relu', kernel_regularizer=l2(0.001)))\n",
    "    model.add(BatchNormalization())\n",
    "    model.add(Dropout(0.2))\n",
    "\n",
    "    # Output layer\n",
    "    model.add(Dense(1, activation='linear'))  # Linear activation for regression\n",
    "\n",
    "    # Compile model with Adam optimizer and learning rate\n",
    "    model.compile(optimizer=Adam(learning_rate=0.001), loss='mse', metrics=['mae'])\n",
    "\n",
    "    return model"
   ]
  },
  {
   "cell_type": "code",
   "execution_count": 284,
   "id": "1365f6d2-30ce-4a18-aa22-f17a9384c042",
   "metadata": {},
   "outputs": [],
   "source": [
    "model = create_model()"
   ]
  },
  {
   "cell_type": "code",
   "execution_count": 286,
   "id": "39731524-17c3-4799-b5b4-5761d74b027f",
   "metadata": {},
   "outputs": [],
   "source": [
    "# Use early stopping and learning rate reduction\n",
    "\n",
    "early_stopping = EarlyStopping(monitor='val_loss', patience=20, restore_best_weights=True, verbose=1)\n",
    "reduce_lr = ReduceLROnPlateau(monitor='val_loss', factor=0.5, patience=10, verbose=1)"
   ]
  },
  {
   "cell_type": "code",
   "execution_count": 288,
   "id": "9dcdd297-7161-4170-8bf8-3cb6fbb9e706",
   "metadata": {
    "scrolled": true
   },
   "outputs": [
    {
     "name": "stdout",
     "output_type": "stream",
     "text": [
      "Epoch 1/200\n",
      "249/249 [==============================] - 1s 2ms/step - loss: 5746.0518 - mae: 75.7574 - val_loss: 5342.8545 - val_mae: 73.0758 - lr: 0.0010\n",
      "Epoch 2/200\n",
      "249/249 [==============================] - 0s 2ms/step - loss: 4487.4521 - mae: 66.8063 - val_loss: 3531.4517 - val_mae: 59.3975 - lr: 0.0010\n",
      "Epoch 3/200\n",
      "249/249 [==============================] - 0s 2ms/step - loss: 2565.1484 - mae: 50.1596 - val_loss: 1669.3759 - val_mae: 40.8080 - lr: 0.0010\n",
      "Epoch 4/200\n",
      "249/249 [==============================] - 0s 2ms/step - loss: 1010.2283 - mae: 30.7893 - val_loss: 477.7000 - val_mae: 21.7881 - lr: 0.0010\n",
      "Epoch 5/200\n",
      "249/249 [==============================] - 0s 1ms/step - loss: 281.9349 - mae: 14.9577 - val_loss: 84.1557 - val_mae: 9.0221 - lr: 0.0010\n",
      "Epoch 6/200\n",
      "249/249 [==============================] - 0s 2ms/step - loss: 90.2106 - mae: 7.5354 - val_loss: 13.2188 - val_mae: 3.2608 - lr: 0.0010\n",
      "Epoch 7/200\n",
      "249/249 [==============================] - 0s 2ms/step - loss: 62.3825 - mae: 6.1951 - val_loss: 4.1357 - val_mae: 1.5942 - lr: 0.0010\n",
      "Epoch 8/200\n",
      "249/249 [==============================] - 0s 2ms/step - loss: 58.7023 - mae: 6.0542 - val_loss: 2.9516 - val_mae: 1.2614 - lr: 0.0010\n",
      "Epoch 9/200\n",
      "249/249 [==============================] - 0s 2ms/step - loss: 57.1282 - mae: 5.9655 - val_loss: 2.9569 - val_mae: 1.2762 - lr: 0.0010\n",
      "Epoch 10/200\n",
      "249/249 [==============================] - 0s 2ms/step - loss: 55.3177 - mae: 5.9157 - val_loss: 2.6413 - val_mae: 1.1788 - lr: 0.0010\n",
      "Epoch 11/200\n",
      "249/249 [==============================] - 0s 2ms/step - loss: 52.9820 - mae: 5.7552 - val_loss: 2.7306 - val_mae: 1.2233 - lr: 0.0010\n",
      "Epoch 12/200\n",
      "249/249 [==============================] - 0s 2ms/step - loss: 53.6732 - mae: 5.8007 - val_loss: 2.5467 - val_mae: 1.1645 - lr: 0.0010\n",
      "Epoch 13/200\n",
      "249/249 [==============================] - 0s 2ms/step - loss: 52.7576 - mae: 5.7580 - val_loss: 2.4126 - val_mae: 1.1244 - lr: 0.0010\n",
      "Epoch 14/200\n",
      "249/249 [==============================] - 0s 2ms/step - loss: 50.6869 - mae: 5.6373 - val_loss: 2.4059 - val_mae: 1.1193 - lr: 0.0010\n",
      "Epoch 15/200\n",
      "249/249 [==============================] - 0s 2ms/step - loss: 50.5154 - mae: 5.6376 - val_loss: 2.5664 - val_mae: 1.1727 - lr: 0.0010\n",
      "Epoch 16/200\n",
      "249/249 [==============================] - 0s 2ms/step - loss: 49.2567 - mae: 5.5697 - val_loss: 2.3317 - val_mae: 1.0992 - lr: 0.0010\n",
      "Epoch 17/200\n",
      "249/249 [==============================] - 1s 2ms/step - loss: 49.0279 - mae: 5.5543 - val_loss: 2.5889 - val_mae: 1.1851 - lr: 0.0010\n",
      "Epoch 18/200\n",
      "249/249 [==============================] - 1s 2ms/step - loss: 49.0966 - mae: 5.5718 - val_loss: 2.1960 - val_mae: 1.0477 - lr: 0.0010\n",
      "Epoch 19/200\n",
      "249/249 [==============================] - 1s 3ms/step - loss: 48.9544 - mae: 5.5596 - val_loss: 2.3848 - val_mae: 1.1127 - lr: 0.0010\n",
      "Epoch 20/200\n",
      "249/249 [==============================] - 0s 2ms/step - loss: 49.0674 - mae: 5.5641 - val_loss: 2.2184 - val_mae: 1.0684 - lr: 0.0010\n",
      "Epoch 21/200\n",
      "249/249 [==============================] - 0s 2ms/step - loss: 48.0148 - mae: 5.5291 - val_loss: 2.3958 - val_mae: 1.1156 - lr: 0.0010\n",
      "Epoch 22/200\n",
      "249/249 [==============================] - 0s 2ms/step - loss: 47.4548 - mae: 5.4591 - val_loss: 2.0693 - val_mae: 1.0079 - lr: 0.0010\n",
      "Epoch 23/200\n",
      "249/249 [==============================] - 0s 2ms/step - loss: 47.1861 - mae: 5.4736 - val_loss: 2.2568 - val_mae: 1.0791 - lr: 0.0010\n",
      "Epoch 24/200\n",
      "249/249 [==============================] - 0s 2ms/step - loss: 47.0696 - mae: 5.4489 - val_loss: 2.2287 - val_mae: 1.0620 - lr: 0.0010\n",
      "Epoch 25/200\n",
      "249/249 [==============================] - 0s 2ms/step - loss: 47.1592 - mae: 5.4481 - val_loss: 2.0810 - val_mae: 1.0186 - lr: 0.0010\n",
      "Epoch 26/200\n",
      "249/249 [==============================] - 0s 2ms/step - loss: 46.2856 - mae: 5.3998 - val_loss: 2.3200 - val_mae: 1.0968 - lr: 0.0010\n",
      "Epoch 27/200\n",
      "249/249 [==============================] - 0s 2ms/step - loss: 48.5424 - mae: 5.5698 - val_loss: 2.1417 - val_mae: 1.0408 - lr: 0.0010\n",
      "Epoch 28/200\n",
      "249/249 [==============================] - 0s 2ms/step - loss: 46.5359 - mae: 5.3908 - val_loss: 2.1151 - val_mae: 1.0341 - lr: 0.0010\n",
      "Epoch 29/200\n",
      "249/249 [==============================] - 0s 2ms/step - loss: 47.5462 - mae: 5.4687 - val_loss: 2.1823 - val_mae: 1.0582 - lr: 0.0010\n",
      "Epoch 30/200\n",
      "249/249 [==============================] - 0s 2ms/step - loss: 47.0215 - mae: 5.4269 - val_loss: 2.7514 - val_mae: 1.2552 - lr: 0.0010\n",
      "Epoch 31/200\n",
      "249/249 [==============================] - 0s 2ms/step - loss: 46.5291 - mae: 5.4014 - val_loss: 2.3619 - val_mae: 1.1211 - lr: 0.0010\n",
      "Epoch 32/200\n",
      "237/249 [===========================>..] - ETA: 0s - loss: 47.0621 - mae: 5.4673\n",
      "Epoch 32: ReduceLROnPlateau reducing learning rate to 0.0005000000237487257.\n",
      "249/249 [==============================] - 0s 2ms/step - loss: 46.9290 - mae: 5.4563 - val_loss: 2.4857 - val_mae: 1.1552 - lr: 0.0010\n",
      "Epoch 33/200\n",
      "249/249 [==============================] - 0s 2ms/step - loss: 45.4398 - mae: 5.3637 - val_loss: 1.9924 - val_mae: 0.9888 - lr: 5.0000e-04\n",
      "Epoch 34/200\n",
      "249/249 [==============================] - 0s 2ms/step - loss: 46.2574 - mae: 5.4018 - val_loss: 2.0265 - val_mae: 1.0152 - lr: 5.0000e-04\n",
      "Epoch 35/200\n",
      "249/249 [==============================] - 0s 2ms/step - loss: 46.2821 - mae: 5.4214 - val_loss: 2.2678 - val_mae: 1.0915 - lr: 5.0000e-04\n",
      "Epoch 36/200\n",
      "249/249 [==============================] - 0s 2ms/step - loss: 46.4024 - mae: 5.4044 - val_loss: 2.3429 - val_mae: 1.1194 - lr: 5.0000e-04\n",
      "Epoch 37/200\n",
      "249/249 [==============================] - 0s 2ms/step - loss: 46.7384 - mae: 5.4165 - val_loss: 2.0167 - val_mae: 1.0043 - lr: 5.0000e-04\n",
      "Epoch 38/200\n",
      "249/249 [==============================] - 0s 2ms/step - loss: 46.1094 - mae: 5.3692 - val_loss: 2.1467 - val_mae: 1.0570 - lr: 5.0000e-04\n",
      "Epoch 39/200\n",
      "249/249 [==============================] - 0s 2ms/step - loss: 45.9264 - mae: 5.3948 - val_loss: 2.0984 - val_mae: 1.0362 - lr: 5.0000e-04\n",
      "Epoch 40/200\n",
      "249/249 [==============================] - 0s 2ms/step - loss: 46.0878 - mae: 5.3737 - val_loss: 1.9280 - val_mae: 0.9775 - lr: 5.0000e-04\n",
      "Epoch 41/200\n",
      "249/249 [==============================] - 0s 2ms/step - loss: 45.5534 - mae: 5.3320 - val_loss: 2.0140 - val_mae: 1.0167 - lr: 5.0000e-04\n",
      "Epoch 42/200\n",
      "249/249 [==============================] - 0s 2ms/step - loss: 46.0238 - mae: 5.3938 - val_loss: 2.1973 - val_mae: 1.0779 - lr: 5.0000e-04\n",
      "Epoch 43/200\n",
      "249/249 [==============================] - 0s 2ms/step - loss: 45.0301 - mae: 5.3457 - val_loss: 1.9977 - val_mae: 1.0024 - lr: 5.0000e-04\n",
      "Epoch 44/200\n",
      "249/249 [==============================] - 0s 2ms/step - loss: 45.5050 - mae: 5.3415 - val_loss: 1.9456 - val_mae: 0.9882 - lr: 5.0000e-04\n",
      "Epoch 45/200\n",
      "249/249 [==============================] - 0s 2ms/step - loss: 45.5764 - mae: 5.3495 - val_loss: 2.1344 - val_mae: 1.0569 - lr: 5.0000e-04\n",
      "Epoch 46/200\n",
      "249/249 [==============================] - 0s 2ms/step - loss: 45.0029 - mae: 5.3226 - val_loss: 2.1912 - val_mae: 1.0791 - lr: 5.0000e-04\n",
      "Epoch 47/200\n",
      "249/249 [==============================] - 0s 2ms/step - loss: 45.4131 - mae: 5.3508 - val_loss: 1.9604 - val_mae: 0.9950 - lr: 5.0000e-04\n",
      "Epoch 48/200\n",
      "249/249 [==============================] - 0s 2ms/step - loss: 46.0257 - mae: 5.4054 - val_loss: 2.1850 - val_mae: 1.0762 - lr: 5.0000e-04\n",
      "Epoch 49/200\n",
      "249/249 [==============================] - 0s 2ms/step - loss: 45.5674 - mae: 5.3813 - val_loss: 2.1016 - val_mae: 1.0548 - lr: 5.0000e-04\n",
      "Epoch 50/200\n",
      "249/249 [==============================] - 0s 2ms/step - loss: 44.8375 - mae: 5.3254 - val_loss: 1.8394 - val_mae: 0.9571 - lr: 5.0000e-04\n",
      "Epoch 51/200\n",
      "249/249 [==============================] - 0s 2ms/step - loss: 45.8260 - mae: 5.3764 - val_loss: 2.0174 - val_mae: 1.0233 - lr: 5.0000e-04\n",
      "Epoch 52/200\n",
      "249/249 [==============================] - 0s 2ms/step - loss: 44.4419 - mae: 5.2796 - val_loss: 2.1011 - val_mae: 1.0459 - lr: 5.0000e-04\n",
      "Epoch 53/200\n",
      "249/249 [==============================] - 0s 2ms/step - loss: 44.8563 - mae: 5.3069 - val_loss: 2.0352 - val_mae: 1.0258 - lr: 5.0000e-04\n",
      "Epoch 54/200\n",
      "249/249 [==============================] - 0s 2ms/step - loss: 44.7464 - mae: 5.3187 - val_loss: 1.9922 - val_mae: 1.0119 - lr: 5.0000e-04\n",
      "Epoch 55/200\n",
      "249/249 [==============================] - 0s 2ms/step - loss: 44.8262 - mae: 5.3152 - val_loss: 2.1196 - val_mae: 1.0611 - lr: 5.0000e-04\n",
      "Epoch 56/200\n",
      "249/249 [==============================] - 0s 2ms/step - loss: 44.6331 - mae: 5.2993 - val_loss: 1.9153 - val_mae: 0.9882 - lr: 5.0000e-04\n",
      "Epoch 57/200\n",
      "249/249 [==============================] - 0s 2ms/step - loss: 44.7963 - mae: 5.3087 - val_loss: 2.1434 - val_mae: 1.0669 - lr: 5.0000e-04\n",
      "Epoch 58/200\n",
      "249/249 [==============================] - 1s 2ms/step - loss: 44.5278 - mae: 5.2972 - val_loss: 1.8252 - val_mae: 0.9622 - lr: 5.0000e-04\n",
      "Epoch 59/200\n",
      "249/249 [==============================] - 1s 2ms/step - loss: 44.1781 - mae: 5.2904 - val_loss: 1.9270 - val_mae: 0.9915 - lr: 5.0000e-04\n",
      "Epoch 60/200\n",
      "249/249 [==============================] - 0s 2ms/step - loss: 44.1859 - mae: 5.2866 - val_loss: 1.9633 - val_mae: 1.0129 - lr: 5.0000e-04\n",
      "Epoch 61/200\n",
      "249/249 [==============================] - 1s 2ms/step - loss: 43.9329 - mae: 5.2794 - val_loss: 2.2574 - val_mae: 1.1146 - lr: 5.0000e-04\n",
      "Epoch 62/200\n",
      "249/249 [==============================] - 1s 3ms/step - loss: 43.3664 - mae: 5.2165 - val_loss: 1.9419 - val_mae: 1.0063 - lr: 5.0000e-04\n",
      "Epoch 63/200\n",
      "249/249 [==============================] - 1s 2ms/step - loss: 44.7537 - mae: 5.3105 - val_loss: 1.9429 - val_mae: 1.0097 - lr: 5.0000e-04\n",
      "Epoch 64/200\n",
      "249/249 [==============================] - 1s 3ms/step - loss: 43.6597 - mae: 5.2516 - val_loss: 1.9216 - val_mae: 0.9944 - lr: 5.0000e-04\n",
      "Epoch 65/200\n",
      "249/249 [==============================] - 0s 2ms/step - loss: 43.8135 - mae: 5.2464 - val_loss: 2.2759 - val_mae: 1.1154 - lr: 5.0000e-04\n",
      "Epoch 66/200\n",
      "249/249 [==============================] - 0s 2ms/step - loss: 43.3958 - mae: 5.2440 - val_loss: 1.8585 - val_mae: 0.9759 - lr: 5.0000e-04\n",
      "Epoch 67/200\n",
      "249/249 [==============================] - 0s 2ms/step - loss: 43.5876 - mae: 5.2540 - val_loss: 1.8828 - val_mae: 0.9928 - lr: 5.0000e-04\n",
      "Epoch 68/200\n",
      "230/249 [==========================>...] - ETA: 0s - loss: 43.7543 - mae: 5.2537\n",
      "Epoch 68: ReduceLROnPlateau reducing learning rate to 0.0002500000118743628.\n",
      "249/249 [==============================] - 0s 2ms/step - loss: 43.6326 - mae: 5.2419 - val_loss: 2.4155 - val_mae: 1.1808 - lr: 5.0000e-04\n",
      "Epoch 69/200\n",
      "249/249 [==============================] - 0s 2ms/step - loss: 45.0205 - mae: 5.3351 - val_loss: 2.0723 - val_mae: 1.0605 - lr: 2.5000e-04\n",
      "Epoch 70/200\n",
      "249/249 [==============================] - 0s 2ms/step - loss: 42.7807 - mae: 5.2175 - val_loss: 1.8297 - val_mae: 0.9725 - lr: 2.5000e-04\n",
      "Epoch 71/200\n",
      "249/249 [==============================] - 0s 2ms/step - loss: 43.9160 - mae: 5.2570 - val_loss: 2.0986 - val_mae: 1.0743 - lr: 2.5000e-04\n",
      "Epoch 72/200\n",
      "249/249 [==============================] - 0s 2ms/step - loss: 43.4579 - mae: 5.2435 - val_loss: 1.8002 - val_mae: 0.9595 - lr: 2.5000e-04\n",
      "Epoch 73/200\n",
      "249/249 [==============================] - 0s 2ms/step - loss: 44.3750 - mae: 5.2851 - val_loss: 1.9105 - val_mae: 1.0044 - lr: 2.5000e-04\n",
      "Epoch 74/200\n",
      "249/249 [==============================] - 0s 2ms/step - loss: 43.9817 - mae: 5.2700 - val_loss: 1.9211 - val_mae: 1.0146 - lr: 2.5000e-04\n",
      "Epoch 75/200\n",
      "249/249 [==============================] - 1s 2ms/step - loss: 42.6964 - mae: 5.1838 - val_loss: 1.9139 - val_mae: 1.0103 - lr: 2.5000e-04\n",
      "Epoch 76/200\n",
      "249/249 [==============================] - 1s 2ms/step - loss: 43.8846 - mae: 5.2593 - val_loss: 1.8764 - val_mae: 1.0016 - lr: 2.5000e-04\n",
      "Epoch 77/200\n",
      "249/249 [==============================] - 0s 2ms/step - loss: 43.1426 - mae: 5.2146 - val_loss: 1.7755 - val_mae: 0.9591 - lr: 2.5000e-04\n",
      "Epoch 78/200\n",
      "249/249 [==============================] - 0s 2ms/step - loss: 43.5001 - mae: 5.2552 - val_loss: 1.8218 - val_mae: 0.9774 - lr: 2.5000e-04\n",
      "Epoch 79/200\n",
      "249/249 [==============================] - 0s 2ms/step - loss: 43.2934 - mae: 5.2189 - val_loss: 2.1470 - val_mae: 1.0964 - lr: 2.5000e-04\n",
      "Epoch 80/200\n",
      "249/249 [==============================] - 0s 2ms/step - loss: 42.1611 - mae: 5.1531 - val_loss: 1.7272 - val_mae: 0.9414 - lr: 2.5000e-04\n",
      "Epoch 81/200\n",
      "249/249 [==============================] - 0s 2ms/step - loss: 43.6620 - mae: 5.2473 - val_loss: 1.8674 - val_mae: 0.9963 - lr: 2.5000e-04\n",
      "Epoch 82/200\n",
      "249/249 [==============================] - 0s 2ms/step - loss: 42.4707 - mae: 5.1943 - val_loss: 1.9589 - val_mae: 1.0339 - lr: 2.5000e-04\n",
      "Epoch 83/200\n",
      "249/249 [==============================] - 1s 2ms/step - loss: 42.5667 - mae: 5.1796 - val_loss: 1.6646 - val_mae: 0.9167 - lr: 2.5000e-04\n",
      "Epoch 84/200\n",
      "249/249 [==============================] - 1s 3ms/step - loss: 43.3189 - mae: 5.2294 - val_loss: 1.9779 - val_mae: 1.0394 - lr: 2.5000e-04\n",
      "Epoch 85/200\n",
      "249/249 [==============================] - 1s 2ms/step - loss: 41.8844 - mae: 5.1344 - val_loss: 1.9369 - val_mae: 1.0213 - lr: 2.5000e-04\n",
      "Epoch 86/200\n",
      "249/249 [==============================] - 1s 2ms/step - loss: 42.4733 - mae: 5.1650 - val_loss: 1.9903 - val_mae: 1.0403 - lr: 2.5000e-04\n",
      "Epoch 87/200\n",
      "249/249 [==============================] - 0s 2ms/step - loss: 42.3425 - mae: 5.1660 - val_loss: 1.7989 - val_mae: 0.9729 - lr: 2.5000e-04\n",
      "Epoch 88/200\n",
      "249/249 [==============================] - 0s 2ms/step - loss: 42.1924 - mae: 5.1603 - val_loss: 2.0759 - val_mae: 1.0748 - lr: 2.5000e-04\n",
      "Epoch 89/200\n",
      "249/249 [==============================] - 0s 2ms/step - loss: 42.5603 - mae: 5.1838 - val_loss: 1.8327 - val_mae: 0.9905 - lr: 2.5000e-04\n",
      "Epoch 90/200\n",
      "249/249 [==============================] - 0s 2ms/step - loss: 43.3737 - mae: 5.2341 - val_loss: 1.6646 - val_mae: 0.9203 - lr: 2.5000e-04\n",
      "Epoch 91/200\n",
      "249/249 [==============================] - 0s 2ms/step - loss: 43.3873 - mae: 5.2266 - val_loss: 1.9136 - val_mae: 1.0156 - lr: 2.5000e-04\n",
      "Epoch 92/200\n",
      "249/249 [==============================] - 0s 2ms/step - loss: 42.6653 - mae: 5.1782 - val_loss: 1.8333 - val_mae: 0.9907 - lr: 2.5000e-04\n",
      "Epoch 93/200\n",
      "236/249 [===========================>..] - ETA: 0s - loss: 42.6953 - mae: 5.1963\n",
      "Epoch 93: ReduceLROnPlateau reducing learning rate to 0.0001250000059371814.\n",
      "249/249 [==============================] - 1s 2ms/step - loss: 42.7081 - mae: 5.1969 - val_loss: 1.8051 - val_mae: 0.9696 - lr: 2.5000e-04\n",
      "Epoch 94/200\n",
      "249/249 [==============================] - 1s 2ms/step - loss: 42.5089 - mae: 5.1892 - val_loss: 1.7378 - val_mae: 0.9465 - lr: 1.2500e-04\n",
      "Epoch 95/200\n",
      "249/249 [==============================] - 0s 2ms/step - loss: 42.2571 - mae: 5.1801 - val_loss: 1.7629 - val_mae: 0.9622 - lr: 1.2500e-04\n",
      "Epoch 96/200\n",
      "249/249 [==============================] - 0s 2ms/step - loss: 41.9342 - mae: 5.1609 - val_loss: 1.7549 - val_mae: 0.9609 - lr: 1.2500e-04\n",
      "Epoch 97/200\n",
      "249/249 [==============================] - 1s 2ms/step - loss: 41.8772 - mae: 5.1505 - val_loss: 2.0057 - val_mae: 1.0569 - lr: 1.2500e-04\n",
      "Epoch 98/200\n",
      "249/249 [==============================] - 0s 2ms/step - loss: 42.5666 - mae: 5.1840 - val_loss: 1.8069 - val_mae: 0.9805 - lr: 1.2500e-04\n",
      "Epoch 99/200\n",
      "249/249 [==============================] - 0s 2ms/step - loss: 42.4789 - mae: 5.1875 - val_loss: 1.7937 - val_mae: 0.9770 - lr: 1.2500e-04\n",
      "Epoch 100/200\n",
      "249/249 [==============================] - 0s 2ms/step - loss: 41.9750 - mae: 5.1740 - val_loss: 1.9149 - val_mae: 1.0185 - lr: 1.2500e-04\n",
      "Epoch 101/200\n",
      "249/249 [==============================] - 0s 2ms/step - loss: 42.2339 - mae: 5.1599 - val_loss: 1.8337 - val_mae: 0.9886 - lr: 1.2500e-04\n",
      "Epoch 102/200\n",
      "249/249 [==============================] - 0s 2ms/step - loss: 42.0806 - mae: 5.1606 - val_loss: 1.8672 - val_mae: 0.9975 - lr: 1.2500e-04\n",
      "Epoch 103/200\n",
      "249/249 [==============================] - ETA: 0s - loss: 41.3823 - mae: 5.1117\n",
      "Epoch 103: ReduceLROnPlateau reducing learning rate to 6.25000029685907e-05.\n",
      "249/249 [==============================] - 0s 2ms/step - loss: 41.3823 - mae: 5.1117 - val_loss: 1.7561 - val_mae: 0.9566 - lr: 1.2500e-04\n",
      "Epoch 104/200\n",
      "249/249 [==============================] - 0s 2ms/step - loss: 41.7937 - mae: 5.1174 - val_loss: 1.7389 - val_mae: 0.9520 - lr: 6.2500e-05\n",
      "Epoch 105/200\n",
      "249/249 [==============================] - 0s 2ms/step - loss: 42.0008 - mae: 5.1489 - val_loss: 1.7150 - val_mae: 0.9457 - lr: 6.2500e-05\n",
      "Epoch 106/200\n",
      "249/249 [==============================] - 0s 2ms/step - loss: 42.0316 - mae: 5.1554 - val_loss: 1.7185 - val_mae: 0.9484 - lr: 6.2500e-05\n",
      "Epoch 107/200\n",
      "249/249 [==============================] - 1s 2ms/step - loss: 42.3219 - mae: 5.1784 - val_loss: 1.7242 - val_mae: 0.9500 - lr: 6.2500e-05\n",
      "Epoch 108/200\n",
      "249/249 [==============================] - 1s 2ms/step - loss: 41.6759 - mae: 5.1422 - val_loss: 1.7601 - val_mae: 0.9649 - lr: 6.2500e-05\n",
      "Epoch 109/200\n",
      "249/249 [==============================] - 0s 2ms/step - loss: 42.9304 - mae: 5.2185 - val_loss: 1.8236 - val_mae: 0.9893 - lr: 6.2500e-05\n",
      "Epoch 110/200\n",
      "231/249 [==========================>...] - ETA: 0s - loss: 42.7884 - mae: 5.2119Restoring model weights from the end of the best epoch: 90.\n",
      "249/249 [==============================] - 0s 2ms/step - loss: 43.0164 - mae: 5.2237 - val_loss: 1.7751 - val_mae: 0.9690 - lr: 6.2500e-05\n",
      "Epoch 110: early stopping\n"
     ]
    }
   ],
   "source": [
    "history = model.fit(\n",
    "    X_train_scaled, y_train,\n",
    "    validation_split=0.2,\n",
    "    epochs=200,\n",
    "    batch_size=64,\n",
    "    callbacks=[early_stopping, reduce_lr],\n",
    "    verbose=1\n",
    ")"
   ]
  },
  {
   "cell_type": "markdown",
   "id": "4cacb875-b8d7-4ce5-9f70-38dfd553feda",
   "metadata": {},
   "source": [
    "# Saving Model:"
   ]
  },
  {
   "cell_type": "code",
   "execution_count": 291,
   "id": "0930cad3-b82a-4d86-acb5-6a57d56b34b1",
   "metadata": {},
   "outputs": [],
   "source": [
    "from tensorflow.keras.models import load_model"
   ]
  },
  {
   "cell_type": "code",
   "execution_count": 293,
   "id": "685a52ce-fbfd-49b8-ac30-6f04ffe9d724",
   "metadata": {},
   "outputs": [],
   "source": [
    "model.save('life_expectancy.h5')"
   ]
  },
  {
   "cell_type": "markdown",
   "id": "69ead31c-d0ea-48eb-89ab-81cd835396fd",
   "metadata": {},
   "source": [
    "# Evaluating Model Performance:"
   ]
  },
  {
   "cell_type": "code",
   "execution_count": 296,
   "id": "cf4777b9-b931-41d6-92d3-913956c09dcf",
   "metadata": {},
   "outputs": [],
   "source": [
    "losses = pd.DataFrame(history.history)"
   ]
  },
  {
   "cell_type": "code",
   "execution_count": 298,
   "id": "eaf71c1c-ccac-4840-9558-90241206f2cd",
   "metadata": {},
   "outputs": [
    {
     "data": {
      "text/plain": [
       "<Axes: >"
      ]
     },
     "execution_count": 298,
     "metadata": {},
     "output_type": "execute_result"
    },
    {
     "data": {
      "image/png": "[encoded data removed]",
      "text/plain": [
       "<Figure size 640x480 with 1 Axes>"
      ]
     },
     "metadata": {},
     "output_type": "display_data"
    }
   ],
   "source": [
    "losses[['loss','val_loss']].plot()"
   ]
  },
  {
   "cell_type": "code",
   "execution_count": 300,
   "id": "c3128b2b-2046-46b0-b276-d72cff0e365d",
   "metadata": {},
   "outputs": [
    {
     "name": "stdout",
     "output_type": "stream",
     "text": [
      "622/622 [==============================] - 0s 359us/step\n",
      "156/156 [==============================] - 0s 570us/step\n"
     ]
    }
   ],
   "source": [
    "train_predictions = model.predict(X_train_scaled)\n",
    "test_predictions = model.predict(X_test_scaled)\n",
    "\n",
    "train_predictions = train_predictions.ravel()\n",
    "test_predictions = test_predictions.ravel()"
   ]
  },
  {
   "cell_type": "code",
   "execution_count": 302,
   "id": "995a2dc0-b4e7-47e7-a8ff-0004d418d17a",
   "metadata": {},
   "outputs": [
    {
     "name": "stdout",
     "output_type": "stream",
     "text": [
      "Train RMSE: 1.19\n",
      "Test RMSE: 1.22\n"
     ]
    }
   ],
   "source": [
    "train_rmse = np.sqrt(mean_squared_error(y_train, train_predictions))\n",
    "test_rmse = np.sqrt(mean_squared_error(y_test, test_predictions))\n",
    "print('Train RMSE:', f'{train_rmse:.2f}')\n",
    "print('Test RMSE:', f'{test_rmse:.2f}')"
   ]
  },
  {
   "cell_type": "code",
   "execution_count": 304,
   "id": "5bb2dac0-8397-482a-8409-f18ce0697451",
   "metadata": {},
   "outputs": [
    {
     "name": "stdout",
     "output_type": "stream",
     "text": [
      "Train correlation (R^2): 0.9\n",
      "Test correlation (R^2): 0.89\n"
     ]
    }
   ],
   "source": [
    "# Correlation values\n",
    "train_r_sq = pearsonr(y_train, train_predictions)[0]\n",
    "test_r_sq = pearsonr(y_test, test_predictions)[0]\n",
    "print('Train correlation (R^2):', round(train_r_sq, 2))\n",
    "print('Test correlation (R^2):', round(test_r_sq, 2))"
   ]
  },
  {
   "cell_type": "markdown",
   "id": "0eac348c-1106-4cda-a661-76a95df5bead",
   "metadata": {},
   "source": [
    "# Visualize Model Performance:"
   ]
  },
  {
   "cell_type": "code",
   "execution_count": 307,
   "id": "e5d53f1d-5af8-4ff1-ac22-c081ea8df648",
   "metadata": {},
   "outputs": [
    {
     "data": {
      "image/png": "[encoded data removed]",
      "text/plain": [
       "<Figure size 500x500 with 1 Axes>"
      ]
     },
     "metadata": {},
     "output_type": "display_data"
    }
   ],
   "source": [
    "# Scatter plot for model performance\n",
    "plt.figure(figsize=(5, 5))\n",
    "plt.scatter(y_train, train_predictions, s=10, c='C0', label=f'Train $R^2$={round(train_r_sq, 2)}')\n",
    "plt.scatter(y_test, test_predictions, marker='x', s=10, c='orange', label=f'Test $R^2$={round(test_r_sq, 2)}')\n",
    "p1 = max(max(train_predictions), max(y_train))\n",
    "p2 = min(min(train_predictions), min(y_train))\n",
    "plt.plot([p1, p2], [p1, p2], 'black', label='1:1 line', linewidth=1)\n",
    "plt.xlabel('True Life Expectancy')\n",
    "plt.ylabel('Predicted Life Expectancy')\n",
    "plt.title(\"Performance Scatter Plot for Life Expectancy\")\n",
    "plt.legend()\n",
    "plt.grid(axis='both', linewidth=0.15)\n",
    "plt.show()"
   ]
  },
  {
   "cell_type": "code",
   "execution_count": 309,
   "id": "cf4342dc-32e4-4bab-acc2-9974d443a5fd",
   "metadata": {},
   "outputs": [
    {
     "data": {
      "text/plain": [
       "<Figure size 500x500 with 0 Axes>"
      ]
     },
     "metadata": {},
     "output_type": "display_data"
    },
    {
     "data": {
      "image/png": "[encoded data removed]",
      "text/plain": [
       "<Figure size 640x480 with 1 Axes>"
      ]
     },
     "metadata": {},
     "output_type": "display_data"
    }
   ],
   "source": [
    "# Quantile-Quantile Plot\n",
    "all_predictions = np.concatenate((train_predictions, test_predictions))\n",
    "all_targets = np.concatenate((y_train, y_test))\n",
    "\n",
    "predictions_sorted = np.sort(all_predictions)\n",
    "targets_sorted = np.sort(all_targets)\n",
    "\n",
    "plt.figure(figsize=(5, 5))\n",
    "pp_x = sm.ProbPlot(predictions_sorted, fit=False)\n",
    "pp_y = sm.ProbPlot(targets_sorted, fit=False)\n",
    "qq = pp_x.qqplot(xlabel='True Life Expectancy', ylabel='Estimated Life Expectancy', marker='x', markersize=4, other=pp_y)\n",
    "\n",
    "# Draw the 45-degree line\n",
    "sm.qqline(qq.axes[0], line='45', fmt='r', linewidth=1)\n",
    "\n",
    "# Highlight percentiles for interpretation\n",
    "targets_25 = np.percentile(targets_sorted, 25)\n",
    "targets_50 = np.percentile(targets_sorted, 50)\n",
    "targets_75 = np.percentile(targets_sorted, 75)\n",
    "targets_90 = np.percentile(targets_sorted, 90)\n",
    "\n",
    "predictions_25 = np.percentile(predictions_sorted, 25)\n",
    "predictions_50 = np.percentile(predictions_sorted, 50)\n",
    "predictions_75 = np.percentile(predictions_sorted, 75)\n",
    "predictions_90 = np.percentile(predictions_sorted, 90)\n",
    "\n",
    "# Plotting the percentile markers\n",
    "plt.plot(targets_25, predictions_25, marker=\"D\", markersize=5, color=\"orange\", linestyle='None', label=\"25th Percentile\")\n",
    "plt.plot(targets_50, predictions_50, marker=\"D\", markersize=5, color=\"violet\", linestyle='None', label=\"50th Percentile\")\n",
    "plt.plot(targets_75, predictions_75, marker=\"D\", markersize=5, color=\"cyan\", linestyle='None', label=\"75th Percentile\")\n",
    "plt.plot(targets_90, predictions_90, marker=\"D\", markersize=5, color=\"green\", linestyle='None', label=\"90th Percentile\")\n",
    "\n",
    "plt.title('Quantile-Quantile Plot of Life Expectancy', fontsize=14, fontweight=\"bold\")\n",
    "plt.grid(axis='both', linewidth=0.15)\n",
    "plt.legend()\n",
    "plt.show()"
   ]
  },
  {
   "cell_type": "markdown",
   "id": "aab19837-0b30-4045-9ea4-79bd58512c0c",
   "metadata": {},
   "source": [
    "# Using Hyperpameter Optimization:"
   ]
  },
  {
   "cell_type": "code",
   "execution_count": 312,
   "id": "14c8f299-0c0d-467e-aeba-3374fb3cf381",
   "metadata": {},
   "outputs": [],
   "source": [
    "import optuna\n",
    "import tensorflow as tf"
   ]
  },
  {
   "cell_type": "code",
   "execution_count": 317,
   "id": "4386e927-9bb9-435a-90cb-8c1ce913e766",
   "metadata": {},
   "outputs": [],
   "source": [
    "# Objective function for Optuna\n",
    "def objective(trial):\n",
    "    # Define the hyperparameter search space\n",
    "    num_hidden_layers = trial.suggest_int(\"num_hidden_layers\", 1, 3)\n",
    "    hidden_units = trial.suggest_int(\"hidden_units\", 32, 256)\n",
    "    dropout_rate = trial.suggest_float(\"dropout_rate\", 0.1, 0.5)\n",
    "    activation = trial.suggest_categorical(\"activation\", [\"relu\", \"tanh\"])\n",
    "    learning_rate = trial.suggest_loguniform(\"learning_rate\", 1e-4, 1e-2)\n",
    "    \n",
    "    # Build the model\n",
    "    model = Sequential()\n",
    "    model.add(Dense(hidden_units, activation=activation, input_shape=(X_train.shape[1],)))\n",
    "    for _ in range(num_hidden_layers - 1):\n",
    "        model.add(Dense(hidden_units, activation=activation))\n",
    "        model.add(Dropout(dropout_rate))\n",
    "    model.add(Dense(1))  # Output layer\n",
    "    \n",
    "    # Compile the model\n",
    "    model.compile(optimizer=tf.keras.optimizers.legacy.Adam(learning_rate=learning_rate), loss=\"mse\")\n",
    "    \n",
    "    # Train the model\n",
    "    history = model.fit(\n",
    "        X_train, y_train,\n",
    "        validation_split=0.2,\n",
    "        batch_size=32,\n",
    "        epochs=50,\n",
    "        verbose=0  # Suppress verbose output for speed\n",
    "    )\n",
    "    \n",
    "    # Evaluate the model\n",
    "    predictions = model.predict(X_test)\n",
    "    mse = mean_squared_error(y_test, predictions)\n",
    "    \n",
    "    return mse  # Optuna minimizes this value"
   ]
  },
  {
   "cell_type": "code",
   "execution_count": 318,
   "id": "41d02609-cd8e-45fb-b2f6-aa5df6a0a600",
   "metadata": {
    "scrolled": true
   },
   "outputs": [
    {
     "name": "stderr",
     "output_type": "stream",
     "text": [
      "[I 2025-01-11 00:12:23,698] A new study created in memory with name: no-name-7011f89e-ca8e-466d-b368-3297ea6eb75a\n",
      "/var/folders/sc/k6080_9j4cx42wf_vh5ybvmw0000gn/T/ipykernel_16470/935947109.py:8: FutureWarning: suggest_loguniform has been deprecated in v3.0.0. This feature will be removed in v6.0.0. See https://github.com/optuna/optuna/releases/tag/v3.0.0. Use suggest_float(..., log=True) instead.\n",
      "  learning_rate = trial.suggest_loguniform(\"learning_rate\", 1e-4, 1e-2)\n"
     ]
    },
    {
     "name": "stdout",
     "output_type": "stream",
     "text": [
      "156/156 [==============================] - 0s 322us/step\n"
     ]
    },
    {
     "name": "stderr",
     "output_type": "stream",
     "text": [
      "[I 2025-01-11 00:12:42,443] Trial 0 finished with value: 6.587747248182271 and parameters: {'num_hidden_layers': 3, 'hidden_units': 141, 'dropout_rate': 0.2740206581655082, 'activation': 'relu', 'learning_rate': 0.0015070711496765615}. Best is trial 0 with value: 6.587747248182271.\n",
      "/var/folders/sc/k6080_9j4cx42wf_vh5ybvmw0000gn/T/ipykernel_16470/935947109.py:8: FutureWarning: suggest_loguniform has been deprecated in v3.0.0. This feature will be removed in v6.0.0. See https://github.com/optuna/optuna/releases/tag/v3.0.0. Use suggest_float(..., log=True) instead.\n",
      "  learning_rate = trial.suggest_loguniform(\"learning_rate\", 1e-4, 1e-2)\n"
     ]
    },
    {
     "name": "stdout",
     "output_type": "stream",
     "text": [
      "156/156 [==============================] - 0s 344us/step\n"
     ]
    },
    {
     "name": "stderr",
     "output_type": "stream",
     "text": [
      "[I 2025-01-11 00:13:00,369] Trial 1 finished with value: 5.292242235067419 and parameters: {'num_hidden_layers': 2, 'hidden_units': 238, 'dropout_rate': 0.15427872572576753, 'activation': 'tanh', 'learning_rate': 0.0008242760360834191}. Best is trial 1 with value: 5.292242235067419.\n",
      "/var/folders/sc/k6080_9j4cx42wf_vh5ybvmw0000gn/T/ipykernel_16470/935947109.py:8: FutureWarning: suggest_loguniform has been deprecated in v3.0.0. This feature will be removed in v6.0.0. See https://github.com/optuna/optuna/releases/tag/v3.0.0. Use suggest_float(..., log=True) instead.\n",
      "  learning_rate = trial.suggest_loguniform(\"learning_rate\", 1e-4, 1e-2)\n"
     ]
    },
    {
     "name": "stdout",
     "output_type": "stream",
     "text": [
      "156/156 [==============================] - 0s 329us/step\n"
     ]
    },
    {
     "name": "stderr",
     "output_type": "stream",
     "text": [
      "[I 2025-01-11 00:13:18,861] Trial 2 finished with value: 1092.5357711264048 and parameters: {'num_hidden_layers': 2, 'hidden_units': 225, 'dropout_rate': 0.4918183285162773, 'activation': 'relu', 'learning_rate': 0.0010185964461843964}. Best is trial 1 with value: 5.292242235067419.\n",
      "/var/folders/sc/k6080_9j4cx42wf_vh5ybvmw0000gn/T/ipykernel_16470/935947109.py:8: FutureWarning: suggest_loguniform has been deprecated in v3.0.0. This feature will be removed in v6.0.0. See https://github.com/optuna/optuna/releases/tag/v3.0.0. Use suggest_float(..., log=True) instead.\n",
      "  learning_rate = trial.suggest_loguniform(\"learning_rate\", 1e-4, 1e-2)\n"
     ]
    },
    {
     "name": "stdout",
     "output_type": "stream",
     "text": [
      "156/156 [==============================] - 0s 298us/step\n"
     ]
    },
    {
     "name": "stderr",
     "output_type": "stream",
     "text": [
      "[I 2025-01-11 00:13:37,961] Trial 3 finished with value: 6.96857467411893 and parameters: {'num_hidden_layers': 2, 'hidden_units': 217, 'dropout_rate': 0.4560246824886916, 'activation': 'tanh', 'learning_rate': 0.005116116743231773}. Best is trial 1 with value: 5.292242235067419.\n",
      "/var/folders/sc/k6080_9j4cx42wf_vh5ybvmw0000gn/T/ipykernel_16470/935947109.py:8: FutureWarning: suggest_loguniform has been deprecated in v3.0.0. This feature will be removed in v6.0.0. See https://github.com/optuna/optuna/releases/tag/v3.0.0. Use suggest_float(..., log=True) instead.\n",
      "  learning_rate = trial.suggest_loguniform(\"learning_rate\", 1e-4, 1e-2)\n"
     ]
    },
    {
     "name": "stdout",
     "output_type": "stream",
     "text": [
      "156/156 [==============================] - 0s 267us/step\n"
     ]
    },
    {
     "name": "stderr",
     "output_type": "stream",
     "text": [
      "[I 2025-01-11 00:13:49,466] Trial 4 finished with value: 5.199269358302633 and parameters: {'num_hidden_layers': 1, 'hidden_units': 238, 'dropout_rate': 0.33922892142198824, 'activation': 'tanh', 'learning_rate': 0.00038175756175633425}. Best is trial 4 with value: 5.199269358302633.\n",
      "/var/folders/sc/k6080_9j4cx42wf_vh5ybvmw0000gn/T/ipykernel_16470/935947109.py:8: FutureWarning: suggest_loguniform has been deprecated in v3.0.0. This feature will be removed in v6.0.0. See https://github.com/optuna/optuna/releases/tag/v3.0.0. Use suggest_float(..., log=True) instead.\n",
      "  learning_rate = trial.suggest_loguniform(\"learning_rate\", 1e-4, 1e-2)\n"
     ]
    },
    {
     "name": "stdout",
     "output_type": "stream",
     "text": [
      "156/156 [==============================] - 0s 251us/step\n"
     ]
    },
    {
     "name": "stderr",
     "output_type": "stream",
     "text": [
      "[I 2025-01-11 00:13:59,828] Trial 5 finished with value: 59544.886827535265 and parameters: {'num_hidden_layers': 1, 'hidden_units': 123, 'dropout_rate': 0.15601454844787666, 'activation': 'relu', 'learning_rate': 0.00030351646659849176}. Best is trial 4 with value: 5.199269358302633.\n",
      "/var/folders/sc/k6080_9j4cx42wf_vh5ybvmw0000gn/T/ipykernel_16470/935947109.py:8: FutureWarning: suggest_loguniform has been deprecated in v3.0.0. This feature will be removed in v6.0.0. See https://github.com/optuna/optuna/releases/tag/v3.0.0. Use suggest_float(..., log=True) instead.\n",
      "  learning_rate = trial.suggest_loguniform(\"learning_rate\", 1e-4, 1e-2)\n"
     ]
    },
    {
     "name": "stdout",
     "output_type": "stream",
     "text": [
      "156/156 [==============================] - 0s 261us/step\n"
     ]
    },
    {
     "name": "stderr",
     "output_type": "stream",
     "text": [
      "[I 2025-01-11 00:14:09,970] Trial 6 finished with value: 6.591704382087518 and parameters: {'num_hidden_layers': 1, 'hidden_units': 86, 'dropout_rate': 0.44699729648003306, 'activation': 'tanh', 'learning_rate': 0.009158816386532619}. Best is trial 4 with value: 5.199269358302633.\n",
      "/var/folders/sc/k6080_9j4cx42wf_vh5ybvmw0000gn/T/ipykernel_16470/935947109.py:8: FutureWarning: suggest_loguniform has been deprecated in v3.0.0. This feature will be removed in v6.0.0. See https://github.com/optuna/optuna/releases/tag/v3.0.0. Use suggest_float(..., log=True) instead.\n",
      "  learning_rate = trial.suggest_loguniform(\"learning_rate\", 1e-4, 1e-2)\n"
     ]
    },
    {
     "name": "stdout",
     "output_type": "stream",
     "text": [
      "156/156 [==============================] - 0s 316us/step\n"
     ]
    },
    {
     "name": "stderr",
     "output_type": "stream",
     "text": [
      "[I 2025-01-11 00:14:28,874] Trial 7 finished with value: 5.803379056758255 and parameters: {'num_hidden_layers': 2, 'hidden_units': 239, 'dropout_rate': 0.33781188208631596, 'activation': 'tanh', 'learning_rate': 0.0009427814468534795}. Best is trial 4 with value: 5.199269358302633.\n",
      "/var/folders/sc/k6080_9j4cx42wf_vh5ybvmw0000gn/T/ipykernel_16470/935947109.py:8: FutureWarning: suggest_loguniform has been deprecated in v3.0.0. This feature will be removed in v6.0.0. See https://github.com/optuna/optuna/releases/tag/v3.0.0. Use suggest_float(..., log=True) instead.\n",
      "  learning_rate = trial.suggest_loguniform(\"learning_rate\", 1e-4, 1e-2)\n"
     ]
    },
    {
     "name": "stdout",
     "output_type": "stream",
     "text": [
      "156/156 [==============================] - 0s 255us/step\n"
     ]
    },
    {
     "name": "stderr",
     "output_type": "stream",
     "text": [
      "[I 2025-01-11 00:14:38,926] Trial 8 finished with value: 6.091606015310352 and parameters: {'num_hidden_layers': 1, 'hidden_units': 131, 'dropout_rate': 0.4223819463561316, 'activation': 'tanh', 'learning_rate': 0.0012062037961635245}. Best is trial 4 with value: 5.199269358302633.\n",
      "/var/folders/sc/k6080_9j4cx42wf_vh5ybvmw0000gn/T/ipykernel_16470/935947109.py:8: FutureWarning: suggest_loguniform has been deprecated in v3.0.0. This feature will be removed in v6.0.0. See https://github.com/optuna/optuna/releases/tag/v3.0.0. Use suggest_float(..., log=True) instead.\n",
      "  learning_rate = trial.suggest_loguniform(\"learning_rate\", 1e-4, 1e-2)\n"
     ]
    },
    {
     "name": "stdout",
     "output_type": "stream",
     "text": [
      "156/156 [==============================] - 0s 319us/step\n"
     ]
    },
    {
     "name": "stderr",
     "output_type": "stream",
     "text": [
      "[I 2025-01-11 00:14:58,090] Trial 9 finished with value: 4.732136978095772 and parameters: {'num_hidden_layers': 2, 'hidden_units': 247, 'dropout_rate': 0.2020720956305493, 'activation': 'tanh', 'learning_rate': 0.00012160912429718907}. Best is trial 9 with value: 4.732136978095772.\n",
      "/var/folders/sc/k6080_9j4cx42wf_vh5ybvmw0000gn/T/ipykernel_16470/935947109.py:8: FutureWarning: suggest_loguniform has been deprecated in v3.0.0. This feature will be removed in v6.0.0. See https://github.com/optuna/optuna/releases/tag/v3.0.0. Use suggest_float(..., log=True) instead.\n",
      "  learning_rate = trial.suggest_loguniform(\"learning_rate\", 1e-4, 1e-2)\n"
     ]
    },
    {
     "name": "stdout",
     "output_type": "stream",
     "text": [
      "156/156 [==============================] - 0s 341us/step\n"
     ]
    },
    {
     "name": "stderr",
     "output_type": "stream",
     "text": [
      "[I 2025-01-11 00:15:21,108] Trial 10 finished with value: 818.7476589082743 and parameters: {'num_hidden_layers': 3, 'hidden_units': 177, 'dropout_rate': 0.24827870457948611, 'activation': 'relu', 'learning_rate': 0.0001234668150223501}. Best is trial 9 with value: 4.732136978095772.\n",
      "/var/folders/sc/k6080_9j4cx42wf_vh5ybvmw0000gn/T/ipykernel_16470/935947109.py:8: FutureWarning: suggest_loguniform has been deprecated in v3.0.0. This feature will be removed in v6.0.0. See https://github.com/optuna/optuna/releases/tag/v3.0.0. Use suggest_float(..., log=True) instead.\n",
      "  learning_rate = trial.suggest_loguniform(\"learning_rate\", 1e-4, 1e-2)\n"
     ]
    },
    {
     "name": "stdout",
     "output_type": "stream",
     "text": [
      "156/156 [==============================] - 0s 260us/step\n"
     ]
    },
    {
     "name": "stderr",
     "output_type": "stream",
     "text": [
      "[I 2025-01-11 00:15:30,481] Trial 11 finished with value: 5.578080380902268 and parameters: {'num_hidden_layers': 1, 'hidden_units': 188, 'dropout_rate': 0.35354709652565586, 'activation': 'tanh', 'learning_rate': 0.00014178237203141166}. Best is trial 9 with value: 4.732136978095772.\n",
      "/var/folders/sc/k6080_9j4cx42wf_vh5ybvmw0000gn/T/ipykernel_16470/935947109.py:8: FutureWarning: suggest_loguniform has been deprecated in v3.0.0. This feature will be removed in v6.0.0. See https://github.com/optuna/optuna/releases/tag/v3.0.0. Use suggest_float(..., log=True) instead.\n",
      "  learning_rate = trial.suggest_loguniform(\"learning_rate\", 1e-4, 1e-2)\n"
     ]
    },
    {
     "name": "stdout",
     "output_type": "stream",
     "text": [
      "156/156 [==============================] - 0s 266us/step\n"
     ]
    },
    {
     "name": "stderr",
     "output_type": "stream",
     "text": [
      "[I 2025-01-11 00:15:42,433] Trial 12 finished with value: 5.7940764170884576 and parameters: {'num_hidden_layers': 3, 'hidden_units': 39, 'dropout_rate': 0.21990110021531767, 'activation': 'tanh', 'learning_rate': 0.0003370954661588527}. Best is trial 9 with value: 4.732136978095772.\n",
      "/var/folders/sc/k6080_9j4cx42wf_vh5ybvmw0000gn/T/ipykernel_16470/935947109.py:8: FutureWarning: suggest_loguniform has been deprecated in v3.0.0. This feature will be removed in v6.0.0. See https://github.com/optuna/optuna/releases/tag/v3.0.0. Use suggest_float(..., log=True) instead.\n",
      "  learning_rate = trial.suggest_loguniform(\"learning_rate\", 1e-4, 1e-2)\n"
     ]
    },
    {
     "name": "stdout",
     "output_type": "stream",
     "text": [
      "156/156 [==============================] - 0s 261us/step\n"
     ]
    },
    {
     "name": "stderr",
     "output_type": "stream",
     "text": [
      "[I 2025-01-11 00:15:53,668] Trial 13 finished with value: 5.306957002540893 and parameters: {'num_hidden_layers': 1, 'hidden_units': 253, 'dropout_rate': 0.10490319746979088, 'activation': 'tanh', 'learning_rate': 0.00029313868639100444}. Best is trial 9 with value: 4.732136978095772.\n",
      "/var/folders/sc/k6080_9j4cx42wf_vh5ybvmw0000gn/T/ipykernel_16470/935947109.py:8: FutureWarning: suggest_loguniform has been deprecated in v3.0.0. This feature will be removed in v6.0.0. See https://github.com/optuna/optuna/releases/tag/v3.0.0. Use suggest_float(..., log=True) instead.\n",
      "  learning_rate = trial.suggest_loguniform(\"learning_rate\", 1e-4, 1e-2)\n"
     ]
    },
    {
     "name": "stdout",
     "output_type": "stream",
     "text": [
      "156/156 [==============================] - 0s 317us/step\n"
     ]
    },
    {
     "name": "stderr",
     "output_type": "stream",
     "text": [
      "[I 2025-01-11 00:16:10,846] Trial 14 finished with value: 4.97462484777051 and parameters: {'num_hidden_layers': 2, 'hidden_units': 189, 'dropout_rate': 0.33005750886682955, 'activation': 'tanh', 'learning_rate': 0.00018647268903793844}. Best is trial 9 with value: 4.732136978095772.\n",
      "/var/folders/sc/k6080_9j4cx42wf_vh5ybvmw0000gn/T/ipykernel_16470/935947109.py:8: FutureWarning: suggest_loguniform has been deprecated in v3.0.0. This feature will be removed in v6.0.0. See https://github.com/optuna/optuna/releases/tag/v3.0.0. Use suggest_float(..., log=True) instead.\n",
      "  learning_rate = trial.suggest_loguniform(\"learning_rate\", 1e-4, 1e-2)\n"
     ]
    },
    {
     "name": "stdout",
     "output_type": "stream",
     "text": [
      "156/156 [==============================] - 0s 309us/step\n"
     ]
    },
    {
     "name": "stderr",
     "output_type": "stream",
     "text": [
      "[I 2025-01-11 00:16:25,916] Trial 15 finished with value: 4.98004870731316 and parameters: {'num_hidden_layers': 2, 'hidden_units': 192, 'dropout_rate': 0.2035859610318949, 'activation': 'tanh', 'learning_rate': 0.00011472471392517312}. Best is trial 9 with value: 4.732136978095772.\n",
      "/var/folders/sc/k6080_9j4cx42wf_vh5ybvmw0000gn/T/ipykernel_16470/935947109.py:8: FutureWarning: suggest_loguniform has been deprecated in v3.0.0. This feature will be removed in v6.0.0. See https://github.com/optuna/optuna/releases/tag/v3.0.0. Use suggest_float(..., log=True) instead.\n",
      "  learning_rate = trial.suggest_loguniform(\"learning_rate\", 1e-4, 1e-2)\n"
     ]
    },
    {
     "name": "stdout",
     "output_type": "stream",
     "text": [
      "156/156 [==============================] - 0s 299us/step\n"
     ]
    },
    {
     "name": "stderr",
     "output_type": "stream",
     "text": [
      "[I 2025-01-11 00:16:42,549] Trial 16 finished with value: 5.151090366407207 and parameters: {'num_hidden_layers': 2, 'hidden_units': 171, 'dropout_rate': 0.39166276882519435, 'activation': 'tanh', 'learning_rate': 0.0002195310517213262}. Best is trial 9 with value: 4.732136978095772.\n",
      "/var/folders/sc/k6080_9j4cx42wf_vh5ybvmw0000gn/T/ipykernel_16470/935947109.py:8: FutureWarning: suggest_loguniform has been deprecated in v3.0.0. This feature will be removed in v6.0.0. See https://github.com/optuna/optuna/releases/tag/v3.0.0. Use suggest_float(..., log=True) instead.\n",
      "  learning_rate = trial.suggest_loguniform(\"learning_rate\", 1e-4, 1e-2)\n"
     ]
    },
    {
     "name": "stdout",
     "output_type": "stream",
     "text": [
      "156/156 [==============================] - 0s 353us/step\n"
     ]
    },
    {
     "name": "stderr",
     "output_type": "stream",
     "text": [
      "[I 2025-01-11 00:17:06,733] Trial 17 finished with value: 5.724469102148287 and parameters: {'num_hidden_layers': 3, 'hidden_units': 206, 'dropout_rate': 0.29204569093899513, 'activation': 'tanh', 'learning_rate': 0.0005390105495164169}. Best is trial 9 with value: 4.732136978095772.\n",
      "/var/folders/sc/k6080_9j4cx42wf_vh5ybvmw0000gn/T/ipykernel_16470/935947109.py:8: FutureWarning: suggest_loguniform has been deprecated in v3.0.0. This feature will be removed in v6.0.0. See https://github.com/optuna/optuna/releases/tag/v3.0.0. Use suggest_float(..., log=True) instead.\n",
      "  learning_rate = trial.suggest_loguniform(\"learning_rate\", 1e-4, 1e-2)\n"
     ]
    },
    {
     "name": "stdout",
     "output_type": "stream",
     "text": [
      "156/156 [==============================] - 0s 293us/step\n"
     ]
    },
    {
     "name": "stderr",
     "output_type": "stream",
     "text": [
      "[I 2025-01-11 00:17:22,290] Trial 18 finished with value: 2002.0207097599057 and parameters: {'num_hidden_layers': 2, 'hidden_units': 161, 'dropout_rate': 0.1797117648181398, 'activation': 'relu', 'learning_rate': 0.002537374295015904}. Best is trial 9 with value: 4.732136978095772.\n",
      "/var/folders/sc/k6080_9j4cx42wf_vh5ybvmw0000gn/T/ipykernel_16470/935947109.py:8: FutureWarning: suggest_loguniform has been deprecated in v3.0.0. This feature will be removed in v6.0.0. See https://github.com/optuna/optuna/releases/tag/v3.0.0. Use suggest_float(..., log=True) instead.\n",
      "  learning_rate = trial.suggest_loguniform(\"learning_rate\", 1e-4, 1e-2)\n"
     ]
    },
    {
     "name": "stdout",
     "output_type": "stream",
     "text": [
      "156/156 [==============================] - 0s 262us/step\n"
     ]
    },
    {
     "name": "stderr",
     "output_type": "stream",
     "text": [
      "[I 2025-01-11 00:17:33,924] Trial 19 finished with value: 5.284515902632111 and parameters: {'num_hidden_layers': 2, 'hidden_units': 100, 'dropout_rate': 0.2496123916005897, 'activation': 'tanh', 'learning_rate': 0.00020007548854817725}. Best is trial 9 with value: 4.732136978095772.\n",
      "/var/folders/sc/k6080_9j4cx42wf_vh5ybvmw0000gn/T/ipykernel_16470/935947109.py:8: FutureWarning: suggest_loguniform has been deprecated in v3.0.0. This feature will be removed in v6.0.0. See https://github.com/optuna/optuna/releases/tag/v3.0.0. Use suggest_float(..., log=True) instead.\n",
      "  learning_rate = trial.suggest_loguniform(\"learning_rate\", 1e-4, 1e-2)\n"
     ]
    },
    {
     "name": "stdout",
     "output_type": "stream",
     "text": [
      "156/156 [==============================] - 0s 360us/step\n"
     ]
    },
    {
     "name": "stderr",
     "output_type": "stream",
     "text": [
      "[I 2025-01-11 00:17:58,147] Trial 20 finished with value: 5.33211190052287 and parameters: {'num_hidden_layers': 3, 'hidden_units': 210, 'dropout_rate': 0.11254313581759509, 'activation': 'tanh', 'learning_rate': 0.0005672298698909835}. Best is trial 9 with value: 4.732136978095772.\n",
      "/var/folders/sc/k6080_9j4cx42wf_vh5ybvmw0000gn/T/ipykernel_16470/935947109.py:8: FutureWarning: suggest_loguniform has been deprecated in v3.0.0. This feature will be removed in v6.0.0. See https://github.com/optuna/optuna/releases/tag/v3.0.0. Use suggest_float(..., log=True) instead.\n",
      "  learning_rate = trial.suggest_loguniform(\"learning_rate\", 1e-4, 1e-2)\n"
     ]
    },
    {
     "name": "stdout",
     "output_type": "stream",
     "text": [
      "156/156 [==============================] - 0s 346us/step\n"
     ]
    },
    {
     "name": "stderr",
     "output_type": "stream",
     "text": [
      "[I 2025-01-11 00:18:16,671] Trial 21 finished with value: 4.936566949369787 and parameters: {'num_hidden_layers': 2, 'hidden_units': 193, 'dropout_rate': 0.19577353611322965, 'activation': 'tanh', 'learning_rate': 0.00010510254119843581}. Best is trial 9 with value: 4.732136978095772.\n",
      "/var/folders/sc/k6080_9j4cx42wf_vh5ybvmw0000gn/T/ipykernel_16470/935947109.py:8: FutureWarning: suggest_loguniform has been deprecated in v3.0.0. This feature will be removed in v6.0.0. See https://github.com/optuna/optuna/releases/tag/v3.0.0. Use suggest_float(..., log=True) instead.\n",
      "  learning_rate = trial.suggest_loguniform(\"learning_rate\", 1e-4, 1e-2)\n"
     ]
    },
    {
     "name": "stdout",
     "output_type": "stream",
     "text": [
      "156/156 [==============================] - 0s 308us/step\n"
     ]
    },
    {
     "name": "stderr",
     "output_type": "stream",
     "text": [
      "[I 2025-01-11 00:18:33,961] Trial 22 finished with value: 5.056737508032807 and parameters: {'num_hidden_layers': 2, 'hidden_units': 163, 'dropout_rate': 0.3108866143881357, 'activation': 'tanh', 'learning_rate': 0.00010205633248953551}. Best is trial 9 with value: 4.732136978095772.\n",
      "/var/folders/sc/k6080_9j4cx42wf_vh5ybvmw0000gn/T/ipykernel_16470/935947109.py:8: FutureWarning: suggest_loguniform has been deprecated in v3.0.0. This feature will be removed in v6.0.0. See https://github.com/optuna/optuna/releases/tag/v3.0.0. Use suggest_float(..., log=True) instead.\n",
      "  learning_rate = trial.suggest_loguniform(\"learning_rate\", 1e-4, 1e-2)\n"
     ]
    },
    {
     "name": "stdout",
     "output_type": "stream",
     "text": [
      "156/156 [==============================] - 0s 333us/step\n"
     ]
    },
    {
     "name": "stderr",
     "output_type": "stream",
     "text": [
      "[I 2025-01-11 00:18:55,666] Trial 23 finished with value: 4.955079066182288 and parameters: {'num_hidden_layers': 2, 'hidden_units': 256, 'dropout_rate': 0.22783807084044966, 'activation': 'tanh', 'learning_rate': 0.0001885449897341206}. Best is trial 9 with value: 4.732136978095772.\n",
      "/var/folders/sc/k6080_9j4cx42wf_vh5ybvmw0000gn/T/ipykernel_16470/935947109.py:8: FutureWarning: suggest_loguniform has been deprecated in v3.0.0. This feature will be removed in v6.0.0. See https://github.com/optuna/optuna/releases/tag/v3.0.0. Use suggest_float(..., log=True) instead.\n",
      "  learning_rate = trial.suggest_loguniform(\"learning_rate\", 1e-4, 1e-2)\n"
     ]
    },
    {
     "name": "stdout",
     "output_type": "stream",
     "text": [
      "156/156 [==============================] - 0s 321us/step\n"
     ]
    },
    {
     "name": "stderr",
     "output_type": "stream",
     "text": [
      "[I 2025-01-11 00:19:17,503] Trial 24 finished with value: 4.887046018899748 and parameters: {'num_hidden_layers': 2, 'hidden_units': 254, 'dropout_rate': 0.21692273490928898, 'activation': 'tanh', 'learning_rate': 0.00015058525535296518}. Best is trial 9 with value: 4.732136978095772.\n",
      "/var/folders/sc/k6080_9j4cx42wf_vh5ybvmw0000gn/T/ipykernel_16470/935947109.py:8: FutureWarning: suggest_loguniform has been deprecated in v3.0.0. This feature will be removed in v6.0.0. See https://github.com/optuna/optuna/releases/tag/v3.0.0. Use suggest_float(..., log=True) instead.\n",
      "  learning_rate = trial.suggest_loguniform(\"learning_rate\", 1e-4, 1e-2)\n"
     ]
    },
    {
     "name": "stdout",
     "output_type": "stream",
     "text": [
      "156/156 [==============================] - 0s 312us/step\n"
     ]
    },
    {
     "name": "stderr",
     "output_type": "stream",
     "text": [
      "[I 2025-01-11 00:19:35,692] Trial 25 finished with value: 4.767013226311235 and parameters: {'num_hidden_layers': 2, 'hidden_units': 221, 'dropout_rate': 0.18504976374103999, 'activation': 'tanh', 'learning_rate': 0.0001504073023086821}. Best is trial 9 with value: 4.732136978095772.\n",
      "/var/folders/sc/k6080_9j4cx42wf_vh5ybvmw0000gn/T/ipykernel_16470/935947109.py:8: FutureWarning: suggest_loguniform has been deprecated in v3.0.0. This feature will be removed in v6.0.0. See https://github.com/optuna/optuna/releases/tag/v3.0.0. Use suggest_float(..., log=True) instead.\n",
      "  learning_rate = trial.suggest_loguniform(\"learning_rate\", 1e-4, 1e-2)\n"
     ]
    },
    {
     "name": "stdout",
     "output_type": "stream",
     "text": [
      "156/156 [==============================] - 0s 355us/step\n"
     ]
    },
    {
     "name": "stderr",
     "output_type": "stream",
     "text": [
      "[I 2025-01-11 00:20:03,266] Trial 26 finished with value: 6.570346298704848 and parameters: {'num_hidden_layers': 3, 'hidden_units': 230, 'dropout_rate': 0.14814904685887084, 'activation': 'relu', 'learning_rate': 0.0005043570200745557}. Best is trial 9 with value: 4.732136978095772.\n",
      "/var/folders/sc/k6080_9j4cx42wf_vh5ybvmw0000gn/T/ipykernel_16470/935947109.py:8: FutureWarning: suggest_loguniform has been deprecated in v3.0.0. This feature will be removed in v6.0.0. See https://github.com/optuna/optuna/releases/tag/v3.0.0. Use suggest_float(..., log=True) instead.\n",
      "  learning_rate = trial.suggest_loguniform(\"learning_rate\", 1e-4, 1e-2)\n"
     ]
    },
    {
     "name": "stdout",
     "output_type": "stream",
     "text": [
      "156/156 [==============================] - 0s 372us/step\n"
     ]
    },
    {
     "name": "stderr",
     "output_type": "stream",
     "text": [
      "[I 2025-01-11 00:20:24,664] Trial 27 finished with value: 5.1106944213674605 and parameters: {'num_hidden_layers': 2, 'hidden_units': 253, 'dropout_rate': 0.17471840296055435, 'activation': 'tanh', 'learning_rate': 0.00017314883757694314}. Best is trial 9 with value: 4.732136978095772.\n",
      "/var/folders/sc/k6080_9j4cx42wf_vh5ybvmw0000gn/T/ipykernel_16470/935947109.py:8: FutureWarning: suggest_loguniform has been deprecated in v3.0.0. This feature will be removed in v6.0.0. See https://github.com/optuna/optuna/releases/tag/v3.0.0. Use suggest_float(..., log=True) instead.\n",
      "  learning_rate = trial.suggest_loguniform(\"learning_rate\", 1e-4, 1e-2)\n"
     ]
    },
    {
     "name": "stdout",
     "output_type": "stream",
     "text": [
      "156/156 [==============================] - 0s 312us/step\n"
     ]
    },
    {
     "name": "stderr",
     "output_type": "stream",
     "text": [
      "[I 2025-01-11 00:20:42,478] Trial 28 finished with value: 4.98137015296324 and parameters: {'num_hidden_layers': 2, 'hidden_units': 206, 'dropout_rate': 0.2586983582092841, 'activation': 'tanh', 'learning_rate': 0.0002677925176537976}. Best is trial 9 with value: 4.732136978095772.\n",
      "/var/folders/sc/k6080_9j4cx42wf_vh5ybvmw0000gn/T/ipykernel_16470/935947109.py:8: FutureWarning: suggest_loguniform has been deprecated in v3.0.0. This feature will be removed in v6.0.0. See https://github.com/optuna/optuna/releases/tag/v3.0.0. Use suggest_float(..., log=True) instead.\n",
      "  learning_rate = trial.suggest_loguniform(\"learning_rate\", 1e-4, 1e-2)\n"
     ]
    },
    {
     "name": "stdout",
     "output_type": "stream",
     "text": [
      "156/156 [==============================] - 0s 463us/step\n"
     ]
    },
    {
     "name": "stderr",
     "output_type": "stream",
     "text": [
      "[I 2025-01-11 00:21:06,948] Trial 29 finished with value: 7.495308515305708 and parameters: {'num_hidden_layers': 3, 'hidden_units': 220, 'dropout_rate': 0.2820384729320568, 'activation': 'relu', 'learning_rate': 0.0018717265002059654}. Best is trial 9 with value: 4.732136978095772.\n",
      "/var/folders/sc/k6080_9j4cx42wf_vh5ybvmw0000gn/T/ipykernel_16470/935947109.py:8: FutureWarning: suggest_loguniform has been deprecated in v3.0.0. This feature will be removed in v6.0.0. See https://github.com/optuna/optuna/releases/tag/v3.0.0. Use suggest_float(..., log=True) instead.\n",
      "  learning_rate = trial.suggest_loguniform(\"learning_rate\", 1e-4, 1e-2)\n"
     ]
    },
    {
     "name": "stdout",
     "output_type": "stream",
     "text": [
      "156/156 [==============================] - 0s 318us/step\n"
     ]
    },
    {
     "name": "stderr",
     "output_type": "stream",
     "text": [
      "[I 2025-01-11 00:21:22,983] Trial 30 finished with value: 5.074701317241999 and parameters: {'num_hidden_layers': 2, 'hidden_units': 148, 'dropout_rate': 0.13342857047423082, 'activation': 'tanh', 'learning_rate': 0.0001479256773215414}. Best is trial 9 with value: 4.732136978095772.\n",
      "/var/folders/sc/k6080_9j4cx42wf_vh5ybvmw0000gn/T/ipykernel_16470/935947109.py:8: FutureWarning: suggest_loguniform has been deprecated in v3.0.0. This feature will be removed in v6.0.0. See https://github.com/optuna/optuna/releases/tag/v3.0.0. Use suggest_float(..., log=True) instead.\n",
      "  learning_rate = trial.suggest_loguniform(\"learning_rate\", 1e-4, 1e-2)\n"
     ]
    },
    {
     "name": "stdout",
     "output_type": "stream",
     "text": [
      "156/156 [==============================] - 0s 340us/step\n"
     ]
    },
    {
     "name": "stderr",
     "output_type": "stream",
     "text": [
      "[I 2025-01-11 00:21:44,368] Trial 31 finished with value: 4.941430334680245 and parameters: {'num_hidden_layers': 2, 'hidden_units': 241, 'dropout_rate': 0.18899943234478803, 'activation': 'tanh', 'learning_rate': 0.00010435618623131851}. Best is trial 9 with value: 4.732136978095772.\n",
      "/var/folders/sc/k6080_9j4cx42wf_vh5ybvmw0000gn/T/ipykernel_16470/935947109.py:8: FutureWarning: suggest_loguniform has been deprecated in v3.0.0. This feature will be removed in v6.0.0. See https://github.com/optuna/optuna/releases/tag/v3.0.0. Use suggest_float(..., log=True) instead.\n",
      "  learning_rate = trial.suggest_loguniform(\"learning_rate\", 1e-4, 1e-2)\n"
     ]
    },
    {
     "name": "stdout",
     "output_type": "stream",
     "text": [
      "156/156 [==============================] - 0s 413us/step\n"
     ]
    },
    {
     "name": "stderr",
     "output_type": "stream",
     "text": [
      "[I 2025-01-11 00:22:04,310] Trial 32 finished with value: 4.872194746887718 and parameters: {'num_hidden_layers': 2, 'hidden_units': 203, 'dropout_rate': 0.21306442354380278, 'activation': 'tanh', 'learning_rate': 0.0001423082590529983}. Best is trial 9 with value: 4.732136978095772.\n",
      "/var/folders/sc/k6080_9j4cx42wf_vh5ybvmw0000gn/T/ipykernel_16470/935947109.py:8: FutureWarning: suggest_loguniform has been deprecated in v3.0.0. This feature will be removed in v6.0.0. See https://github.com/optuna/optuna/releases/tag/v3.0.0. Use suggest_float(..., log=True) instead.\n",
      "  learning_rate = trial.suggest_loguniform(\"learning_rate\", 1e-4, 1e-2)\n"
     ]
    },
    {
     "name": "stdout",
     "output_type": "stream",
     "text": [
      "156/156 [==============================] - 0s 311us/step\n"
     ]
    },
    {
     "name": "stderr",
     "output_type": "stream",
     "text": [
      "[I 2025-01-11 00:22:24,938] Trial 33 finished with value: 5.064023356094408 and parameters: {'num_hidden_layers': 2, 'hidden_units': 226, 'dropout_rate': 0.22555111337350983, 'activation': 'tanh', 'learning_rate': 0.00024047836987954287}. Best is trial 9 with value: 4.732136978095772.\n",
      "/var/folders/sc/k6080_9j4cx42wf_vh5ybvmw0000gn/T/ipykernel_16470/935947109.py:8: FutureWarning: suggest_loguniform has been deprecated in v3.0.0. This feature will be removed in v6.0.0. See https://github.com/optuna/optuna/releases/tag/v3.0.0. Use suggest_float(..., log=True) instead.\n",
      "  learning_rate = trial.suggest_loguniform(\"learning_rate\", 1e-4, 1e-2)\n"
     ]
    },
    {
     "name": "stdout",
     "output_type": "stream",
     "text": [
      "156/156 [==============================] - 0s 372us/step\n"
     ]
    },
    {
     "name": "stderr",
     "output_type": "stream",
     "text": [
      "[I 2025-01-11 00:22:46,681] Trial 34 finished with value: 4.90155635237148 and parameters: {'num_hidden_layers': 2, 'hidden_units': 243, 'dropout_rate': 0.1653324031655948, 'activation': 'tanh', 'learning_rate': 0.0001540954516400346}. Best is trial 9 with value: 4.732136978095772.\n",
      "/var/folders/sc/k6080_9j4cx42wf_vh5ybvmw0000gn/T/ipykernel_16470/935947109.py:8: FutureWarning: suggest_loguniform has been deprecated in v3.0.0. This feature will be removed in v6.0.0. See https://github.com/optuna/optuna/releases/tag/v3.0.0. Use suggest_float(..., log=True) instead.\n",
      "  learning_rate = trial.suggest_loguniform(\"learning_rate\", 1e-4, 1e-2)\n"
     ]
    },
    {
     "name": "stdout",
     "output_type": "stream",
     "text": [
      "156/156 [==============================] - 0s 338us/step\n"
     ]
    },
    {
     "name": "stderr",
     "output_type": "stream",
     "text": [
      "[I 2025-01-11 00:23:04,678] Trial 35 finished with value: 5.251623873360995 and parameters: {'num_hidden_layers': 2, 'hidden_units': 224, 'dropout_rate': 0.21448942234244572, 'activation': 'tanh', 'learning_rate': 0.0003790484900129068}. Best is trial 9 with value: 4.732136978095772.\n",
      "/var/folders/sc/k6080_9j4cx42wf_vh5ybvmw0000gn/T/ipykernel_16470/935947109.py:8: FutureWarning: suggest_loguniform has been deprecated in v3.0.0. This feature will be removed in v6.0.0. See https://github.com/optuna/optuna/releases/tag/v3.0.0. Use suggest_float(..., log=True) instead.\n",
      "  learning_rate = trial.suggest_loguniform(\"learning_rate\", 1e-4, 1e-2)\n"
     ]
    },
    {
     "name": "stdout",
     "output_type": "stream",
     "text": [
      "156/156 [==============================] - 0s 325us/step\n"
     ]
    },
    {
     "name": "stderr",
     "output_type": "stream",
     "text": [
      "[I 2025-01-11 00:23:24,231] Trial 36 finished with value: 191.36103818091658 and parameters: {'num_hidden_layers': 2, 'hidden_units': 213, 'dropout_rate': 0.12742330167560023, 'activation': 'relu', 'learning_rate': 0.00013682222228858363}. Best is trial 9 with value: 4.732136978095772.\n",
      "/var/folders/sc/k6080_9j4cx42wf_vh5ybvmw0000gn/T/ipykernel_16470/935947109.py:8: FutureWarning: suggest_loguniform has been deprecated in v3.0.0. This feature will be removed in v6.0.0. See https://github.com/optuna/optuna/releases/tag/v3.0.0. Use suggest_float(..., log=True) instead.\n",
      "  learning_rate = trial.suggest_loguniform(\"learning_rate\", 1e-4, 1e-2)\n"
     ]
    },
    {
     "name": "stdout",
     "output_type": "stream",
     "text": [
      "156/156 [==============================] - 0s 270us/step\n"
     ]
    },
    {
     "name": "stderr",
     "output_type": "stream",
     "text": [
      "[I 2025-01-11 00:23:35,169] Trial 37 finished with value: 5.3008275062729036 and parameters: {'num_hidden_layers': 1, 'hidden_units': 233, 'dropout_rate': 0.2599904279453218, 'activation': 'tanh', 'learning_rate': 0.0004110745588409972}. Best is trial 9 with value: 4.732136978095772.\n",
      "/var/folders/sc/k6080_9j4cx42wf_vh5ybvmw0000gn/T/ipykernel_16470/935947109.py:8: FutureWarning: suggest_loguniform has been deprecated in v3.0.0. This feature will be removed in v6.0.0. See https://github.com/optuna/optuna/releases/tag/v3.0.0. Use suggest_float(..., log=True) instead.\n",
      "  learning_rate = trial.suggest_loguniform(\"learning_rate\", 1e-4, 1e-2)\n"
     ]
    },
    {
     "name": "stdout",
     "output_type": "stream",
     "text": [
      "156/156 [==============================] - 0s 340us/step\n"
     ]
    },
    {
     "name": "stderr",
     "output_type": "stream",
     "text": [
      "[I 2025-01-11 00:23:54,711] Trial 38 finished with value: 5.413944079051574 and parameters: {'num_hidden_layers': 2, 'hidden_units': 243, 'dropout_rate': 0.14012628288069706, 'activation': 'tanh', 'learning_rate': 0.0006703922097996731}. Best is trial 9 with value: 4.732136978095772.\n",
      "/var/folders/sc/k6080_9j4cx42wf_vh5ybvmw0000gn/T/ipykernel_16470/935947109.py:8: FutureWarning: suggest_loguniform has been deprecated in v3.0.0. This feature will be removed in v6.0.0. See https://github.com/optuna/optuna/releases/tag/v3.0.0. Use suggest_float(..., log=True) instead.\n",
      "  learning_rate = trial.suggest_loguniform(\"learning_rate\", 1e-4, 1e-2)\n"
     ]
    },
    {
     "name": "stdout",
     "output_type": "stream",
     "text": [
      "156/156 [==============================] - 0s 314us/step\n"
     ]
    },
    {
     "name": "stderr",
     "output_type": "stream",
     "text": [
      "[I 2025-01-11 00:24:11,331] Trial 39 finished with value: 6.743863119723073 and parameters: {'num_hidden_layers': 2, 'hidden_units': 201, 'dropout_rate': 0.16333774571956639, 'activation': 'tanh', 'learning_rate': 0.004237961811414173}. Best is trial 9 with value: 4.732136978095772.\n",
      "/var/folders/sc/k6080_9j4cx42wf_vh5ybvmw0000gn/T/ipykernel_16470/935947109.py:8: FutureWarning: suggest_loguniform has been deprecated in v3.0.0. This feature will be removed in v6.0.0. See https://github.com/optuna/optuna/releases/tag/v3.0.0. Use suggest_float(..., log=True) instead.\n",
      "  learning_rate = trial.suggest_loguniform(\"learning_rate\", 1e-4, 1e-2)\n"
     ]
    },
    {
     "name": "stdout",
     "output_type": "stream",
     "text": [
      "156/156 [==============================] - 0s 255us/step\n"
     ]
    },
    {
     "name": "stderr",
     "output_type": "stream",
     "text": [
      "[I 2025-01-11 00:24:20,760] Trial 40 finished with value: 11811.737242039446 and parameters: {'num_hidden_layers': 1, 'hidden_units': 220, 'dropout_rate': 0.23654518374682362, 'activation': 'relu', 'learning_rate': 0.00024040853503809413}. Best is trial 9 with value: 4.732136978095772.\n",
      "/var/folders/sc/k6080_9j4cx42wf_vh5ybvmw0000gn/T/ipykernel_16470/935947109.py:8: FutureWarning: suggest_loguniform has been deprecated in v3.0.0. This feature will be removed in v6.0.0. See https://github.com/optuna/optuna/releases/tag/v3.0.0. Use suggest_float(..., log=True) instead.\n",
      "  learning_rate = trial.suggest_loguniform(\"learning_rate\", 1e-4, 1e-2)\n"
     ]
    },
    {
     "name": "stdout",
     "output_type": "stream",
     "text": [
      "156/156 [==============================] - 0s 333us/step\n"
     ]
    },
    {
     "name": "stderr",
     "output_type": "stream",
     "text": [
      "[I 2025-01-11 00:24:39,718] Trial 41 finished with value: 5.1591329712120615 and parameters: {'num_hidden_layers': 2, 'hidden_units': 243, 'dropout_rate': 0.17226668362224723, 'activation': 'tanh', 'learning_rate': 0.00015939462219037692}. Best is trial 9 with value: 4.732136978095772.\n",
      "/var/folders/sc/k6080_9j4cx42wf_vh5ybvmw0000gn/T/ipykernel_16470/935947109.py:8: FutureWarning: suggest_loguniform has been deprecated in v3.0.0. This feature will be removed in v6.0.0. See https://github.com/optuna/optuna/releases/tag/v3.0.0. Use suggest_float(..., log=True) instead.\n",
      "  learning_rate = trial.suggest_loguniform(\"learning_rate\", 1e-4, 1e-2)\n"
     ]
    },
    {
     "name": "stdout",
     "output_type": "stream",
     "text": [
      "156/156 [==============================] - 0s 332us/step\n"
     ]
    },
    {
     "name": "stderr",
     "output_type": "stream",
     "text": [
      "[I 2025-01-11 00:24:56,698] Trial 42 finished with value: 4.897333650217187 and parameters: {'num_hidden_layers': 2, 'hidden_units': 248, 'dropout_rate': 0.20384149522939743, 'activation': 'tanh', 'learning_rate': 0.00013899901764926682}. Best is trial 9 with value: 4.732136978095772.\n",
      "/var/folders/sc/k6080_9j4cx42wf_vh5ybvmw0000gn/T/ipykernel_16470/935947109.py:8: FutureWarning: suggest_loguniform has been deprecated in v3.0.0. This feature will be removed in v6.0.0. See https://github.com/optuna/optuna/releases/tag/v3.0.0. Use suggest_float(..., log=True) instead.\n",
      "  learning_rate = trial.suggest_loguniform(\"learning_rate\", 1e-4, 1e-2)\n"
     ]
    },
    {
     "name": "stdout",
     "output_type": "stream",
     "text": [
      "156/156 [==============================] - 0s 352us/step\n"
     ]
    },
    {
     "name": "stderr",
     "output_type": "stream",
     "text": [
      "[I 2025-01-11 00:25:16,284] Trial 43 finished with value: 4.906384359671907 and parameters: {'num_hidden_layers': 2, 'hidden_units': 253, 'dropout_rate': 0.20344797084345143, 'activation': 'tanh', 'learning_rate': 0.0001270193802175606}. Best is trial 9 with value: 4.732136978095772.\n",
      "/var/folders/sc/k6080_9j4cx42wf_vh5ybvmw0000gn/T/ipykernel_16470/935947109.py:8: FutureWarning: suggest_loguniform has been deprecated in v3.0.0. This feature will be removed in v6.0.0. See https://github.com/optuna/optuna/releases/tag/v3.0.0. Use suggest_float(..., log=True) instead.\n",
      "  learning_rate = trial.suggest_loguniform(\"learning_rate\", 1e-4, 1e-2)\n"
     ]
    },
    {
     "name": "stdout",
     "output_type": "stream",
     "text": [
      "156/156 [==============================] - 0s 335us/step\n"
     ]
    },
    {
     "name": "stderr",
     "output_type": "stream",
     "text": [
      "[I 2025-01-11 00:25:34,793] Trial 44 finished with value: 5.125224038068658 and parameters: {'num_hidden_layers': 2, 'hidden_units': 233, 'dropout_rate': 0.2645847139476619, 'activation': 'tanh', 'learning_rate': 0.00022349842109393238}. Best is trial 9 with value: 4.732136978095772.\n",
      "/var/folders/sc/k6080_9j4cx42wf_vh5ybvmw0000gn/T/ipykernel_16470/935947109.py:8: FutureWarning: suggest_loguniform has been deprecated in v3.0.0. This feature will be removed in v6.0.0. See https://github.com/optuna/optuna/releases/tag/v3.0.0. Use suggest_float(..., log=True) instead.\n",
      "  learning_rate = trial.suggest_loguniform(\"learning_rate\", 1e-4, 1e-2)\n"
     ]
    },
    {
     "name": "stdout",
     "output_type": "stream",
     "text": [
      "156/156 [==============================] - 0s 346us/step\n"
     ]
    },
    {
     "name": "stderr",
     "output_type": "stream",
     "text": [
      "[I 2025-01-11 00:25:54,891] Trial 45 finished with value: 5.707203110497304 and parameters: {'num_hidden_layers': 2, 'hidden_units': 246, 'dropout_rate': 0.49699692604827, 'activation': 'tanh', 'learning_rate': 0.00013379599625457756}. Best is trial 9 with value: 4.732136978095772.\n",
      "/var/folders/sc/k6080_9j4cx42wf_vh5ybvmw0000gn/T/ipykernel_16470/935947109.py:8: FutureWarning: suggest_loguniform has been deprecated in v3.0.0. This feature will be removed in v6.0.0. See https://github.com/optuna/optuna/releases/tag/v3.0.0. Use suggest_float(..., log=True) instead.\n",
      "  learning_rate = trial.suggest_loguniform(\"learning_rate\", 1e-4, 1e-2)\n"
     ]
    },
    {
     "name": "stdout",
     "output_type": "stream",
     "text": [
      "156/156 [==============================] - 0s 272us/step\n"
     ]
    },
    {
     "name": "stderr",
     "output_type": "stream",
     "text": [
      "[I 2025-01-11 00:26:05,755] Trial 46 finished with value: 5.7226824027383865 and parameters: {'num_hidden_layers': 2, 'hidden_units': 58, 'dropout_rate': 0.20865972853344444, 'activation': 'tanh', 'learning_rate': 0.0001720448863958144}. Best is trial 9 with value: 4.732136978095772.\n",
      "/var/folders/sc/k6080_9j4cx42wf_vh5ybvmw0000gn/T/ipykernel_16470/935947109.py:8: FutureWarning: suggest_loguniform has been deprecated in v3.0.0. This feature will be removed in v6.0.0. See https://github.com/optuna/optuna/releases/tag/v3.0.0. Use suggest_float(..., log=True) instead.\n",
      "  learning_rate = trial.suggest_loguniform(\"learning_rate\", 1e-4, 1e-2)\n"
     ]
    },
    {
     "name": "stdout",
     "output_type": "stream",
     "text": [
      "156/156 [==============================] - 0s 310us/step\n"
     ]
    },
    {
     "name": "stderr",
     "output_type": "stream",
     "text": [
      "[I 2025-01-11 00:26:20,932] Trial 47 finished with value: 5.188549558729033 and parameters: {'num_hidden_layers': 2, 'hidden_units': 180, 'dropout_rate': 0.23949159332922668, 'activation': 'tanh', 'learning_rate': 0.0003078627684267592}. Best is trial 9 with value: 4.732136978095772.\n",
      "/var/folders/sc/k6080_9j4cx42wf_vh5ybvmw0000gn/T/ipykernel_16470/935947109.py:8: FutureWarning: suggest_loguniform has been deprecated in v3.0.0. This feature will be removed in v6.0.0. See https://github.com/optuna/optuna/releases/tag/v3.0.0. Use suggest_float(..., log=True) instead.\n",
      "  learning_rate = trial.suggest_loguniform(\"learning_rate\", 1e-4, 1e-2)\n"
     ]
    },
    {
     "name": "stdout",
     "output_type": "stream",
     "text": [
      "156/156 [==============================] - 0s 244us/step\n"
     ]
    },
    {
     "name": "stderr",
     "output_type": "stream",
     "text": [
      "[I 2025-01-11 00:26:30,501] Trial 48 finished with value: 6.620266754341635 and parameters: {'num_hidden_layers': 1, 'hidden_units': 232, 'dropout_rate': 0.19397538049284435, 'activation': 'tanh', 'learning_rate': 0.009754718905759957}. Best is trial 9 with value: 4.732136978095772.\n",
      "/var/folders/sc/k6080_9j4cx42wf_vh5ybvmw0000gn/T/ipykernel_16470/935947109.py:8: FutureWarning: suggest_loguniform has been deprecated in v3.0.0. This feature will be removed in v6.0.0. See https://github.com/optuna/optuna/releases/tag/v3.0.0. Use suggest_float(..., log=True) instead.\n",
      "  learning_rate = trial.suggest_loguniform(\"learning_rate\", 1e-4, 1e-2)\n"
     ]
    },
    {
     "name": "stdout",
     "output_type": "stream",
     "text": [
      "156/156 [==============================] - 1s 379us/step\n"
     ]
    },
    {
     "name": "stderr",
     "output_type": "stream",
     "text": [
      "[I 2025-01-11 00:26:53,189] Trial 49 finished with value: 5.327856749950642 and parameters: {'num_hidden_layers': 3, 'hidden_units': 200, 'dropout_rate': 0.31042949465793895, 'activation': 'tanh', 'learning_rate': 0.00012456131989056304}. Best is trial 9 with value: 4.732136978095772.\n"
     ]
    },
    {
     "name": "stdout",
     "output_type": "stream",
     "text": [
      "Best hyperparameters: {'num_hidden_layers': 2, 'hidden_units': 247, 'dropout_rate': 0.2020720956305493, 'activation': 'tanh', 'learning_rate': 0.00012160912429718907}\n",
      "Best MSE: 4.732136978095772\n"
     ]
    }
   ],
   "source": [
    "# Create an Optuna study\n",
    "study = optuna.create_study(direction=\"minimize\")  # Minimize MSE\n",
    "study.optimize(objective, n_trials=50)  # Number of trials\n",
    "\n",
    "# Print the best hyperparameters and the corresponding score\n",
    "print(\"Best hyperparameters:\", study.best_params)\n",
    "print(\"Best MSE:\", study.best_value)"
   ]
  },
  {
   "cell_type": "code",
   "execution_count": 323,
   "id": "03f0a83c-966e-463a-ae65-202c808c355e",
   "metadata": {},
   "outputs": [
    {
     "data": {
      "text/plain": [
       "{'num_hidden_layers': 2,\n",
       " 'hidden_units': 247,\n",
       " 'dropout_rate': 0.2020720956305493,\n",
       " 'activation': 'tanh',\n",
       " 'learning_rate': 0.00012160912429718907}"
      ]
     },
     "execution_count": 323,
     "metadata": {},
     "output_type": "execute_result"
    }
   ],
   "source": [
    "# Retrieve the best hyperparameters\n",
    "best_params = study.best_params\n",
    "best_params"
   ]
  },
  {
   "cell_type": "code",
   "execution_count": 325,
   "id": "3c025854-d3ed-42fa-9683-7ffb0eed3974",
   "metadata": {},
   "outputs": [],
   "source": [
    "# Rebuild the model using the best hyperparameters\n",
    "model = Sequential()\n",
    "model.add(Dense(best_params[\"hidden_units\"], activation=best_params[\"activation\"], input_shape=(X_train.shape[1],)))\n",
    "for _ in range(best_params[\"num_hidden_layers\"] - 1):\n",
    "    model.add(Dense(best_params[\"hidden_units\"], activation=best_params[\"activation\"]))\n",
    "    model.add(Dropout(best_params[\"dropout_rate\"]))\n",
    "model.add(Dense(1))"
   ]
  },
  {
   "cell_type": "code",
   "execution_count": 327,
   "id": "3df63470-93c8-4cd9-91d2-011beed361d0",
   "metadata": {},
   "outputs": [],
   "source": [
    "# Compile the model\n",
    "model.compile(optimizer=tf.keras.optimizers.legacy.Adam(learning_rate=best_params[\"learning_rate\"]), loss=\"mse\")"
   ]
  },
  {
   "cell_type": "code",
   "execution_count": 343,
   "id": "24992064-f689-4d54-a90c-ee0fe4d99b81",
   "metadata": {
    "scrolled": true
   },
   "outputs": [
    {
     "name": "stdout",
     "output_type": "stream",
     "text": [
      "Epoch 1/200\n",
      "249/249 [==============================] - 0s 1ms/step - loss: 4398.4229 - val_loss: 1143.0748 - lr: 1.2161e-04\n",
      "Epoch 2/200\n",
      "249/249 [==============================] - 0s 1ms/step - loss: 326.7843 - val_loss: 52.0851 - lr: 1.2161e-04\n",
      "Epoch 3/200\n",
      "249/249 [==============================] - 0s 1ms/step - loss: 25.4882 - val_loss: 8.9252 - lr: 1.2161e-04\n",
      "Epoch 4/200\n",
      "249/249 [==============================] - 0s 1ms/step - loss: 14.2652 - val_loss: 6.6524 - lr: 1.2161e-04\n",
      "Epoch 5/200\n",
      "249/249 [==============================] - 0s 1ms/step - loss: 12.6877 - val_loss: 5.7795 - lr: 1.2161e-04\n",
      "Epoch 6/200\n",
      "249/249 [==============================] - 0s 1ms/step - loss: 11.9989 - val_loss: 5.2070 - lr: 1.2161e-04\n",
      "Epoch 7/200\n",
      "249/249 [==============================] - 0s 1ms/step - loss: 11.3413 - val_loss: 4.7376 - lr: 1.2161e-04\n",
      "Epoch 8/200\n",
      "249/249 [==============================] - 0s 1ms/step - loss: 11.2713 - val_loss: 4.3265 - lr: 1.2161e-04\n",
      "Epoch 9/200\n",
      "249/249 [==============================] - 0s 2ms/step - loss: 10.6499 - val_loss: 3.9664 - lr: 1.2161e-04\n",
      "Epoch 10/200\n",
      "249/249 [==============================] - 0s 2ms/step - loss: 10.3142 - val_loss: 3.6874 - lr: 1.2161e-04\n",
      "Epoch 11/200\n",
      "249/249 [==============================] - 0s 2ms/step - loss: 10.0534 - val_loss: 3.4542 - lr: 1.2161e-04\n",
      "Epoch 12/200\n",
      "249/249 [==============================] - 0s 1ms/step - loss: 9.9589 - val_loss: 3.1650 - lr: 1.2161e-04\n",
      "Epoch 13/200\n",
      "249/249 [==============================] - 0s 1ms/step - loss: 9.6898 - val_loss: 3.0076 - lr: 1.2161e-04\n",
      "Epoch 14/200\n",
      "249/249 [==============================] - 0s 1ms/step - loss: 9.5598 - val_loss: 2.8170 - lr: 1.2161e-04\n",
      "Epoch 15/200\n",
      "249/249 [==============================] - 0s 1ms/step - loss: 9.4086 - val_loss: 2.6705 - lr: 1.2161e-04\n",
      "Epoch 16/200\n",
      "249/249 [==============================] - 0s 2ms/step - loss: 9.1472 - val_loss: 2.5543 - lr: 1.2161e-04\n",
      "Epoch 17/200\n",
      "249/249 [==============================] - 0s 2ms/step - loss: 9.1394 - val_loss: 2.4548 - lr: 1.2161e-04\n",
      "Epoch 18/200\n",
      "249/249 [==============================] - 0s 1ms/step - loss: 8.9528 - val_loss: 2.3766 - lr: 1.2161e-04\n",
      "Epoch 19/200\n",
      "249/249 [==============================] - 0s 1ms/step - loss: 8.8663 - val_loss: 2.3278 - lr: 1.2161e-04\n",
      "Epoch 20/200\n",
      "249/249 [==============================] - 0s 1ms/step - loss: 8.8739 - val_loss: 2.2530 - lr: 1.2161e-04\n",
      "Epoch 21/200\n",
      "249/249 [==============================] - 0s 1ms/step - loss: 8.6293 - val_loss: 2.1845 - lr: 1.2161e-04\n",
      "Epoch 22/200\n",
      "249/249 [==============================] - 0s 1ms/step - loss: 8.6118 - val_loss: 2.1348 - lr: 1.2161e-04\n",
      "Epoch 23/200\n",
      "249/249 [==============================] - 0s 1ms/step - loss: 8.5001 - val_loss: 2.0735 - lr: 1.2161e-04\n",
      "Epoch 24/200\n",
      "249/249 [==============================] - 0s 1ms/step - loss: 8.5958 - val_loss: 2.0854 - lr: 1.2161e-04\n",
      "Epoch 25/200\n",
      "249/249 [==============================] - 0s 1ms/step - loss: 8.4273 - val_loss: 2.0350 - lr: 1.2161e-04\n",
      "Epoch 26/200\n",
      "249/249 [==============================] - 0s 1ms/step - loss: 8.3522 - val_loss: 1.9961 - lr: 1.2161e-04\n",
      "Epoch 27/200\n",
      "249/249 [==============================] - 0s 1ms/step - loss: 8.2356 - val_loss: 2.0433 - lr: 1.2161e-04\n",
      "Epoch 28/200\n",
      "249/249 [==============================] - 0s 1ms/step - loss: 8.3348 - val_loss: 1.9671 - lr: 1.2161e-04\n",
      "Epoch 29/200\n",
      "249/249 [==============================] - 0s 1ms/step - loss: 8.3724 - val_loss: 1.9538 - lr: 1.2161e-04\n",
      "Epoch 30/200\n",
      "249/249 [==============================] - 0s 1ms/step - loss: 8.1999 - val_loss: 1.9608 - lr: 1.2161e-04\n",
      "Epoch 31/200\n",
      "249/249 [==============================] - 0s 1ms/step - loss: 8.2173 - val_loss: 1.9566 - lr: 1.2161e-04\n",
      "Epoch 32/200\n",
      "249/249 [==============================] - 0s 1ms/step - loss: 8.4146 - val_loss: 1.9553 - lr: 1.2161e-04\n",
      "Epoch 33/200\n",
      "249/249 [==============================] - 0s 1ms/step - loss: 8.1034 - val_loss: 2.1718 - lr: 1.2161e-04\n",
      "Epoch 34/200\n",
      "249/249 [==============================] - 0s 1ms/step - loss: 8.0901 - val_loss: 1.9676 - lr: 1.2161e-04\n",
      "Epoch 35/200\n",
      "249/249 [==============================] - 0s 1ms/step - loss: 8.1523 - val_loss: 1.8382 - lr: 1.2161e-04\n",
      "Epoch 36/200\n",
      "249/249 [==============================] - 0s 2ms/step - loss: 8.0758 - val_loss: 1.8764 - lr: 1.2161e-04\n",
      "Epoch 37/200\n",
      "249/249 [==============================] - 1s 2ms/step - loss: 7.9456 - val_loss: 1.8982 - lr: 1.2161e-04\n",
      "Epoch 38/200\n",
      "249/249 [==============================] - 0s 1ms/step - loss: 8.2296 - val_loss: 1.9078 - lr: 1.2161e-04\n",
      "Epoch 39/200\n",
      "249/249 [==============================] - 0s 1ms/step - loss: 8.0648 - val_loss: 1.8122 - lr: 1.2161e-04\n",
      "Epoch 40/200\n",
      "249/249 [==============================] - 0s 1ms/step - loss: 7.9991 - val_loss: 1.8827 - lr: 1.2161e-04\n",
      "Epoch 41/200\n",
      "249/249 [==============================] - 0s 1ms/step - loss: 7.9980 - val_loss: 1.8246 - lr: 1.2161e-04\n",
      "Epoch 42/200\n",
      "249/249 [==============================] - 0s 1ms/step - loss: 8.0496 - val_loss: 2.0407 - lr: 1.2161e-04\n",
      "Epoch 43/200\n",
      "249/249 [==============================] - 0s 1ms/step - loss: 7.9169 - val_loss: 1.8053 - lr: 1.2161e-04\n",
      "Epoch 44/200\n",
      "249/249 [==============================] - 0s 1ms/step - loss: 7.9875 - val_loss: 1.7730 - lr: 1.2161e-04\n",
      "Epoch 45/200\n",
      "249/249 [==============================] - 0s 1ms/step - loss: 7.9686 - val_loss: 1.7823 - lr: 1.2161e-04\n",
      "Epoch 46/200\n",
      "249/249 [==============================] - 0s 1ms/step - loss: 7.9762 - val_loss: 1.7380 - lr: 1.2161e-04\n",
      "Epoch 47/200\n",
      "249/249 [==============================] - 0s 1ms/step - loss: 7.7692 - val_loss: 1.7751 - lr: 1.2161e-04\n",
      "Epoch 48/200\n",
      "249/249 [==============================] - 0s 1ms/step - loss: 7.7822 - val_loss: 1.7584 - lr: 1.2161e-04\n",
      "Epoch 49/200\n",
      "249/249 [==============================] - 0s 1ms/step - loss: 7.8082 - val_loss: 1.7367 - lr: 1.2161e-04\n",
      "Epoch 50/200\n",
      "249/249 [==============================] - 0s 1ms/step - loss: 7.6841 - val_loss: 1.7156 - lr: 1.2161e-04\n",
      "Epoch 51/200\n",
      "249/249 [==============================] - 0s 2ms/step - loss: 7.7419 - val_loss: 1.7214 - lr: 1.2161e-04\n",
      "Epoch 52/200\n",
      "249/249 [==============================] - 0s 1ms/step - loss: 7.7894 - val_loss: 1.8177 - lr: 1.2161e-04\n",
      "Epoch 53/200\n",
      "249/249 [==============================] - 0s 2ms/step - loss: 7.6951 - val_loss: 1.6922 - lr: 1.2161e-04\n",
      "Epoch 54/200\n",
      "249/249 [==============================] - 0s 1ms/step - loss: 7.8551 - val_loss: 1.6975 - lr: 1.2161e-04\n",
      "Epoch 55/200\n",
      "249/249 [==============================] - 0s 1ms/step - loss: 7.7521 - val_loss: 1.6988 - lr: 1.2161e-04\n",
      "Epoch 56/200\n",
      "249/249 [==============================] - 0s 1ms/step - loss: 7.6795 - val_loss: 1.8019 - lr: 1.2161e-04\n",
      "Epoch 57/200\n",
      "249/249 [==============================] - 0s 1ms/step - loss: 7.8181 - val_loss: 1.7982 - lr: 1.2161e-04\n",
      "Epoch 58/200\n",
      "249/249 [==============================] - 0s 1ms/step - loss: 7.8192 - val_loss: 1.6721 - lr: 1.2161e-04\n",
      "Epoch 59/200\n",
      "249/249 [==============================] - 0s 1ms/step - loss: 7.7915 - val_loss: 1.7076 - lr: 1.2161e-04\n",
      "Epoch 60/200\n",
      "249/249 [==============================] - 0s 1ms/step - loss: 7.6387 - val_loss: 1.6468 - lr: 1.2161e-04\n",
      "Epoch 61/200\n",
      "249/249 [==============================] - 0s 1ms/step - loss: 7.6771 - val_loss: 1.6928 - lr: 1.2161e-04\n",
      "Epoch 62/200\n",
      "249/249 [==============================] - 0s 1ms/step - loss: 7.6830 - val_loss: 1.6656 - lr: 1.2161e-04\n",
      "Epoch 63/200\n",
      "249/249 [==============================] - 0s 1ms/step - loss: 7.7069 - val_loss: 1.6614 - lr: 1.2161e-04\n",
      "Epoch 64/200\n",
      "249/249 [==============================] - 0s 1ms/step - loss: 7.6342 - val_loss: 1.7623 - lr: 1.2161e-04\n",
      "Epoch 65/200\n",
      "249/249 [==============================] - 0s 2ms/step - loss: 7.6738 - val_loss: 1.8465 - lr: 1.2161e-04\n",
      "Epoch 66/200\n",
      "249/249 [==============================] - 0s 2ms/step - loss: 7.6909 - val_loss: 1.6256 - lr: 1.2161e-04\n",
      "Epoch 67/200\n",
      "249/249 [==============================] - 1s 3ms/step - loss: 7.6615 - val_loss: 1.6564 - lr: 1.2161e-04\n",
      "Epoch 68/200\n",
      "249/249 [==============================] - 0s 1ms/step - loss: 7.6328 - val_loss: 1.6113 - lr: 1.2161e-04\n",
      "Epoch 69/200\n",
      "249/249 [==============================] - 0s 1ms/step - loss: 7.6303 - val_loss: 1.7023 - lr: 1.2161e-04\n",
      "Epoch 70/200\n",
      "249/249 [==============================] - 0s 1ms/step - loss: 7.6773 - val_loss: 1.7238 - lr: 1.2161e-04\n",
      "Epoch 71/200\n",
      "249/249 [==============================] - 0s 1ms/step - loss: 7.7077 - val_loss: 1.6839 - lr: 1.2161e-04\n",
      "Epoch 72/200\n",
      "249/249 [==============================] - 0s 1ms/step - loss: 7.6817 - val_loss: 1.6551 - lr: 1.2161e-04\n",
      "Epoch 73/200\n",
      "249/249 [==============================] - 0s 1ms/step - loss: 7.6371 - val_loss: 1.8060 - lr: 1.2161e-04\n",
      "Epoch 74/200\n",
      "249/249 [==============================] - 0s 1ms/step - loss: 7.6529 - val_loss: 1.6473 - lr: 1.2161e-04\n",
      "Epoch 75/200\n",
      "249/249 [==============================] - 0s 1ms/step - loss: 7.6135 - val_loss: 1.7848 - lr: 1.2161e-04\n",
      "Epoch 76/200\n",
      "249/249 [==============================] - 0s 2ms/step - loss: 7.6350 - val_loss: 1.6458 - lr: 1.2161e-04\n",
      "Epoch 77/200\n",
      "249/249 [==============================] - 0s 1ms/step - loss: 7.6096 - val_loss: 1.6368 - lr: 1.2161e-04\n",
      "Epoch 78/200\n",
      "249/249 [==============================] - 0s 1ms/step - loss: 7.5205 - val_loss: 1.6066 - lr: 1.2161e-04\n",
      "Epoch 79/200\n",
      "249/249 [==============================] - 0s 1ms/step - loss: 7.3923 - val_loss: 1.6000 - lr: 1.2161e-04\n",
      "Epoch 80/200\n",
      "249/249 [==============================] - 0s 1ms/step - loss: 7.5904 - val_loss: 1.6924 - lr: 1.2161e-04\n",
      "Epoch 81/200\n",
      "249/249 [==============================] - 0s 1ms/step - loss: 7.4332 - val_loss: 1.5840 - lr: 1.2161e-04\n",
      "Epoch 82/200\n",
      "249/249 [==============================] - 0s 1ms/step - loss: 7.6278 - val_loss: 1.7670 - lr: 1.2161e-04\n",
      "Epoch 83/200\n",
      "249/249 [==============================] - 0s 1ms/step - loss: 7.5902 - val_loss: 1.5810 - lr: 1.2161e-04\n",
      "Epoch 84/200\n",
      "249/249 [==============================] - 0s 2ms/step - loss: 7.5255 - val_loss: 1.5920 - lr: 1.2161e-04\n",
      "Epoch 85/200\n",
      "249/249 [==============================] - 0s 2ms/step - loss: 7.5363 - val_loss: 1.6494 - lr: 1.2161e-04\n",
      "Epoch 86/200\n",
      "249/249 [==============================] - 1s 3ms/step - loss: 7.4972 - val_loss: 1.5844 - lr: 1.2161e-04\n",
      "Epoch 87/200\n",
      "249/249 [==============================] - 1s 2ms/step - loss: 7.5902 - val_loss: 1.6238 - lr: 1.2161e-04\n",
      "Epoch 88/200\n",
      "249/249 [==============================] - 1s 2ms/step - loss: 7.5903 - val_loss: 1.6010 - lr: 1.2161e-04\n",
      "Epoch 89/200\n",
      "249/249 [==============================] - 1s 2ms/step - loss: 7.6010 - val_loss: 1.5717 - lr: 1.2161e-04\n",
      "Epoch 90/200\n",
      "249/249 [==============================] - 1s 2ms/step - loss: 7.4218 - val_loss: 1.7584 - lr: 1.2161e-04\n",
      "Epoch 91/200\n",
      "249/249 [==============================] - 1s 2ms/step - loss: 7.4787 - val_loss: 1.6299 - lr: 1.2161e-04\n",
      "Epoch 92/200\n",
      "249/249 [==============================] - 1s 2ms/step - loss: 7.4726 - val_loss: 1.5523 - lr: 1.2161e-04\n",
      "Epoch 93/200\n",
      "249/249 [==============================] - 0s 2ms/step - loss: 7.6229 - val_loss: 1.6612 - lr: 1.2161e-04\n",
      "Epoch 94/200\n",
      "249/249 [==============================] - 0s 2ms/step - loss: 7.5210 - val_loss: 1.5497 - lr: 1.2161e-04\n",
      "Epoch 95/200\n",
      "249/249 [==============================] - 0s 1ms/step - loss: 7.3564 - val_loss: 1.6380 - lr: 1.2161e-04\n",
      "Epoch 96/200\n",
      "249/249 [==============================] - 0s 2ms/step - loss: 7.4087 - val_loss: 1.6082 - lr: 1.2161e-04\n",
      "Epoch 97/200\n",
      "249/249 [==============================] - 0s 2ms/step - loss: 7.5165 - val_loss: 1.5774 - lr: 1.2161e-04\n",
      "Epoch 98/200\n",
      "249/249 [==============================] - 0s 2ms/step - loss: 7.5075 - val_loss: 1.5645 - lr: 1.2161e-04\n",
      "Epoch 99/200\n",
      "249/249 [==============================] - 0s 1ms/step - loss: 7.3774 - val_loss: 1.6738 - lr: 1.2161e-04\n",
      "Epoch 100/200\n",
      "249/249 [==============================] - 0s 2ms/step - loss: 7.4292 - val_loss: 1.5689 - lr: 1.2161e-04\n",
      "Epoch 101/200\n",
      "249/249 [==============================] - 0s 2ms/step - loss: 7.5083 - val_loss: 1.5759 - lr: 1.2161e-04\n",
      "Epoch 102/200\n",
      "249/249 [==============================] - 0s 1ms/step - loss: 7.4663 - val_loss: 1.6192 - lr: 1.2161e-04\n",
      "Epoch 103/200\n",
      "249/249 [==============================] - 0s 2ms/step - loss: 7.5148 - val_loss: 1.5735 - lr: 1.2161e-04\n",
      "Epoch 104/200\n",
      "243/249 [============================>.] - ETA: 0s - loss: 7.3251\n",
      "Epoch 104: ReduceLROnPlateau reducing learning rate to 6.080456296331249e-05.\n",
      "249/249 [==============================] - 1s 2ms/step - loss: 7.3142 - val_loss: 1.5578 - lr: 1.2161e-04\n",
      "Epoch 105/200\n",
      "249/249 [==============================] - 0s 2ms/step - loss: 7.5000 - val_loss: 1.5284 - lr: 6.0805e-05\n",
      "Epoch 106/200\n",
      "249/249 [==============================] - 1s 2ms/step - loss: 7.4041 - val_loss: 1.5654 - lr: 6.0805e-05\n",
      "Epoch 107/200\n",
      "249/249 [==============================] - 0s 2ms/step - loss: 7.3267 - val_loss: 1.5689 - lr: 6.0805e-05\n",
      "Epoch 108/200\n",
      "249/249 [==============================] - 0s 2ms/step - loss: 7.4600 - val_loss: 1.5473 - lr: 6.0805e-05\n",
      "Epoch 109/200\n",
      "249/249 [==============================] - 0s 1ms/step - loss: 7.5488 - val_loss: 1.5506 - lr: 6.0805e-05\n",
      "Epoch 110/200\n",
      "249/249 [==============================] - 0s 1ms/step - loss: 7.3335 - val_loss: 1.5249 - lr: 6.0805e-05\n",
      "Epoch 111/200\n",
      "249/249 [==============================] - 0s 1ms/step - loss: 7.4583 - val_loss: 1.5205 - lr: 6.0805e-05\n",
      "Epoch 112/200\n",
      "249/249 [==============================] - 0s 1ms/step - loss: 7.4784 - val_loss: 1.5468 - lr: 6.0805e-05\n",
      "Epoch 113/200\n",
      "249/249 [==============================] - 0s 1ms/step - loss: 7.4267 - val_loss: 1.5036 - lr: 6.0805e-05\n",
      "Epoch 114/200\n",
      "249/249 [==============================] - 0s 1ms/step - loss: 7.3759 - val_loss: 1.5090 - lr: 6.0805e-05\n",
      "Epoch 115/200\n",
      "249/249 [==============================] - 0s 1ms/step - loss: 7.3428 - val_loss: 1.5475 - lr: 6.0805e-05\n",
      "Epoch 116/200\n",
      "249/249 [==============================] - 0s 1ms/step - loss: 7.2757 - val_loss: 1.5005 - lr: 6.0805e-05\n",
      "Epoch 117/200\n",
      "249/249 [==============================] - 0s 1ms/step - loss: 7.4087 - val_loss: 1.6704 - lr: 6.0805e-05\n",
      "Epoch 118/200\n",
      "249/249 [==============================] - 0s 1ms/step - loss: 7.3387 - val_loss: 1.4994 - lr: 6.0805e-05\n",
      "Epoch 119/200\n",
      "249/249 [==============================] - 0s 1ms/step - loss: 7.3901 - val_loss: 1.5019 - lr: 6.0805e-05\n",
      "Epoch 120/200\n",
      "249/249 [==============================] - 0s 1ms/step - loss: 7.4134 - val_loss: 1.5501 - lr: 6.0805e-05\n",
      "Epoch 121/200\n",
      "249/249 [==============================] - 0s 1ms/step - loss: 7.4617 - val_loss: 1.5102 - lr: 6.0805e-05\n",
      "Epoch 122/200\n",
      "249/249 [==============================] - 0s 1ms/step - loss: 7.4003 - val_loss: 1.5099 - lr: 6.0805e-05\n",
      "Epoch 123/200\n",
      "249/249 [==============================] - 0s 2ms/step - loss: 7.3273 - val_loss: 1.4885 - lr: 6.0805e-05\n",
      "Epoch 124/200\n",
      "249/249 [==============================] - 0s 1ms/step - loss: 7.3711 - val_loss: 1.5102 - lr: 6.0805e-05\n",
      "Epoch 125/200\n",
      "249/249 [==============================] - 0s 1ms/step - loss: 7.3562 - val_loss: 1.4979 - lr: 6.0805e-05\n",
      "Epoch 126/200\n",
      "249/249 [==============================] - 0s 1ms/step - loss: 7.3846 - val_loss: 1.4955 - lr: 6.0805e-05\n",
      "Epoch 127/200\n",
      "249/249 [==============================] - 0s 1ms/step - loss: 7.3206 - val_loss: 1.5323 - lr: 6.0805e-05\n",
      "Epoch 128/200\n",
      "249/249 [==============================] - 0s 2ms/step - loss: 7.2856 - val_loss: 1.4912 - lr: 6.0805e-05\n",
      "Epoch 129/200\n",
      "249/249 [==============================] - 0s 1ms/step - loss: 7.4739 - val_loss: 1.4804 - lr: 6.0805e-05\n",
      "Epoch 130/200\n",
      "249/249 [==============================] - 0s 1ms/step - loss: 7.4904 - val_loss: 1.5354 - lr: 6.0805e-05\n",
      "Epoch 131/200\n",
      "249/249 [==============================] - 0s 2ms/step - loss: 7.4114 - val_loss: 1.5439 - lr: 6.0805e-05\n",
      "Epoch 132/200\n",
      "249/249 [==============================] - 0s 1ms/step - loss: 7.2418 - val_loss: 1.5461 - lr: 6.0805e-05\n",
      "Epoch 133/200\n",
      "249/249 [==============================] - 0s 2ms/step - loss: 7.4280 - val_loss: 1.5917 - lr: 6.0805e-05\n",
      "Epoch 134/200\n",
      "249/249 [==============================] - 0s 2ms/step - loss: 7.3623 - val_loss: 1.4926 - lr: 6.0805e-05\n",
      "Epoch 135/200\n",
      "249/249 [==============================] - 0s 1ms/step - loss: 7.4109 - val_loss: 1.4837 - lr: 6.0805e-05\n",
      "Epoch 136/200\n",
      "249/249 [==============================] - 0s 2ms/step - loss: 7.2865 - val_loss: 1.4924 - lr: 6.0805e-05\n",
      "Epoch 137/200\n",
      "249/249 [==============================] - 0s 1ms/step - loss: 7.2887 - val_loss: 1.4889 - lr: 6.0805e-05\n",
      "Epoch 138/200\n",
      "249/249 [==============================] - 0s 2ms/step - loss: 7.3349 - val_loss: 1.6407 - lr: 6.0805e-05\n",
      "Epoch 139/200\n",
      "249/249 [==============================] - 0s 1ms/step - loss: 7.3412 - val_loss: 1.4729 - lr: 6.0805e-05\n",
      "Epoch 140/200\n",
      "249/249 [==============================] - 0s 1ms/step - loss: 7.2905 - val_loss: 1.5731 - lr: 6.0805e-05\n",
      "Epoch 141/200\n",
      "249/249 [==============================] - 0s 1ms/step - loss: 7.5200 - val_loss: 1.5746 - lr: 6.0805e-05\n",
      "Epoch 142/200\n",
      "249/249 [==============================] - 0s 1ms/step - loss: 7.3542 - val_loss: 1.4810 - lr: 6.0805e-05\n",
      "Epoch 143/200\n",
      "249/249 [==============================] - 0s 1ms/step - loss: 7.3633 - val_loss: 1.4946 - lr: 6.0805e-05\n",
      "Epoch 144/200\n",
      "249/249 [==============================] - 0s 1ms/step - loss: 7.2116 - val_loss: 1.4970 - lr: 6.0805e-05\n",
      "Epoch 145/200\n",
      "249/249 [==============================] - 0s 1ms/step - loss: 7.2590 - val_loss: 1.5226 - lr: 6.0805e-05\n",
      "Epoch 146/200\n",
      "249/249 [==============================] - 0s 1ms/step - loss: 7.5601 - val_loss: 1.5068 - lr: 6.0805e-05\n",
      "Epoch 147/200\n",
      "249/249 [==============================] - 0s 2ms/step - loss: 7.2690 - val_loss: 1.4691 - lr: 6.0805e-05\n",
      "Epoch 148/200\n",
      "249/249 [==============================] - 0s 2ms/step - loss: 7.3373 - val_loss: 1.5031 - lr: 6.0805e-05\n",
      "Epoch 149/200\n",
      "249/249 [==============================] - 0s 2ms/step - loss: 7.3553 - val_loss: 1.4887 - lr: 6.0805e-05\n",
      "Epoch 150/200\n",
      "249/249 [==============================] - 0s 2ms/step - loss: 7.2452 - val_loss: 1.4602 - lr: 6.0805e-05\n",
      "Epoch 151/200\n",
      "249/249 [==============================] - 0s 2ms/step - loss: 7.3507 - val_loss: 1.4626 - lr: 6.0805e-05\n",
      "Epoch 152/200\n",
      "249/249 [==============================] - 0s 2ms/step - loss: 7.2288 - val_loss: 1.4768 - lr: 6.0805e-05\n",
      "Epoch 153/200\n",
      "249/249 [==============================] - 0s 1ms/step - loss: 7.1704 - val_loss: 1.4805 - lr: 6.0805e-05\n",
      "Epoch 154/200\n",
      "249/249 [==============================] - 1s 2ms/step - loss: 7.3743 - val_loss: 1.5186 - lr: 6.0805e-05\n",
      "Epoch 155/200\n",
      "249/249 [==============================] - 0s 2ms/step - loss: 7.3086 - val_loss: 1.6661 - lr: 6.0805e-05\n",
      "Epoch 156/200\n",
      "249/249 [==============================] - 1s 2ms/step - loss: 7.2852 - val_loss: 1.5005 - lr: 6.0805e-05\n",
      "Epoch 157/200\n",
      "249/249 [==============================] - 0s 1ms/step - loss: 7.2068 - val_loss: 1.4746 - lr: 6.0805e-05\n",
      "Epoch 158/200\n",
      "249/249 [==============================] - 0s 1ms/step - loss: 7.3793 - val_loss: 1.4716 - lr: 6.0805e-05\n",
      "Epoch 159/200\n",
      "249/249 [==============================] - 0s 1ms/step - loss: 7.3270 - val_loss: 1.4577 - lr: 6.0805e-05\n",
      "Epoch 160/200\n",
      "249/249 [==============================] - 0s 1ms/step - loss: 7.2463 - val_loss: 1.4893 - lr: 6.0805e-05\n",
      "Epoch 161/200\n",
      "249/249 [==============================] - 0s 1ms/step - loss: 7.3605 - val_loss: 1.4736 - lr: 6.0805e-05\n",
      "Epoch 162/200\n",
      "249/249 [==============================] - 0s 1ms/step - loss: 7.2059 - val_loss: 1.4709 - lr: 6.0805e-05\n",
      "Epoch 163/200\n",
      "249/249 [==============================] - 0s 1ms/step - loss: 7.1948 - val_loss: 1.4590 - lr: 6.0805e-05\n",
      "Epoch 164/200\n",
      "249/249 [==============================] - 0s 1ms/step - loss: 7.4109 - val_loss: 1.4872 - lr: 6.0805e-05\n",
      "Epoch 165/200\n",
      "249/249 [==============================] - 0s 1ms/step - loss: 7.3147 - val_loss: 1.6843 - lr: 6.0805e-05\n",
      "Epoch 166/200\n",
      "249/249 [==============================] - 0s 1ms/step - loss: 7.3560 - val_loss: 1.4472 - lr: 6.0805e-05\n",
      "Epoch 167/200\n",
      "249/249 [==============================] - 0s 1ms/step - loss: 7.2811 - val_loss: 1.4590 - lr: 6.0805e-05\n",
      "Epoch 168/200\n",
      "249/249 [==============================] - 0s 1ms/step - loss: 7.3776 - val_loss: 1.5056 - lr: 6.0805e-05\n",
      "Epoch 169/200\n",
      "249/249 [==============================] - 0s 1ms/step - loss: 7.1250 - val_loss: 1.5726 - lr: 6.0805e-05\n",
      "Epoch 170/200\n",
      "249/249 [==============================] - 0s 1ms/step - loss: 7.3069 - val_loss: 1.4513 - lr: 6.0805e-05\n",
      "Epoch 171/200\n",
      "249/249 [==============================] - 0s 1ms/step - loss: 7.3579 - val_loss: 1.4826 - lr: 6.0805e-05\n",
      "Epoch 172/200\n",
      "249/249 [==============================] - 0s 1ms/step - loss: 7.3262 - val_loss: 1.5095 - lr: 6.0805e-05\n",
      "Epoch 173/200\n",
      "249/249 [==============================] - 0s 1ms/step - loss: 7.3186 - val_loss: 1.4652 - lr: 6.0805e-05\n",
      "Epoch 174/200\n",
      "249/249 [==============================] - 0s 1ms/step - loss: 7.2376 - val_loss: 1.4908 - lr: 6.0805e-05\n",
      "Epoch 175/200\n",
      "249/249 [==============================] - 0s 1ms/step - loss: 7.1991 - val_loss: 1.4606 - lr: 6.0805e-05\n",
      "Epoch 176/200\n",
      "227/249 [==========================>...] - ETA: 0s - loss: 7.3245\n",
      "Epoch 176: ReduceLROnPlateau reducing learning rate to 3.0402281481656246e-05.\n",
      "249/249 [==============================] - 0s 2ms/step - loss: 7.3474 - val_loss: 1.4819 - lr: 6.0805e-05\n",
      "Epoch 177/200\n",
      "249/249 [==============================] - 0s 2ms/step - loss: 7.3418 - val_loss: 1.4639 - lr: 3.0402e-05\n",
      "Epoch 178/200\n",
      "249/249 [==============================] - 0s 1ms/step - loss: 7.3381 - val_loss: 1.5148 - lr: 3.0402e-05\n",
      "Epoch 179/200\n",
      "249/249 [==============================] - 0s 1ms/step - loss: 7.2101 - val_loss: 1.4520 - lr: 3.0402e-05\n",
      "Epoch 180/200\n",
      "249/249 [==============================] - 0s 2ms/step - loss: 7.3819 - val_loss: 1.4602 - lr: 3.0402e-05\n",
      "Epoch 181/200\n",
      "249/249 [==============================] - 0s 2ms/step - loss: 7.2553 - val_loss: 1.4468 - lr: 3.0402e-05\n",
      "Epoch 182/200\n",
      "249/249 [==============================] - 1s 2ms/step - loss: 7.2223 - val_loss: 1.4394 - lr: 3.0402e-05\n",
      "Epoch 183/200\n",
      "249/249 [==============================] - 0s 2ms/step - loss: 7.2429 - val_loss: 1.4505 - lr: 3.0402e-05\n",
      "Epoch 184/200\n",
      "249/249 [==============================] - 0s 1ms/step - loss: 7.3502 - val_loss: 1.4655 - lr: 3.0402e-05\n",
      "Epoch 185/200\n",
      "249/249 [==============================] - 0s 1ms/step - loss: 7.2910 - val_loss: 1.4353 - lr: 3.0402e-05\n",
      "Epoch 186/200\n",
      "249/249 [==============================] - 0s 1ms/step - loss: 7.1176 - val_loss: 1.4275 - lr: 3.0402e-05\n",
      "Epoch 187/200\n",
      "249/249 [==============================] - 0s 1ms/step - loss: 7.3413 - val_loss: 1.4567 - lr: 3.0402e-05\n",
      "Epoch 188/200\n",
      "249/249 [==============================] - 0s 1ms/step - loss: 7.1452 - val_loss: 1.4365 - lr: 3.0402e-05\n",
      "Epoch 189/200\n",
      "249/249 [==============================] - 0s 1ms/step - loss: 7.4237 - val_loss: 1.4552 - lr: 3.0402e-05\n",
      "Epoch 190/200\n",
      "249/249 [==============================] - 0s 1ms/step - loss: 7.2830 - val_loss: 1.4484 - lr: 3.0402e-05\n",
      "Epoch 191/200\n",
      "249/249 [==============================] - 0s 1ms/step - loss: 7.3168 - val_loss: 1.4447 - lr: 3.0402e-05\n",
      "Epoch 192/200\n",
      "249/249 [==============================] - 0s 1ms/step - loss: 7.2046 - val_loss: 1.4656 - lr: 3.0402e-05\n",
      "Epoch 193/200\n",
      "249/249 [==============================] - 0s 1ms/step - loss: 7.2099 - val_loss: 1.4340 - lr: 3.0402e-05\n",
      "Epoch 194/200\n",
      "249/249 [==============================] - 0s 1ms/step - loss: 7.2933 - val_loss: 1.4297 - lr: 3.0402e-05\n",
      "Epoch 195/200\n",
      "249/249 [==============================] - 0s 1ms/step - loss: 7.3344 - val_loss: 1.4466 - lr: 3.0402e-05\n",
      "Epoch 196/200\n",
      "209/249 [========================>.....] - ETA: 0s - loss: 7.3559\n",
      "Epoch 196: ReduceLROnPlateau reducing learning rate to 1.5201140740828123e-05.\n",
      "249/249 [==============================] - 0s 1ms/step - loss: 7.3488 - val_loss: 1.4417 - lr: 3.0402e-05\n",
      "Epoch 197/200\n",
      "249/249 [==============================] - 0s 1ms/step - loss: 7.1782 - val_loss: 1.4300 - lr: 1.5201e-05\n",
      "Epoch 198/200\n",
      "249/249 [==============================] - 0s 1ms/step - loss: 7.2679 - val_loss: 1.4334 - lr: 1.5201e-05\n",
      "Epoch 199/200\n",
      "249/249 [==============================] - 0s 1ms/step - loss: 7.3284 - val_loss: 1.4331 - lr: 1.5201e-05\n",
      "Epoch 200/200\n",
      "249/249 [==============================] - 0s 1ms/step - loss: 7.3160 - val_loss: 1.4332 - lr: 1.5201e-05\n"
     ]
    }
   ],
   "source": [
    "# Train the model\n",
    "history = model.fit(\n",
    "    X_train_scaled, y_train,\n",
    "    validation_split=0.2,\n",
    "    epochs=200,\n",
    "    batch_size=64,\n",
    "    callbacks=[early_stopping, reduce_lr],\n",
    "    verbose=1\n",
    ")"
   ]
  },
  {
   "cell_type": "code",
   "execution_count": 345,
   "id": "19b6665a-3457-4499-8f94-dfe79f0699b4",
   "metadata": {},
   "outputs": [],
   "source": [
    "losses = pd.DataFrame(history.history)"
   ]
  },
  {
   "cell_type": "code",
   "execution_count": 347,
   "id": "fda9fca4-43b9-43fa-91e5-df9accf4421e",
   "metadata": {},
   "outputs": [
    {
     "data": {
      "text/plain": [
       "<Axes: >"
      ]
     },
     "execution_count": 347,
     "metadata": {},
     "output_type": "execute_result"
    },
    {
     "data": {
      "image/png": "[encoded data removed]",
      "text/plain": [
       "<Figure size 640x480 with 1 Axes>"
      ]
     },
     "metadata": {},
     "output_type": "display_data"
    }
   ],
   "source": [
    "losses[['loss','val_loss']].plot()"
   ]
  },
  {
   "cell_type": "code",
   "execution_count": 349,
   "id": "6122bd2f-fbe2-4942-893b-9bd90d859540",
   "metadata": {},
   "outputs": [
    {
     "name": "stdout",
     "output_type": "stream",
     "text": [
      "622/622 [==============================] - 0s 366us/step\n",
      "156/156 [==============================] - 0s 386us/step\n"
     ]
    }
   ],
   "source": [
    "train_predictions = model.predict(X_train_scaled)\n",
    "test_predictions = model.predict(X_test_scaled)\n",
    "\n",
    "train_predictions = train_predictions.ravel()\n",
    "test_predictions = test_predictions.ravel()"
   ]
  },
  {
   "cell_type": "code",
   "execution_count": 351,
   "id": "072c2c5c-e860-4252-bb88-114cc94b0dab",
   "metadata": {},
   "outputs": [
    {
     "name": "stdout",
     "output_type": "stream",
     "text": [
      "Train RMSE: 1.17\n",
      "Test RMSE: 1.20\n"
     ]
    }
   ],
   "source": [
    "train_rmse = np.sqrt(mean_squared_error(y_train, train_predictions))\n",
    "test_rmse = np.sqrt(mean_squared_error(y_test, test_predictions))\n",
    "print('Train RMSE:', f'{train_rmse:.2f}')\n",
    "print('Test RMSE:', f'{test_rmse:.2f}')"
   ]
  },
  {
   "cell_type": "code",
   "execution_count": 353,
   "id": "385f7ffa-1ef5-4cfa-b636-c41517136f75",
   "metadata": {},
   "outputs": [
    {
     "name": "stdout",
     "output_type": "stream",
     "text": [
      "Train correlation (R^2): 0.89\n",
      "Test correlation (R^2): 0.89\n"
     ]
    }
   ],
   "source": [
    "# Correlation values\n",
    "train_r_sq = pearsonr(y_train, train_predictions)[0]\n",
    "test_r_sq = pearsonr(y_test, test_predictions)[0]\n",
    "print('Train correlation (R^2):', round(train_r_sq, 2))\n",
    "print('Test correlation (R^2):', round(test_r_sq, 2))"
   ]
  },
  {
   "cell_type": "code",
   "execution_count": 355,
   "id": "4af88084-e99d-496d-b56f-7af1a11f7771",
   "metadata": {},
   "outputs": [
    {
     "data": {
      "image/png": "[encoded data removed]",
      "text/plain": [
       "<Figure size 500x500 with 1 Axes>"
      ]
     },
     "metadata": {},
     "output_type": "display_data"
    }
   ],
   "source": [
    "# Scatter plot for model performance\n",
    "plt.figure(figsize=(5, 5))\n",
    "plt.scatter(y_train, train_predictions, s=10, c='C0', label=f'Train $R^2$={round(train_r_sq, 2)}')\n",
    "plt.scatter(y_test, test_predictions, marker='x', s=10, c='orange', label=f'Test $R^2$={round(test_r_sq, 2)}')\n",
    "p1 = max(max(train_predictions), max(y_train))\n",
    "p2 = min(min(train_predictions), min(y_train))\n",
    "plt.plot([p1, p2], [p1, p2], 'black', label='1:1 line', linewidth=1)\n",
    "plt.xlabel('True Life Expectancy')\n",
    "plt.ylabel('Predicted Life Expectancy')\n",
    "plt.title(\"Performance Scatter Plot for Life Expectancy\")\n",
    "plt.legend()\n",
    "plt.grid(axis='both', linewidth=0.15)\n",
    "plt.show()"
   ]
  },
  {
   "cell_type": "code",
   "execution_count": 357,
   "id": "10cd0c47-1c4a-4047-92c6-33f2e0ed297d",
   "metadata": {},
   "outputs": [
    {
     "data": {
      "text/plain": [
       "<Figure size 500x500 with 0 Axes>"
      ]
     },
     "metadata": {},
     "output_type": "display_data"
    },
    {
     "data": {
      "image/png": "[encoded data removed]",
      "text/plain": [
       "<Figure size 640x480 with 1 Axes>"
      ]
     },
     "metadata": {},
     "output_type": "display_data"
    }
   ],
   "source": [
    "# Quantile-Quantile Plot\n",
    "all_predictions = np.concatenate((train_predictions, test_predictions))\n",
    "all_targets = np.concatenate((y_train, y_test))\n",
    "\n",
    "predictions_sorted = np.sort(all_predictions)\n",
    "targets_sorted = np.sort(all_targets)\n",
    "\n",
    "plt.figure(figsize=(5, 5))\n",
    "pp_x = sm.ProbPlot(predictions_sorted, fit=False)\n",
    "pp_y = sm.ProbPlot(targets_sorted, fit=False)\n",
    "qq = pp_x.qqplot(xlabel='True Life Expectancy', ylabel='Estimated Life Expectancy', marker='x', markersize=4, other=pp_y)\n",
    "\n",
    "# Draw the 45-degree line\n",
    "sm.qqline(qq.axes[0], line='45', fmt='r', linewidth=1)\n",
    "\n",
    "# Highlight percentiles for interpretation\n",
    "targets_25 = np.percentile(targets_sorted, 25)\n",
    "targets_50 = np.percentile(targets_sorted, 50)\n",
    "targets_75 = np.percentile(targets_sorted, 75)\n",
    "targets_90 = np.percentile(targets_sorted, 90)\n",
    "\n",
    "predictions_25 = np.percentile(predictions_sorted, 25)\n",
    "predictions_50 = np.percentile(predictions_sorted, 50)\n",
    "predictions_75 = np.percentile(predictions_sorted, 75)\n",
    "predictions_90 = np.percentile(predictions_sorted, 90)\n",
    "\n",
    "# Plotting the percentile markers\n",
    "plt.plot(targets_25, predictions_25, marker=\"D\", markersize=5, color=\"orange\", linestyle='None', label=\"25th Percentile\")\n",
    "plt.plot(targets_50, predictions_50, marker=\"D\", markersize=5, color=\"violet\", linestyle='None', label=\"50th Percentile\")\n",
    "plt.plot(targets_75, predictions_75, marker=\"D\", markersize=5, color=\"cyan\", linestyle='None', label=\"75th Percentile\")\n",
    "plt.plot(targets_90, predictions_90, marker=\"D\", markersize=5, color=\"green\", linestyle='None', label=\"90th Percentile\")\n",
    "\n",
    "plt.title('Quantile-Quantile Plot of Life Expectancy', fontsize=14, fontweight=\"bold\")\n",
    "plt.grid(axis='both', linewidth=0.15)\n",
    "plt.legend()\n",
    "plt.show()"
   ]
  },
  {
   "cell_type": "code",
   "execution_count": null,
   "id": "a251dd8f-d9dd-485d-939d-97f60fc0cc07",
   "metadata": {},
   "outputs": [],
   "source": []
  }
 ],
 "metadata": {
  "kernelspec": {
   "display_name": "Python (main_env)",
   "language": "python",
   "name": "main_env"
  },
  "language_info": {
   "codemirror_mode": {
    "name": "ipython",
    "version": 3
   },
   "file_extension": ".py",
   "mimetype": "text/x-python",
   "name": "python",
   "nbconvert_exporter": "python",
   "pygments_lexer": "ipython3",
   "version": "3.9.15"
  }
 },
 "nbformat": 4,
 "nbformat_minor": 5
}
