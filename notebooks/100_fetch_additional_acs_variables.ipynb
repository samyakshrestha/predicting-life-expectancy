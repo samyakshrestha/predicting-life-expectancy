{
 "cells": [
  {
   "cell_type": "code",
   "execution_count": 9,
   "id": "758db5e6-a419-4849-b1f6-9c56a3b40f4b",
   "metadata": {},
   "outputs": [],
   "source": [
    "import sys\n",
    "sys.path.append('../src')  # Add the src folder to the Python path\n",
    "\n",
    "from utils import fetch_and_merge_acs_variable_summary, fetch_and_merge_acs_variable"
   ]
  },
  {
   "cell_type": "code",
   "execution_count": 11,
   "id": "a98bd826-8362-4398-afe6-abfb2c4ace08",
   "metadata": {},
   "outputs": [
    {
     "name": "stdout",
     "output_type": "stream",
     "text": [
      "Loading preprocessed data for 2012...\n",
      "Fetching age_18_and_under_percentage (S0101_C02_022E) from the Census API for 2012...\n",
      "Task completed. Final dataset saved: ../data/processed/final_dataset/dataset_with_age_18_and_under_percentage_2012.csv\n",
      "Loading preprocessed data for 2013...\n",
      "Fetching age_18_and_under_percentage (S0101_C02_022E) from the Census API for 2013...\n",
      "Task completed. Final dataset saved: ../data/processed/final_dataset/dataset_with_age_18_and_under_percentage_2013.csv\n",
      "Loading preprocessed data for 2014...\n",
      "Fetching age_18_and_under_percentage (S0101_C02_022E) from the Census API for 2014...\n",
      "Task completed. Final dataset saved: ../data/processed/final_dataset/dataset_with_age_18_and_under_percentage_2014.csv\n",
      "Loading preprocessed data for 2015...\n",
      "Fetching age_18_and_under_percentage (S0101_C02_022E) from the Census API for 2015...\n",
      "Task completed. Final dataset saved: ../data/processed/final_dataset/dataset_with_age_18_and_under_percentage_2015.csv\n",
      "Loading preprocessed data for 2016...\n",
      "Fetching age_18_and_under_percentage (S0101_C02_022E) from the Census API for 2016...\n",
      "Task completed. Final dataset saved: ../data/processed/final_dataset/dataset_with_age_18_and_under_percentage_2016.csv\n",
      "Loading preprocessed data for 2017...\n",
      "Fetching age_18_and_under_percentage (S0101_C02_022E) from the Census API for 2017...\n",
      "Task completed. Final dataset saved: ../data/processed/final_dataset/dataset_with_age_18_and_under_percentage_2017.csv\n",
      "Loading preprocessed data for 2018...\n",
      "Fetching age_18_and_under_percentage (S0101_C02_022E) from the Census API for 2018...\n",
      "Task completed. Final dataset saved: ../data/processed/final_dataset/dataset_with_age_18_and_under_percentage_2018.csv\n",
      "Loading preprocessed data for 2019...\n",
      "Fetching age_18_and_under_percentage (S0101_C02_022E) from the Census API for 2019...\n",
      "Task completed. Final dataset saved: ../data/processed/final_dataset/dataset_with_age_18_and_under_percentage_2019.csv\n"
     ]
    }
   ],
   "source": [
    "# Age features\n",
    "variables = [\n",
    "    {'code': 'S0101_C02_022E', 'name': 'age_18_and_under_percentage'}\n",
    "    ]\n",
    "for year in range(2012, 2020):\n",
    "    for var in variables:\n",
    "        fetch_and_merge_acs_variable_summary(\n",
    "            variable_code=var['code'],\n",
    "            variable_name=var['name'],\n",
    "            year=year,\n",
    "            api_key='2a58865a16f7670d452bcfcb4a5b767db1ce8973'\n",
    "        )"
   ]
  },
  {
   "cell_type": "code",
   "execution_count": null,
   "id": "0223824a-4f0d-4b5b-9bcd-38d4550dbdd1",
   "metadata": {},
   "outputs": [],
   "source": []
  }
 ],
 "metadata": {
  "kernelspec": {
   "display_name": "Python (main_env)",
   "language": "python",
   "name": "main_env"
  },
  "language_info": {
   "codemirror_mode": {
    "name": "ipython",
    "version": 3
   },
   "file_extension": ".py",
   "mimetype": "text/x-python",
   "name": "python",
   "nbconvert_exporter": "python",
   "pygments_lexer": "ipython3",
   "version": "3.9.18"
  }
 },
 "nbformat": 4,
 "nbformat_minor": 5
}
