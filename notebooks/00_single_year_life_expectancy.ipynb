{
 "cells": [
  {
   "cell_type": "markdown",
   "id": "2ead18da-21bf-4b96-b453-82237df1e72b",
   "metadata": {},
   "source": [
    "#### Motivation\n",
    "\n",
    "In this project, we are interested in predicting the life expectency of people of age group less than 1 year old. Or, more specifically, the \"life expectancy at birth.\"\n",
    "\n",
    "Lets first get the dataset of just a single year, so that we can apply the process to a small dataset before applying to a large dataset.\n",
    "\n",
    "Once we have the dataset for each individual year, we can then combine them all into a single, larger dataset that includes the information for all the years."
   ]
  },
  {
   "cell_type": "markdown",
   "id": "1a148427-4115-4a09-81c8-1491109eba0e",
   "metadata": {},
   "source": [
    "The function below allows us to extract the dataset for a single year. Only the rows with 'age_name' == '<1' and 'race_name' == 'total' are considered. "
   ]
  },
  {
   "cell_type": "code",
   "execution_count": 7,
   "id": "b4d48380-0652-4dac-80e9-711acac1341b",
   "metadata": {},
   "outputs": [],
   "source": [
    "import pandas as pd "
   ]
  },
  {
   "cell_type": "code",
   "execution_count": 9,
   "id": "e0d41352-e9a4-4e2a-b862-ea4865eb8ff9",
   "metadata": {},
   "outputs": [],
   "source": [
    "def process_life_expectancy_data(year):\n",
    "    \"\"\"\n",
    "    Processes life expectancy data for a specific year.\n",
    "    \n",
    "    Parameters:\n",
    "    year (int): The year for which the data needs to be processed (e.g., 2010).\n",
    "    \n",
    "    Returns:\n",
    "    None: Saves the processed CSV file in the specified directory.\n",
    "    \"\"\"\n",
    "    # Construct the input file path dynamically\n",
    "    input_file_path = f\"../data/raw/IHME_USA_COD_COUNTY_RACE_ETHN_2000_2019_LT_BOTH 2/IHME_USA_COD_COUNTY_RACE_ETHN_2000_2019_LT_{year}_ALL_BOTH_Y2023M06D12.CSV\"\n",
    "    \n",
    "    # Read the raw data\n",
    "    df1 = pd.read_csv(input_file_path)\n",
    "\n",
    "    # Filter for rows where race_name is 'Total' and age_name is '<1 year'\n",
    "    df2 = df1[(df1['race_name'] == 'Total') & (df1['age_name'] == '<1 year')]\n",
    "\n",
    "    # Remove empty cells\n",
    "    df3 = df2.dropna()\n",
    "\n",
    "    # Keep only county-level data (fips > 60)\n",
    "    df4 = df3[(df3['fips'] > 60)]\n",
    "\n",
    "    # Drop unnecessary columns\n",
    "    columns_to_drop = ['measure_id', 'location_id', 'fips', 'measure_name', 'race_id',\n",
    "                       'race_name', 'sex_id', 'sex_name', 'age_group_id', 'age_name',\n",
    "                       'metric_id', 'metric_name', 'upper', 'lower']\n",
    "    df5 = df4.drop(columns=columns_to_drop)\n",
    "\n",
    "    # Rename the 'val' column to 'MeanLifeExpectency'\n",
    "    df5 = df5.rename(columns={'val': 'mean_life_expectancy'})\n",
    "\n",
    "    # Output file path for the processed CSV\n",
    "    output_file_path = f\"../data/processed/le_single_year/life_expectancy_{year}.csv\"\n",
    "\n",
    "    # Save the processed data to a CSV file\n",
    "    df5.to_csv(output_file_path, index=False)\n",
    "\n",
    "    print(f\"Processed life expectancy data for {year} saved to {output_file_path}\")\n",
    "\n",
    "# Example usage:\n",
    "# process_life_expectancy_data(2010)\n",
    "# process_life_expectancy_data(2019)"
   ]
  },
  {
   "cell_type": "code",
   "execution_count": 39,
   "id": "eb5aa33e-1cee-41e2-a03f-4232f24e6c8e",
   "metadata": {},
   "outputs": [
    {
     "name": "stdout",
     "output_type": "stream",
     "text": [
      "Processed life expectancy data for 2010 saved to ../data/processed/le_single_year/life_expectancy_2010.csv\n"
     ]
    }
   ],
   "source": [
    "process_life_expectancy_data(2010)"
   ]
  },
  {
   "cell_type": "code",
   "execution_count": 11,
   "id": "a412ad92-9f63-461e-a0ce-dd51ee6bf0e2",
   "metadata": {},
   "outputs": [
    {
     "name": "stdout",
     "output_type": "stream",
     "text": [
      "Processed life expectancy data for 2010 saved to ../data/processed/le_single_year/life_expectancy_2010.csv\n",
      "Processed life expectancy data for 2011 saved to ../data/processed/le_single_year/life_expectancy_2011.csv\n",
      "Processed life expectancy data for 2012 saved to ../data/processed/le_single_year/life_expectancy_2012.csv\n",
      "Processed life expectancy data for 2013 saved to ../data/processed/le_single_year/life_expectancy_2013.csv\n",
      "Processed life expectancy data for 2014 saved to ../data/processed/le_single_year/life_expectancy_2014.csv\n",
      "Processed life expectancy data for 2015 saved to ../data/processed/le_single_year/life_expectancy_2015.csv\n",
      "Processed life expectancy data for 2016 saved to ../data/processed/le_single_year/life_expectancy_2016.csv\n",
      "Processed life expectancy data for 2017 saved to ../data/processed/le_single_year/life_expectancy_2017.csv\n",
      "Processed life expectancy data for 2018 saved to ../data/processed/le_single_year/life_expectancy_2018.csv\n",
      "Processed life expectancy data for 2019 saved to ../data/processed/le_single_year/life_expectancy_2019.csv\n"
     ]
    }
   ],
   "source": [
    "for year in range(2010,2020):\n",
    "    process_life_expectancy_data(year)"
   ]
  },
  {
   "cell_type": "code",
   "execution_count": null,
   "id": "2d2e7fa2-7251-406f-bf9f-0d726415643c",
   "metadata": {},
   "outputs": [],
   "source": []
  }
 ],
 "metadata": {
  "kernelspec": {
   "display_name": "Python (main_env)",
   "language": "python",
   "name": "main_env"
  },
  "language_info": {
   "codemirror_mode": {
    "name": "ipython",
    "version": 3
   },
   "file_extension": ".py",
   "mimetype": "text/x-python",
   "name": "python",
   "nbconvert_exporter": "python",
   "pygments_lexer": "ipython3",
   "version": "3.9.18"
  }
 },
 "nbformat": 4,
 "nbformat_minor": 5
}
