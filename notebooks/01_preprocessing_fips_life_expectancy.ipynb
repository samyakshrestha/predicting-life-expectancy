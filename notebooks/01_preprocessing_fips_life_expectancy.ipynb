{
 "cells": [
  {
   "cell_type": "code",
   "execution_count": 89,
   "id": "6743c082-c355-4745-8034-96937f31afff",
   "metadata": {},
   "outputs": [],
   "source": [
    "import pandas as pd"
   ]
  },
  {
   "cell_type": "code",
   "execution_count": 91,
   "id": "2057ce05-b165-4f36-90fd-cf08095b4eed",
   "metadata": {},
   "outputs": [],
   "source": [
    "def preprocess_fips_life(year):\n",
    "    \"\"\"\n",
    "    Preprocesses and merges FIPS data with life expectancy data for a given year.\n",
    "    \n",
    "    Parameters:\n",
    "    year (int): The year of the life expectancy data (e.g., 2011).\n",
    "    \n",
    "    Returns:\n",
    "    pd.DataFrame: Preprocessed DataFrame ready for analysis.\n",
    "    \"\"\"\n",
    "    # Fixed file paths\n",
    "    fips_path = '../data/raw/state_fips.csv'\n",
    "    life_expectancy_path = f'../data/processed/le_single_year/life_expectancy_{year}.csv'\n",
    "\n",
    "    # Load and preprocess FIPS codes\n",
    "    fips_df = pd.read_csv(fips_path, dtype={'fips': str})\n",
    "    fips_df['fips'] = fips_df['fips'].str.zfill(5)  # Ensure all FIPS codes are 5 characters\n",
    "    fips_df['State_FIPS'] = fips_df['fips'].str[:2]\n",
    "    fips_df['County_FIPS'] = fips_df['fips'].str[2:]\n",
    "    fips_df['state_full'] = fips_df['state'].map({\n",
    "        'AL': 'Alabama', 'AK': 'Alaska', 'AZ': 'Arizona', 'AR': 'Arkansas',\n",
    "        'CA': 'California', 'CO': 'Colorado', 'CT': 'Connecticut', 'DE': 'Delaware',\n",
    "        'FL': 'Florida', 'GA': 'Georgia', 'HI': 'Hawaii', 'ID': 'Idaho',\n",
    "        'IL': 'Illinois', 'IN': 'Indiana', 'IA': 'Iowa', 'KS': 'Kansas',\n",
    "        'KY': 'Kentucky', 'LA': 'Louisiana', 'ME': 'Maine', 'MD': 'Maryland',\n",
    "        'MA': 'Massachusetts', 'MI': 'Michigan', 'MN': 'Minnesota', 'MS': 'Mississippi',\n",
    "        'MO': 'Missouri', 'MT': 'Montana', 'NE': 'Nebraska', 'NV': 'Nevada',\n",
    "        'NH': 'New Hampshire', 'NJ': 'New Jersey', 'NM': 'New Mexico', 'NY': 'New York',\n",
    "        'NC': 'North Carolina', 'ND': 'North Dakota', 'OH': 'Ohio', 'OK': 'Oklahoma',\n",
    "        'OR': 'Oregon', 'PA': 'Pennsylvania', 'RI': 'Rhode Island', 'SC': 'South Carolina',\n",
    "        'SD': 'South Dakota', 'TN': 'Tennessee', 'TX': 'Texas', 'UT': 'Utah',\n",
    "        'VT': 'Vermont', 'VA': 'Virginia', 'WA': 'Washington', 'WV': 'West Virginia',\n",
    "        'WI': 'Wisconsin', 'WY': 'Wyoming'\n",
    "    })\n",
    "\n",
    "    # Load and preprocess life expectancy data\n",
    "    life_df = pd.read_csv(life_expectancy_path)\n",
    "    life_df[['County', 'State']] = life_df['location_name'].str.extract(r'^(.*) \\((.*)\\)$')\n",
    "    life_df = life_df[['County', 'State']].apply(lambda x: x.str.strip())\n",
    "\n",
    "    # Merge FIPS and life expectancy data\n",
    "    merged_df = pd.merge(\n",
    "        life_df,\n",
    "        fips_df[['State_FIPS', 'County_FIPS', 'name', 'state_full']],\n",
    "        left_on=['State', 'County'],\n",
    "        right_on=['state_full', 'name'],\n",
    "        how='left'\n",
    "    )\n",
    "\n",
    "    # Drop redundant columns and return\n",
    "    return merged_df.drop(columns=['name', 'state_full'])"
   ]
  },
  {
   "cell_type": "code",
   "execution_count": 93,
   "id": "10ad687d-1cb0-46a8-a846-1d3668c1820d",
   "metadata": {},
   "outputs": [
    {
     "name": "stdout",
     "output_type": "stream",
     "text": [
      "Preprocessed file saved.\n"
     ]
    }
   ],
   "source": [
    "# Example usage\n",
    "preprocessed_df = preprocess_fips_life(2012)\n",
    "preprocessed_df.dropna(inplace=True)\n",
    "preprocessed_df.to_csv('../data/processed/preprocessed_fips_life_expectancy/preprocessed_life_fips_2012.csv', index=False)\n",
    "print(\"Preprocessed file saved.\")"
   ]
  },
  {
   "cell_type": "code",
   "execution_count": 95,
   "id": "dc7a96c9-e747-4aaf-87e8-0e422c4dfb22",
   "metadata": {},
   "outputs": [],
   "source": [
    "for year in range(2010, 2020):\n",
    "    df = preprocess_fips_life(year)\n",
    "    df.dropna(inplace=True)\n",
    "    df.to_csv(f'../data/processed/preprocessed_fips_life_expectancy/preprocessed_life_fips_{year}.csv', index=False)"
   ]
  },
  {
   "cell_type": "code",
   "execution_count": 102,
   "id": "cdced7c0-db7a-436c-bcb8-f093f01bd643",
   "metadata": {},
   "outputs": [],
   "source": [
    "def preprocess_fips_life(year):\n",
    "    \"\"\"\n",
    "    Preprocesses and merges FIPS data with life expectancy data for a given year.\n",
    "    \n",
    "    Parameters:\n",
    "    year (int): The year of the life expectancy data (e.g., 2011).\n",
    "    \n",
    "    Returns:\n",
    "    pd.DataFrame: Preprocessed DataFrame with life expectancy and FIPS codes.\n",
    "    \"\"\"\n",
    "    # Fixed file paths\n",
    "    fips_path = '../data/raw/state_fips.csv'\n",
    "    life_expectancy_path = f'../data/processed/le_single_year/life_expectancy_{year}.csv'\n",
    "\n",
    "    # Load and preprocess FIPS codes\n",
    "    fips_df = pd.read_csv(fips_path, dtype={'fips': str})\n",
    "    fips_df['fips'] = fips_df['fips'].str.zfill(5)  # Ensure all FIPS codes are 5 characters\n",
    "    fips_df['State_FIPS'] = fips_df['fips'].str[:2]\n",
    "    fips_df['County_FIPS'] = fips_df['fips'].str[2:]\n",
    "    fips_df['state_full'] = fips_df['state'].map({\n",
    "        'AL': 'Alabama', 'AK': 'Alaska', 'AZ': 'Arizona', 'AR': 'Arkansas',\n",
    "        'CA': 'California', 'CO': 'Colorado', 'CT': 'Connecticut', 'DE': 'Delaware',\n",
    "        'FL': 'Florida', 'GA': 'Georgia', 'HI': 'Hawaii', 'ID': 'Idaho',\n",
    "        'IL': 'Illinois', 'IN': 'Indiana', 'IA': 'Iowa', 'KS': 'Kansas',\n",
    "        'KY': 'Kentucky', 'LA': 'Louisiana', 'ME': 'Maine', 'MD': 'Maryland',\n",
    "        'MA': 'Massachusetts', 'MI': 'Michigan', 'MN': 'Minnesota', 'MS': 'Mississippi',\n",
    "        'MO': 'Missouri', 'MT': 'Montana', 'NE': 'Nebraska', 'NV': 'Nevada',\n",
    "        'NH': 'New Hampshire', 'NJ': 'New Jersey', 'NM': 'New Mexico', 'NY': 'New York',\n",
    "        'NC': 'North Carolina', 'ND': 'North Dakota', 'OH': 'Ohio', 'OK': 'Oklahoma',\n",
    "        'OR': 'Oregon', 'PA': 'Pennsylvania', 'RI': 'Rhode Island', 'SC': 'South Carolina',\n",
    "        'SD': 'South Dakota', 'TN': 'Tennessee', 'TX': 'Texas', 'UT': 'Utah',\n",
    "        'VT': 'Vermont', 'VA': 'Virginia', 'WA': 'Washington', 'WV': 'West Virginia',\n",
    "        'WI': 'Wisconsin', 'WY': 'Wyoming'\n",
    "    })\n",
    "\n",
    "    # Load and preprocess life expectancy data\n",
    "    life_df = pd.read_csv(life_expectancy_path)\n",
    "    life_df[['County', 'State']] = life_df['location_name'].str.extract(r'^(.*) \\((.*)\\)$')\n",
    "    life_df = life_df[['County', 'State', 'mean_life_expectancy']].apply(lambda x: x.str.strip() if x.name in ['County', 'State'] else x)\n",
    "\n",
    "    # Merge FIPS and life expectancy data\n",
    "    merged_df = pd.merge(\n",
    "        life_df,\n",
    "        fips_df[['State_FIPS', 'County_FIPS', 'name', 'state_full']],\n",
    "        left_on=['State', 'County'],\n",
    "        right_on=['state_full', 'name'],\n",
    "        how='left'\n",
    "    )\n",
    "\n",
    "    # Drop redundant columns and return\n",
    "    return merged_df.drop(columns=['name', 'state_full'])"
   ]
  },
  {
   "cell_type": "code",
   "execution_count": 104,
   "id": "cffdcfac-4ec6-457e-ab10-0ab61583e9f6",
   "metadata": {},
   "outputs": [],
   "source": [
    "for year in range(2010, 2020):\n",
    "    df = preprocess_fips_life(year)\n",
    "    df.dropna(inplace=True)\n",
    "    df.to_csv(f'../data/processed/preprocessed_fips_life_expectancy/preprocessed_life_fips_{year}.csv', index=False)"
   ]
  },
  {
   "cell_type": "code",
   "execution_count": null,
   "id": "8373a0b3-13b2-43a5-9430-ce58dc8da59b",
   "metadata": {},
   "outputs": [],
   "source": []
  }
 ],
 "metadata": {
  "kernelspec": {
   "display_name": "Python (main_env)",
   "language": "python",
   "name": "main_env"
  },
  "language_info": {
   "codemirror_mode": {
    "name": "ipython",
    "version": 3
   },
   "file_extension": ".py",
   "mimetype": "text/x-python",
   "name": "python",
   "nbconvert_exporter": "python",
   "pygments_lexer": "ipython3",
   "version": "3.9.18"
  }
 },
 "nbformat": 4,
 "nbformat_minor": 5
}
